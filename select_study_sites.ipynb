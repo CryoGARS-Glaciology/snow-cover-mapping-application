{
 "cells": [
  {
   "cell_type": "markdown",
   "id": "7ab4884e",
   "metadata": {
    "id": "1d820d5f-e3fc-4808-b317-093d1a664a70"
   },
   "source": [
    "# Select study sites using the distribution of RGI glacier areas\n"
   ]
  },
  {
   "cell_type": "code",
   "execution_count": null,
   "id": "a1d9ae85",
   "metadata": {
    "id": "qxYrG9cSAs_S"
   },
   "outputs": [],
   "source": [
    "!pip install contextily"
   ]
  },
  {
   "cell_type": "code",
   "execution_count": null,
   "id": "7b386b21",
   "metadata": {
    "id": "cfa3a8d0-9e9e-4b47-a52d-646f70e5c200",
    "outputId": "59b1101a-bb8a-48dc-d22b-67eb1e7f22b9"
   },
   "outputs": [],
   "source": [
    "import pandas as pd\n",
    "import geopandas as gpd\n",
    "import numpy as np\n",
    "import matplotlib.pyplot as plt\n",
    "import os\n",
    "import glob\n",
    "import operator\n",
    "import contextily as cx"
   ]
  },
  {
   "cell_type": "code",
   "execution_count": null,
   "id": "1222dcd3",
   "metadata": {
    "id": "1041bad1-4cd7-4096-9f87-7223dc785867"
   },
   "outputs": [],
   "source": [
    "# -----Define paths in directory\n",
    "# path to RGI data\n",
    "RGI_path = '/Volumes/GoogleDrive/My Drive/Research/PhD/GIS_data/RGI/'\n",
    "# RGI shapefile names\n",
    "RGI_fns = ['01_rgi60_Alaska/01_rgi60_Alaska.shp',\n",
    "           '02_rgi60_WesternCanadaUS/02_rgi60_WesternCanadaUS.shp']\n",
    "# where to save selected glacier shapefiles\n",
    "out_path = '/Volumes/GoogleDrive/My Drive/Research/PhD/snow_cover_mapping/snow_cover_mapping_application/study-sites/'"
   ]
  },
  {
   "cell_type": "code",
   "execution_count": null,
   "id": "1438bb21",
   "metadata": {
    "id": "22d411c3-c14c-44d5-be8f-a5d1584a073d",
    "scrolled": true,
    "tags": []
   },
   "outputs": [],
   "source": [
    "# -----Load, format, filter, plot RGI glacier outlines\n",
    "# Create geopandas.DataFrame for storing RGIs\n",
    "RGI = gpd.GeoDataFrame()\n",
    "# Read RGI files\n",
    "for RGI_fn in RGI_fns:\n",
    "    file = gpd.read_file(RGI_path + RGI_fn)\n",
    "    RGI = pd.concat([RGI, file])\n",
    "# subset to glaciers with area > 5 km^2\n",
    "RGI_gt5 = RGI.loc[RGI['Area'] > 5].reset_index(drop=True)\n",
    "# change int data types to float for saving\n",
    "RGI_gt5[['Zmin', 'Zmax', 'Zmed', 'Slope', 'Aspect', 'Lmax', 'Status', 'Connect',\n",
    "         'Form', 'TermType', 'Surging', 'Linkages']] = RGI_gt5[['Zmin', 'Zmax', 'Zmed', 'Slope', 'Aspect', 'Lmax',\n",
    "                                                            'Status', 'Connect', 'Form', 'TermType', 'Surging', 'Linkages']].astype(float)\n",
    "# grab list of all unique regions and subregions in dataset\n",
    "regions_subregions = sorted(RGI_gt5[['O1Region', 'O2Region']].drop_duplicates().values,\n",
    "                            key=operator.itemgetter(0, 1))\n",
    "\n",
    "# -----Plot all sites with color distinguishing subregions\n",
    "subregions_names = ['Brooks Range', 'Alaska Range', 'Aleutians', 'W. Chugach Mtns.', 'St. Elias Mtns.',\n",
    "                    'N. Coast Ranges', 'N. Rockies', 'N. Cascades', 'S. Rockies', 'S. Cascades']\n",
    "subregions_colors = ['c', '#1f78b4', '#b2df8a', '#33a02c', '#fb9a99', '#e31a1c',\n",
    "                     '#fdbf6f', '#ff7f00', '#cab2d6', '#6a3d9a']\n",
    "fig1, ax1 = plt.subplots(1, 1, figsize=(12,10))\n",
    "plt.rcParams.update({'font.size':12, 'font.sans-serif':'Arial'})\n",
    "crs = 'EPSG:9822' # Albers Equal Conic projection\n",
    "i=0\n",
    "for region, subregion in regions_subregions:\n",
    "    RGI_gt5_subregion = RGI_gt5.loc[(RGI_gt5['O1Region']==region) & (RGI_gt5['O2Region']==subregion)]\n",
    "    RGI_gt5_subregion_reproj = RGI_gt5_subregion.to_crs(crs)\n",
    "    for j in range(0, len(RGI_gt5_subregion)):\n",
    "        polygon = RGI_gt5_subregion_reproj.iloc[j]['geometry']\n",
    "        if j==0:\n",
    "            label=subregions_names[i]\n",
    "        else:\n",
    "            label='_nolegend_'\n",
    "        ax1.plot(*polygon.exterior.xy, label=label, color=subregions_colors[i])\n",
    "    i+=1\n",
    "cx.add_basemap(ax=ax1, crs=crs, source=cx.providers.Esri.WorldShadedRelief, attribution=False)\n",
    "ax1.legend(loc='center right', title='RGI Subregions', bbox_to_anchor=[1.25, 0.5, 0.2, 0.2])\n",
    "ax1.set_xticklabels([])\n",
    "ax1.set_yticklabels([])\n",
    "ax1.grid()\n",
    "plt.show()\n",
    "\n",
    "# -----Save figure to file\n",
    "fig1.savefig(out_path + '../RGI_regions_1+2.png', facecolor='w', dpi=300)\n",
    "print('RGI subregions figure saved to file')"
   ]
  },
  {
   "cell_type": "code",
   "execution_count": null,
   "id": "a90112f7",
   "metadata": {
    "id": "28367b32-bf20-4051-bce0-ba82425abe73",
    "scrolled": true,
    "tags": []
   },
   "outputs": [],
   "source": [
    "# Select random glaciers from each subregion that represent the overall area distribution\n",
    "# and save shapefiles to out_path\n",
    "\n",
    "nsites = 10 # total number of sites from each subregion\n",
    "count = 0 # glacier count for plotting\n",
    "k=0\n",
    "for region, subregion in regions_subregions:\n",
    "\n",
    "    print('RGI Subregion '+subregions_names[k])\n",
    "    print('----------')\n",
    "\n",
    "    # subset dataset to subregion\n",
    "    RGI_gt5_subregion = RGI_gt5.loc[(RGI_gt5['O1Region']==region) & (RGI_gt5['O2Region']==subregion)]\n",
    "\n",
    "    # calculate min and max glacier areas in subregion\n",
    "    area_min = np.nanmin(RGI_gt5_subregion['Area'].values)\n",
    "    area_max = np.nanmax(RGI_gt5_subregion['Area'].values)\n",
    "\n",
    "    # set up figure\n",
    "    fig2, ax2 = plt.subplots(1, 2, figsize=(12, 6))\n",
    "    # calculate histogram of overall distribution\n",
    "    counts, edges, bars = ax2[0].hist(RGI_gt5_subregion['Area'].values, bins=10,\n",
    "                                  range=[np.round(area_min), np.round(area_max)],\n",
    "                                    edgecolor='k', facecolor='#2b8cbe')\n",
    "\n",
    "    # Plot distributions of slope, area, and aspect for each subregion\n",
    "\n",
    "\n",
    "\n",
    "\n",
    "\n",
    "\n",
    "\n",
    "\n",
    "    # randomly select nsites using the histogram bins\n",
    "    # counts_selected = np.zeros(len(counts), dtype=int)\n",
    "    # print('Selected glaciers:')\n",
    "    # for i in range(0,len(counts)):\n",
    "    #     # identify number of sites to select from each bin\n",
    "    #     counts_selected[i] = int(np.round(counts[i] / len(RGI_gt5_subregion) * nsites))\n",
    "    #     if counts_selected[i] > 0:\n",
    "    #         # subset sites to those within that area bin\n",
    "    #         RGI_gt5_subregion_bin = RGI_gt5_subregion.loc[(RGI_gt5_subregion['Area']>edges[i]) &\n",
    "    #                                                       (RGI_gt5_subregion['Area']<edges[i+1])]\n",
    "    #         # generate counts_selected random numbers\n",
    "    #         Iselected = np.random.randint(low=0, high=len(RGI_gt5_subregion_bin), size=counts_selected[i])\n",
    "    #         RGI_selected = RGI_gt5_subregion_bin.iloc[Iselected]\n",
    "    #         print(RGI_selected[['RGIId', 'Name']].values)\n",
    "            # save selected study sites to file\n",
    "            # for j in range(0,len(RGI_selected)):\n",
    "            #     RGI_select = gpd.GeoDataFrame(RGI_selected.iloc[j]).transpose().reset_index(drop=True)\n",
    "            #     RGI_select.crs = RGI_selected.crs # set CRS\n",
    "            #     RGIId = RGI_select['RGIId'].values[0]\n",
    "            #     out_fn =  RGIId + '.shp'\n",
    "            #     # make folder for study site\n",
    "            #     if os.path.exists(out_path)==False:\n",
    "            #         os.mkdir(out_path)\n",
    "            #     if os.path.exists(out_path + RGIId + '/')==False:\n",
    "            #         os.mkdir(out_path + RGIId + '/')\n",
    "            #     if os.path.exists(out_path + RGIId+ '/AOIs/')==False:\n",
    "            #         os.mkdir(out_path + RGIId+ '/AOIs/')\n",
    "            #     # save file in folder\n",
    "            #     RGI_select.to_file(out_path + RGIId + '/AOIs/' + out_fn)\n",
    "            #     # plot RGI outlines on figure 1\n",
    "            #     RGI_select_reproj = RGI_select.to_crs(crs)\n",
    "            #     polygon = RGI_select_reproj['geometry'].values[0]\n",
    "            #     if count==0:\n",
    "            #         label='Selected sites'\n",
    "            #     else:\n",
    "            #         label='_nolegend_'\n",
    "            #     centroid = polygon.centroid\n",
    "            #     ax1.plot(*centroid.coords.xy, '*k', markersize=5, label=label)\n",
    "            #     count+=1\n",
    "            # print('selected sites saved to shapefiles in out_path.')\n",
    "\n",
    "    # # adjust axes\n",
    "    # ax2[0].bar_label(bars)\n",
    "    # ax2[0].set_xlabel('Glacier area [km$^2$]')\n",
    "    # ax2[0].set_ylabel('Count')\n",
    "    # ax2[0].set_title('Overall areas distribution')\n",
    "    # ax2[0].grid()\n",
    "    # # plot histogram for selected glaciers\n",
    "    # bin_centers = np.array([(edges[i+1]-edges[i])/2+edges[i] for i in range(0, len(edges)-1)])\n",
    "    # ax2[1].bar(bin_centers, counts_selected, width=edges[1]-edges[0], edgecolor='k', facecolor='#feb24c')\n",
    "    # ax2[1].set_xlabel('Glacier area [km$^2$]')\n",
    "    # ax2[1].grid()\n",
    "    fig2.suptitle('RGI Subregion '+subregions_names[k])\n",
    "    plt.show()\n",
    "\n",
    "    print(' ')\n",
    "\n",
    "    k+=1\n",
    "\n",
    "# -----Save figure 1 with selected study sites plotted\n",
    "ax1.legend(loc='best', title='RGI Subregions')\n",
    "fig1.savefig(out_path + '../selected_sites.png', facecolor='w', dpi=300)\n",
    "print('Selected study sites figure to file')"
   ]
  },
  {
   "cell_type": "code",
   "execution_count": null,
   "id": "b08c63a4",
   "metadata": {
    "id": "9c9b5f8e-df5f-4c55-9275-0c3f33807dd2"
   },
   "outputs": [],
   "source": []
  }
 ],
 "metadata": {
  "colab": {
   "provenance": []
  },
  "kernelspec": {
   "display_name": "snow-cover-mapping",
   "language": "python",
   "name": "snow-cover-mapping"
  },
  "language_info": {
   "codemirror_mode": {
    "name": "ipython",
    "version": 3
   },
   "file_extension": ".py",
   "mimetype": "text/x-python",
   "name": "python",
   "nbconvert_exporter": "python",
   "pygments_lexer": "ipython3",
   "version": "3.11.3"
  }
 },
 "nbformat": 4,
 "nbformat_minor": 5
}
