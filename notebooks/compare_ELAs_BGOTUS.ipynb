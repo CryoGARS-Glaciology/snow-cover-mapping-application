{
 "cells": [
  {
   "cell_type": "markdown",
   "id": "3888a548-6533-493f-abb6-b21deaf4d254",
   "metadata": {},
   "source": [
    "# Compare USGS, modeled, and observed ELAs at the BGOTUS"
   ]
  },
  {
   "cell_type": "code",
   "execution_count": null,
   "id": "9ba826dc-fd20-4cb9-9c52-39bd8ccd0016",
   "metadata": {},
   "outputs": [],
   "source": [
    "import os\n",
    "import pandas as pd\n",
    "import geopandas as gpd\n",
    "import numpy as np\n",
    "import matplotlib.pyplot as plt\n",
    "import glob\n",
    "import xarray as xr"
   ]
  },
  {
   "cell_type": "code",
   "execution_count": null,
   "id": "8dd7d93f-75af-4979-a1d6-7748cbdf06de",
   "metadata": {},
   "outputs": [],
   "source": [
    "# Path to glacier snow cover mapping data\n",
    "scm_path = '/Users/raineyaberle/Research/PhD/snow_cover_mapping/'"
   ]
  },
  {
   "cell_type": "code",
   "execution_count": null,
   "id": "c062b9c3-a7c1-4eeb-9455-d9c04350d4aa",
   "metadata": {},
   "outputs": [],
   "source": [
    "# Function to add year and month columns \n",
    "def add_year_month_columns(df):\n",
    "    df['Year'] = pd.DatetimeIndex(df.index).year\n",
    "    df['Month'] = pd.DatetimeIndex(df.index).month\n",
    "    return df"
   ]
  },
  {
   "cell_type": "markdown",
   "id": "cb3a2e0a-721c-441d-92d4-e42689666a52",
   "metadata": {},
   "source": [
    "## Load remotely-sensed ELAs"
   ]
  },
  {
   "cell_type": "code",
   "execution_count": null,
   "id": "fb2f536b-e0c4-4cc8-9cd7-df7949a0e633",
   "metadata": {},
   "outputs": [],
   "source": [
    "# obs_elas_fn = os.path.join(scm_path, 'compiled_data', 'observed_elas.csv')\n",
    "# obs_elas = pd.read_csv(obs_elas_fn, index_col=0)\n",
    "# print('Remotely-sensed ELAs loaded from file.')\n",
    "# # Add Year and month column\n",
    "# obs_elas = add_year_month_columns(obs_elas)\n",
    "\n",
    "# obs_elas\n",
    "scs_fn = os.path.join(scm_path, 'compiled_data', 'all_snow_cover_stats.csv')\n",
    "scs = pd.read_csv(scs_fn)\n",
    "scs['datetime'] = pd.to_datetime(scs['datetime'])\n",
    "scs['Year'] = pd.DatetimeIndex(scs['datetime']).year\n",
    "scs['Month'] = pd.DatetimeIndex(scs['datetime']).month\n",
    "scs"
   ]
  },
  {
   "cell_type": "markdown",
   "id": "20cece27-0b2c-46d7-b0cb-14c4e8fbb96d",
   "metadata": {},
   "source": [
    "## Load BGOTUS ELAs"
   ]
  },
  {
   "cell_type": "code",
   "execution_count": null,
   "id": "cd3a1807-b1e5-4ec2-8b1c-73818a755ea2",
   "metadata": {
    "scrolled": true
   },
   "outputs": [],
   "source": [
    "bgotus_path = os.path.join(scm_path, 'benchmarkGlacier_massBalance')\n",
    "\n",
    "name_rgi_id_dict = {'Gulkana': 'RGI60-01.00570',\n",
    "                    'Wolverine': 'RGI60-01.09162',\n",
    "                    'LemonCreek': 'RGI60-01.01104',\n",
    "                    'Taku': 'RGI60-01.01390',\n",
    "                    'SouthCascade': 'RGI60-02.18778',\n",
    "                    'Sperry': 'RGI60-02.17023'}\n",
    "\n",
    "site_names = list(name_rgi_id_dict.keys())\n",
    "elas_usgs = pd.DataFrame()\n",
    "for site_name in site_names:\n",
    "    elas_fn = os.path.join(bgotus_path, site_name, f'Output_{site_name}_Glacier_Wide_solutions_calibrated.csv')\n",
    "    elas = pd.read_csv(elas_fn)\n",
    "    elas['Name'] = site_name\n",
    "    elas['RGIId'] = name_rgi_id_dict[site_name]\n",
    "    elas_usgs = pd.concat([elas_usgs, elas])\n",
    "elas_usgs = elas_usgs.dropna().reset_index(drop=True)\n",
    "\n",
    "# Add year and month columns\n",
    "elas_usgs['Ba_Date'] = pd.to_datetime(elas_usgs['Ba_Date'], format='mixed')\n",
    "elas_usgs.set_index('Ba_Date', inplace=True)\n",
    "elas_usgs = add_year_month_columns(elas_usgs)\n",
    "\n",
    "elas_usgs"
   ]
  },
  {
   "cell_type": "markdown",
   "id": "55045ecc-aeff-4d3f-9b86-874cbc681a16",
   "metadata": {},
   "source": [
    "## Load modeled ELAs"
   ]
  },
  {
   "cell_type": "code",
   "execution_count": null,
   "id": "b1310889-4403-4b5f-bc59-47d171419c41",
   "metadata": {},
   "outputs": [],
   "source": [
    "mod_elas_fn = os.path.join(scm_path, 'Rounce_et_al_2023', 'modeled_elas.csv')\n",
    "mod_elas = pd.read_csv(mod_elas_fn, index_col=0)\n",
    "print('Modeled ELAs loaded from file.')\n",
    "# Add year and month columns\n",
    "mod_elas = add_year_month_columns(mod_elas)\n",
    "\n",
    "mod_elas"
   ]
  },
  {
   "cell_type": "markdown",
   "id": "5e1ea403-2e7a-4d71-ad02-0ecdeef701cf",
   "metadata": {},
   "source": [
    "## Compare annual ELAs"
   ]
  },
  {
   "cell_type": "code",
   "execution_count": null,
   "id": "371136b8-1379-4bc8-916a-73c03771f015",
   "metadata": {},
   "outputs": [],
   "source": [
    "# Iterate over BGOTUS RGI IDs\n",
    "plt.rcParams.update({'font.size':12, 'font.sans-serif':'Arial'})\n",
    "for name, rgi_id in elas_usgs[['Name', 'RGIId']].drop_duplicates().values:\n",
    "    print(rgi_id, name)\n",
    "    \n",
    "    # subset data to site\n",
    "    elas_usgs_site = elas_usgs.loc[elas_usgs['RGIId']==rgi_id]\n",
    "    mod_elas_site = mod_elas[[rgi_id, 'Year', 'Month']].reset_index()\n",
    "    obs_elas_site = scs.loc[scs['RGIId']==rgi_id]\n",
    "    obs_elas_site.loc[obs_elas_site['ELA_from_AAR_m'] > 1e30, 'ELA_from_AAR_m'] = np.nan\n",
    "\n",
    "    # subtract the minimum elevation to remove any datum biases\n",
    "    # elas_usgs_site['ELA'] -= np.nanmin(obs_elas[rgi_id])\n",
    "    # mod_elas_site[rgi_id] -= np.nanmin(mod_elas[rgi_id])\n",
    "    # obs_elas_site[rgi_id] -= np.nanmin(obs_elas[rgi_id])\n",
    "    \n",
    "    # plot\n",
    "    fig, ax = plt.subplots(1, 2, figsize=(12,6), sharey=True)\n",
    "    # Transient ELAs\n",
    "    ax[0].plot(pd.DatetimeIndex(mod_elas.index), mod_elas_site[rgi_id], '^-c', label='Modeled')\n",
    "    ax[0].plot(obs_elas_site['datetime'], obs_elas_site['ELA_from_AAR_m'], '.b', label='Remotely-sensed')\n",
    "    ax[0].plot(pd.DatetimeIndex(elas_usgs_site.index), elas_usgs_site['ELA'], '*-g', label='USGS')\n",
    "    ax[0].set_xlim(np.datetime64('2010-01-01'), np.datetime64('2024-01-01'))\n",
    "    ax[0].set_ylabel('meters')\n",
    "    ax[0].set_title('Transient ELAs')\n",
    "    ax[0].grid()\n",
    "    # Annual ELAs\n",
    "    ax[1].plot(mod_elas_site.groupby('Year')[rgi_id].max().index,\n",
    "               mod_elas_site.groupby('Year')[rgi_id].max().values,\n",
    "               '^-c', label='Modeled')\n",
    "    ax[1].plot(obs_elas_site.groupby('Year')['ELA_from_AAR_m'].max().index,\n",
    "               obs_elas_site.groupby('Year')['ELA_from_AAR_m'].max().values,\n",
    "               '.-b', label='Remotely-sensed')   \n",
    "    ax[1].plot(elas_usgs_site.groupby('Year')['ELA'].max().index,\n",
    "               elas_usgs_site.groupby('Year')['ELA'].max().values,\n",
    "               '*-g', label='USGS')     \n",
    "    ax[1].set_title('ELAs')\n",
    "    ax[1].grid()\n",
    "    ax[1].set_xlim(2010, 2024)\n",
    "\n",
    "    handles, labels = ax[0].get_legend_handles_labels()\n",
    "    fig.legend(handles, labels, loc='lower center', markerscale=2, ncols=3)\n",
    "\n",
    "    fig.suptitle(f'{rgi_id}: {name}')\n",
    "    plt.show()"
   ]
  },
  {
   "cell_type": "code",
   "execution_count": null,
   "id": "f9d130cb-05c7-4926-84e7-1089c1547706",
   "metadata": {},
   "outputs": [],
   "source": [
    "import rioxarray as rxr\n",
    "dem_fn = '/Volumes/LaCie/raineyaberle/Research/PhD/snow_cover_mapping/study-sites/RGI60-01.09162/DEMs/Wolverine_ArcticDEM_clip_geoid.tif'\n",
    "dem = rxr.open_rasterio(dem_fn)\n",
    "dem"
   ]
  },
  {
   "cell_type": "code",
   "execution_count": null,
   "id": "68f0ae89-2342-4c78-afcb-8ff6904f4763",
   "metadata": {},
   "outputs": [],
   "source": [
    "np.nanmin(dem.data[0]), np.nanmax(dem.data[0])"
   ]
  },
  {
   "cell_type": "code",
   "execution_count": null,
   "id": "0e0d340f-ce60-4160-96fa-eed310094ad6",
   "metadata": {},
   "outputs": [],
   "source": []
  }
 ],
 "metadata": {
  "kernelspec": {
   "display_name": "snow-cover-mapping",
   "language": "python",
   "name": "snow-cover-mapping"
  },
  "language_info": {
   "codemirror_mode": {
    "name": "ipython",
    "version": 3
   },
   "file_extension": ".py",
   "mimetype": "text/x-python",
   "name": "python",
   "nbconvert_exporter": "python",
   "pygments_lexer": "ipython3",
   "version": "3.11.5"
  }
 },
 "nbformat": 4,
 "nbformat_minor": 5
}
