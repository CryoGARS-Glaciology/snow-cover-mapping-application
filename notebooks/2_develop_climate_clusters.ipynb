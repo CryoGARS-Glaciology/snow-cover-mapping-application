{
 "cells": [
  {
   "cell_type": "markdown",
   "id": "536e986a-7006-44bf-a1cb-b5d645515480",
   "metadata": {},
   "source": [
    "# Develop climate clusters for the study sites"
   ]
  },
  {
   "cell_type": "code",
   "execution_count": null,
   "id": "867a1610-f063-4b1c-8311-f40b48572f67",
   "metadata": {},
   "outputs": [],
   "source": [
    "import pandas as pd\n",
    "import geopandas as gpd\n",
    "import os\n",
    "import glob\n",
    "import numpy as np\n",
    "import matplotlib.pyplot as plt\n",
    "from tqdm.auto import tqdm\n",
    "import xarray as xr\n",
    "import seaborn as sns\n",
    "from sklearn.cluster import KMeans\n",
    "from sklearn.preprocessing import MinMaxScaler\n",
    "from scipy.spatial.distance import cdist\n",
    "from sklearn.metrics import silhouette_score\n",
    "import warnings\n",
    "warnings.filterwarnings(\"ignore\")"
   ]
  },
  {
   "cell_type": "markdown",
   "id": "1ae35951-4019-4ad8-82a7-922a236c0fbf",
   "metadata": {},
   "source": [
    "## Load ERA data and glacier boundaries for all sites"
   ]
  },
  {
   "cell_type": "code",
   "execution_count": null,
   "id": "c5f0d1f0-272f-4673-8e23-c56cec184a11",
   "metadata": {},
   "outputs": [],
   "source": [
    "# Load ERA data\n",
    "scm_path = '/Users/raineyaberle/Research/PhD/snow_cover_mapping/'\n",
    "era_fn = os.path.join(scm_path, 'compiled_data', 'all_era_data.csv')\n",
    "era = pd.read_csv(era_fn)\n",
    "# format dates as datetimes\n",
    "era['Date'] = pd.to_datetime(era['Date'])\n",
    "# Add year column\n",
    "era['Year'] = era['Date'].dt.isocalendar().year\n",
    "\n",
    "# Load AOIs\n",
    "aois_fn = os.path.join(scm_path, 'compiled_data', 'all_aois.shp')\n",
    "aois = gpd.read_file(aois_fn)\n",
    "# Add centroid coordinate columns for plotting\n",
    "aois['centroid_x'] = [x.centroid.coords.xy[0][0] for x in aois['geometry']]\n",
    "aois['centroid_y'] = [x.centroid.coords.xy[1][0] for x in aois['geometry']]"
   ]
  },
  {
   "cell_type": "markdown",
   "id": "38d56bb5-8495-4c68-acb6-500699906d0a",
   "metadata": {},
   "source": [
    "## Calculate the mean of annual max. precipitation and temperature range"
   ]
  },
  {
   "cell_type": "code",
   "execution_count": null,
   "id": "cb4c0ee0-3223-441d-acdd-d39bd7651983",
   "metadata": {},
   "outputs": [],
   "source": [
    "# Define output file name\n",
    "mean_climate_fn = os.path.join(scm_path, 'compiled_data', 'mean_climate.csv')\n",
    "\n",
    "# Check if file already exists in directory\n",
    "if os.path.exists(mean_climate_fn):\n",
    "    # Load from file\n",
    "    mean_climate_df = pd.read_csv(mean_climate_fn)\n",
    "    print('Mean climate conditions loaded from file.')\n",
    "\n",
    "else:\n",
    "    # Initialize dataframe for results\n",
    "    mean_climate_df = pd.DataFrame()\n",
    "    \n",
    "    # Iterate over site_names\n",
    "    for site_name in tqdm(era['site_name'].drop_duplicates().values):\n",
    "        era_site = era.loc[era['site_name']==site_name]\n",
    "        mean_max_precip = era_site.groupby(by='Year')['Cumulative_Precipitation_mwe'].max().mean()\n",
    "        mean_max_temp_range = (era_site.groupby(by='Year')['Temperature_Celsius_Adjusted'].max() \n",
    "                               - era_site.groupby(by='Year')['Temperature_Celsius_Adjusted'].min()).mean()\n",
    "        df = pd.DataFrame({'site_name': [site_name], \n",
    "                           'max_annual_precip_mean': [mean_max_precip],\n",
    "                           'max_annual_temp_range_mean': [mean_max_temp_range]})\n",
    "        mean_climate_df = pd.concat([mean_climate_df, df])\n",
    "    mean_climate_df.reset_index(drop=True, inplace=True)\n",
    "\n",
    "    # Save to file\n",
    "    mean_climate_df.to_csv(mean_climate_fn, index=False)\n",
    "    print('Mean climate conditions saved to file:', mean_climate_fn)\n",
    "\n",
    "# Plot\n",
    "fig, ax = plt.subplots()\n",
    "ax.plot(mean_climate_df['max_annual_precip_mean'], mean_climate_df['max_annual_temp_range_mean'], '.')\n",
    "ax.grid()\n",
    "ax.set_xlabel('Mean annual $\\Sigma$(Precipitation) [m.w.e.]')\n",
    "ax.set_ylabel('Mean annual air temperature range [$^o$C]')\n",
    "plt.show()"
   ]
  },
  {
   "cell_type": "markdown",
   "id": "aff10c63-f2fe-48a7-9661-1b983a420411",
   "metadata": {},
   "source": [
    "## Scale the data variables to range from 0 to 1"
   ]
  },
  {
   "cell_type": "code",
   "execution_count": null,
   "id": "5f90ba67-558a-46c2-8609-c952c2e30706",
   "metadata": {},
   "outputs": [],
   "source": [
    "# identify columns to use for clustering\n",
    "feature_cols = ['max_annual_precip_mean', 'max_annual_temp_range_mean']\n",
    "\n",
    "# normalize columns\n",
    "X = mean_climate_df[feature_cols]\n",
    "X_norm = X.copy(deep=True)\n",
    "X_norm[feature_cols] = MinMaxScaler().fit(X).transform(X)\n",
    "\n",
    "# Plot\n",
    "fig, ax = plt.subplots()\n",
    "ax.plot(X_norm['max_annual_precip_mean'], X_norm['max_annual_temp_range_mean'], '.')\n",
    "ax.grid()\n",
    "ax.set_xlabel('Norm. mean annual $\\Sigma$(Precipitation)')\n",
    "ax.set_ylabel('Norm. mean annual air temperature range [$^o$C]')\n",
    "plt.show()"
   ]
  },
  {
   "cell_type": "markdown",
   "id": "9d910f40-7561-4523-93de-8d8e4bfd1f4b",
   "metadata": {},
   "source": [
    "## Estimate the optimal number of clusters"
   ]
  },
  {
   "cell_type": "code",
   "execution_count": null,
   "id": "47fd1274-ab8a-4aa1-823e-3276dbbc6244",
   "metadata": {},
   "outputs": [],
   "source": [
    "# Initialize variables\n",
    "K = np.arange(2,11)\n",
    "\n",
    "# Iterate over number of clusters\n",
    "sil_coefs = []\n",
    "for k in K:\n",
    "    model = KMeans(n_clusters=k).fit(X_norm)\n",
    "    labels = model.predict(X_norm)\n",
    "    sil_coefs.append(silhouette_score(X_norm, labels))\n",
    "\n",
    "# Plot the silhouette coefficients\n",
    "fig, ax = plt.subplots(1, 1, figsize=(6,4))\n",
    "ax.plot(K, sil_coefs, '-b')\n",
    "ax.set_xlabel('Number of clusters')\n",
    "ax.set_ylabel('Silhouette score')\n",
    "ax.grid()\n",
    "plt.show()\n"
   ]
  },
  {
   "cell_type": "markdown",
   "id": "42139d91-499a-4264-adb8-d0f048bd9937",
   "metadata": {},
   "source": [
    "## Cluster the results"
   ]
  },
  {
   "cell_type": "code",
   "execution_count": null,
   "id": "07aa4af4-b51d-45d7-b401-4e6fe154ccc0",
   "metadata": {},
   "outputs": [],
   "source": [
    "# Define colors for clusters\n",
    "n = 5\n",
    "color_palette = sns.color_palette(\"hls\", n)\n",
    "\n",
    "# Fit clusterer to data\n",
    "clusterer = KMeans(n_clusters=n)\n",
    "clusterer = clusterer.fit(X_norm[feature_cols])\n",
    "X['y_pred'] = clusterer.predict(X_norm[feature_cols])\n",
    "\n",
    "# Add to results df \n",
    "X['y_pred'] = X['y_pred'] + 1 # (add 1 so first cluster = 1)\n",
    "mean_climate_df['cluster'] = X['y_pred']\n",
    "\n",
    "# Add cluster number to AOIs\n",
    "aois['cluster'] = ''\n",
    "for site_name in tqdm(mean_climate_df['site_name'].drop_duplicates().values):\n",
    "    aois.loc[aois['RGIId']==site_name, 'cluster'] = mean_climate_df.loc[mean_climate_df['site_name']==site_name, 'cluster'].values[0]\n",
    "aois = aois.loc[aois['cluster']!='']\n",
    "aois.sort_values(by='cluster', inplace=True)\n",
    "\n",
    "# Plot\n",
    "fig, ax = plt.subplots(1, 2, figsize=(12,6))\n",
    "sns.scatterplot(data=X, x='max_annual_precip_mean', y='max_annual_temp_range_mean', hue='y_pred', \n",
    "                palette=color_palette, legend=False, ax=ax[0])\n",
    "# ax[0].grid()\n",
    "ax[0].set_xlabel('Mean annual $\\Sigma$(Precipitation) [m.w.e.]')\n",
    "ax[0].set_ylabel('Mean annual air temperature range [$^o$C]')\n",
    "sns.scatterplot(data=aois, x='centroid_x', y='centroid_y', hue='cluster', \n",
    "                palette=color_palette, legend=True, ax=ax[1])\n",
    "# ax[1].grid()\n",
    "fig.tight_layout()\n",
    "plt.show()"
   ]
  },
  {
   "cell_type": "markdown",
   "id": "459fd31c-bcea-4e6e-b98f-630d8f8bf054",
   "metadata": {},
   "source": [
    "## Assign code names to each cluster based on climate"
   ]
  },
  {
   "cell_type": "code",
   "execution_count": null,
   "id": "da836a53-70eb-4d27-be3d-39a953c0944e",
   "metadata": {},
   "outputs": [],
   "source": [
    "# Initialize columns for cluster name\n",
    "mean_climate_df['clustName'] = ''\n",
    "aois['clustName'] = ''\n",
    "\n",
    "# Iterate over cluster names\n",
    "for i in sorted(mean_climate_df['cluster'].drop_duplicates().values):\n",
    "    # Subset dataframe\n",
    "    mean_climate_cluster_df = mean_climate_df.loc[mean_climate_df['cluster']==i]\n",
    "    # Calculate mean precip. and air temp. range\n",
    "    precip_mean = np.nanmean(mean_climate_cluster_df['max_annual_precip_mean'])\n",
    "    air_temp_range_mean = np.nanmean(mean_climate_cluster_df['max_annual_temp_range_mean'])\n",
    "    # Determine cluster name\n",
    "    if (precip_mean < 0.75) & (air_temp_range_mean < 30):\n",
    "        cluster_name = 'W. Aleutians'\n",
    "    elif (precip_mean < 0.75) & (air_temp_range_mean > 40):\n",
    "        cluster_name = 'Continental'\n",
    "    elif (precip_mean > 1.5) & (air_temp_range_mean > 25):\n",
    "        cluster_name = 'Maritime'\n",
    "    elif (precip_mean < 1.0) & (air_temp_range_mean > 30):\n",
    "        cluster_name = 'Transitional-Continental'\n",
    "    else:\n",
    "        cluster_name = 'Transitional-Maritime'\n",
    "    print(i, cluster_name)\n",
    "    # Add to dataframes\n",
    "    mean_climate_df.loc[mean_climate_df['cluster']==i, 'clustName'] = cluster_name\n",
    "    aois.loc[aois['cluster']==i, 'clustName'] = cluster_name\n",
    "\n",
    "# Save CSV and figure to file\n",
    "mean_climate_fn = os.path.join(scm_path, 'compiled_data', 'climate_clusters.csv')\n",
    "mean_climate_df.to_csv(mean_climate_fn, index=False)\n",
    "print('Results saved to file:', mean_climate_fn)\n",
    "fig_fn = os.path.join(scm_path, 'compiled_data', 'climate_clusters.png')\n",
    "fig.savefig(fig_fn, dpi=250)\n",
    "print('Figure saved to file:', fig_fn)\n",
    "\n",
    "# Save AOIs with cluster variable\n",
    "aois_cluster_fn = os.path.join(scm_path, 'compiled_data', 'all_aois_climate_cluster.shp')\n",
    "aois['cluster'] = aois['cluster'].astype(str)\n",
    "aois.to_file(aois_cluster_fn, index=False)\n",
    "print('AOIs re-saved to file with climate climate cluster:', aois_cluster_fn)\n"
   ]
  },
  {
   "cell_type": "markdown",
   "id": "97dda256-a362-4cfc-b0ad-002cf306dfaa",
   "metadata": {},
   "source": [
    "## Apply Koppen-Geiger climate zone classification to sites \n",
    "\n",
    "### _Too broad, almost all sites in one category_\n",
    "\n",
    "From Beck et al. (2023): https://doi.org/10.1038/s41597-023-02549-6"
   ]
  },
  {
   "cell_type": "code",
   "execution_count": null,
   "id": "106578c0-b558-40de-9568-61746c5cd0c7",
   "metadata": {
    "scrolled": true
   },
   "outputs": [],
   "source": [
    "# -----Load Koppen-Geiger climate zones\n",
    "kg_fn = os.path.join(scm_path, 'koppen_geiger_nc', '1991_2020', 'koppen_geiger_0p01.nc')\n",
    "kg = xr.open_dataset(kg_fn)\n",
    "kg = xr.where(kg==0, np.nan, kg) # set no data values to NaN\n",
    "\n",
    "# -----Sample KG at each AOI\n",
    "# add centroid column to aois\n",
    "aois = aois.to_crs('EPSG:4326')\n",
    "aois['centroid'] = [x.centroid for x in aois['geometry']]\n",
    "aois['centroid_lon'] = [x.coords.xy[0][0] for x in aois['centroid']]\n",
    "aois['centroid_lat'] = [x.coords.xy[1][0] for x in aois['centroid']]\n",
    "# sample KG at each centroid point\n",
    "aois['kg_class'] = [int(kg.sel(lon=lon, lat=lat, method='nearest').kg_class.data) \n",
    "                    for (lon, lat) in list(zip(aois['centroid_lon'].values, aois['centroid_lat'].values))]\n",
    "\n",
    "# -----Add KG columns to AOIs \n",
    "kg_dict = {19: {'name': 'Dsc: Cold, dry summer, cold summer',\n",
    "                'color': '#969696'},\n",
    "           27: {'name': 'Dfc: Cold, no dry season, cold summer',\n",
    "                'color': '#007d7d'},\n",
    "           29: {'name': 'ET: Polar, tundra',\n",
    "                'color': '#b2b2b2'},\n",
    "           30: {'name': 'EF: Polar, frost',\n",
    "                'color': '#666666'}\n",
    "          }\n",
    "aois[['kg_class_name', 'kg_class_color']] = '', ''\n",
    "for kg_class in [19, 27, 29, 30]:\n",
    "    aois.loc[aois['kg_class']==kg_class, 'kg_class_name'] = kg_dict[kg_class]['name']\n",
    "    aois.loc[aois['kg_class']==kg_class, 'kg_class_color'] = kg_dict[kg_class]['color']\n",
    "aois\n"
   ]
  },
  {
   "cell_type": "code",
   "execution_count": null,
   "id": "5ae2937a-8740-457a-8582-bc3bc00dc9ec",
   "metadata": {},
   "outputs": [],
   "source": [
    "# -----Plot\n",
    "plt.rcParams.update({'font.sans-serif':'Arial', 'font.size':12})\n",
    "fig, ax = plt.subplots(2, 1, figsize=(8, 10), gridspec_kw={'height_ratios':[3,1]})\n",
    "# map plot\n",
    "sns.scatterplot(ax=ax[0], data=aois, x='centroid_lon', y='centroid_lat', \n",
    "                hue='kg_class', s=10, palette='tab10',  legend=True)\n",
    "ax[0].grid()\n",
    "ax[0].set_xlabel('')\n",
    "ax[0].set_ylabel('')\n",
    "# histogram of counts per class\n",
    "counts = aois['kg_class'].value_counts().sort_values()\n",
    "ax[1].bar(counts.index, counts.values, width=1)\n",
    "for i in range(0,len(counts)):\n",
    "    ax[1].text(counts.index[i]-0.25, counts.values[i] + 2, str(counts.values[i]))\n",
    "ax[1].set_xlabel('KG class')\n",
    "ax[1].set_ylabel('Count')\n",
    "ax[1].set_xticks(counts.index)\n",
    "plt.show()"
   ]
  },
  {
   "cell_type": "code",
   "execution_count": null,
   "id": "204836a5-1de5-44fd-9acd-0f959fe73bfb",
   "metadata": {},
   "outputs": [],
   "source": []
  }
 ],
 "metadata": {
  "kernelspec": {
   "display_name": "snow-cover-mapping",
   "language": "python",
   "name": "snow-cover-mapping"
  },
  "language_info": {
   "codemirror_mode": {
    "name": "ipython",
    "version": 3
   },
   "file_extension": ".py",
   "mimetype": "text/x-python",
   "name": "python",
   "nbconvert_exporter": "python",
   "pygments_lexer": "ipython3",
   "version": "3.11.5"
  }
 },
 "nbformat": 4,
 "nbformat_minor": 5
}
