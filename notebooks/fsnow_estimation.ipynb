{
 "cells": [
  {
   "cell_type": "markdown",
   "metadata": {},
   "source": [
    "# Estimate differences in modeled and remotely-sensed SMB\n",
    "\n",
    "1. Snowline altitudes (SLAs)\n",
    "2. Equilibrium line altitudes (ELAs)\n",
    "3. Modeled surface mass balance (SMB) at the snowline"
   ]
  },
  {
   "cell_type": "code",
   "execution_count": null,
   "metadata": {},
   "outputs": [],
   "source": [
    "import os,glob\n",
    "import xarray as xr\n",
    "import matplotlib.pyplot as plt\n",
    "import geopandas as gpd\n",
    "import pandas as pd\n",
    "from tqdm.auto import tqdm\n",
    "import numpy as np\n",
    "\n",
    "# Define paths to data\n",
    "smb_mod_dir = '/Volumes/LaCie/raineyaberle/Research/PhD/snow_cover_mapping/Rounce_et_al_2023/glac_SMB_binned'\n",
    "scs_dir = '/Volumes/LaCie/raineyaberle/Research/PhD/snow_cover_mapping/study-sites'"
   ]
  },
  {
   "cell_type": "markdown",
   "metadata": {},
   "source": [
    "## 1. Snowline altitudes"
   ]
  },
  {
   "cell_type": "code",
   "execution_count": null,
   "metadata": {},
   "outputs": [],
   "source": []
  },
  {
   "cell_type": "markdown",
   "metadata": {},
   "source": [
    "## Compile modeled melt factors"
   ]
  },
  {
   "cell_type": "code",
   "execution_count": null,
   "metadata": {},
   "outputs": [],
   "source": [
    "# Check if already exists in file\n",
    "fsnow_mod_fn = '/Volumes/LaCie/raineyaberle/Research/PhD/snow_cover_mapping/analysis/fsnow_mod.csv'\n",
    "if not os.path.exists(fsnow_mod_fn):\n",
    "    print('Compiling modeled melt factors of snow')\n",
    "    # Load AOIs for RGI IDs\n",
    "    aois_fn = '/Volumes/LaCie/raineyaberle/Research/PhD/snow_cover_mapping/analysis/all_aois.shp'\n",
    "    aois = gpd.read_file(aois_fn)\n",
    "    modelprm_dir = '/Volumes/LaCie/raineyaberle/Research/PhD/snow_cover_mapping/Rounce_et_al_2023/modelprms'\n",
    "    # Initialize dataframe\n",
    "    fsnow_mod = pd.DataFrame()\n",
    "    # Iterate over RGI IDs\n",
    "    for rgi_id in tqdm(aois['RGIId'].drop_duplicates().values):\n",
    "        # Load model parameters\n",
    "        modelprm_fn = os.path.join(modelprm_dir, f\"{rgi_id.replace('RGI60-0','')}-modelprms_dict.pkl\")\n",
    "        modelprm = pd.read_pickle(modelprm_fn)\n",
    "        # Take the median of MCMC fsnow results (not much different than the mean)\n",
    "        ddfsnow_mcmc = np.array(modelprm['MCMC']['ddfsnow']['chain_0'])\n",
    "        df = pd.DataFrame({\"RGIId\": [rgi_id],\n",
    "                           \"fsnow\": [np.median(ddfsnow_mcmc)]})\n",
    "        # Concatenate df to full dataframe\n",
    "        fsnow_mod = pd.concat([fsnow_mod, df])\n",
    "    # Save to file\n",
    "    fsnow_mod.reset_index(drop=True, inplace=True)\n",
    "    fsnow_mod.to_csv(fsnow_mod_fn, index=False)\n",
    "    print('Compiled melt factors of snow saved to file:', fsnow_mod_fn)\n",
    "\n",
    "else:\n",
    "    fsnow_mod = pd.read_csv(fsnow_mod_fn)\n",
    "    print('Compiled melt factors of snow loaded from file.')\n",
    "\n",
    "plt.hist(fsnow_mod['fsnow'], bins=50)\n",
    "plt.show()\n",
    "\n"
   ]
  },
  {
   "cell_type": "markdown",
   "metadata": {},
   "source": [
    "## Estimate observed melt factors of snow\n",
    "\n",
    "$\\Sigma Accumulation - \\Sigma PDDs * f_{snow} = SMB$\n",
    "\n",
    "At the snowline, SMB = 0. Thus, the approach is to use modeled accumulation and temperature (PDD) time series at the snowline altitude from ERA5 to solve for $f_{snow}$."
   ]
  },
  {
   "cell_type": "code",
   "execution_count": null,
   "metadata": {},
   "outputs": [],
   "source": [
    "# Grab climate and modeled SMB file names\n",
    "temp_dir = '/Volumes/LaCie/raineyaberle/Research/PhD/snow_cover_mapping/Rounce_et_al_2023/glac_temp_monthly'\n",
    "temp_fns = sorted(glob.glob(os.path.join(temp_dir, 'R*.nc')))\n",
    "accum_dir = '/Volumes/LaCie/raineyaberle/Research/PhD/snow_cover_mapping/Rounce_et_al_2023/glac_accum_monthly'\n",
    "accum_fns = sorted(glob.glob(os.path.join(accum_dir, 'R*.nc')))\n",
    "smb_dir = '/Volumes/LaCie/raineyaberle/Research/PhD/snow_cover_mapping/Rounce_et_al_2023/glac_SMB_binned'\n",
    "smb_fns = sorted(glob.glob(os.path.join(smb_dir, '*.nc')))\n",
    "\n",
    "# Define path to snow cover stats\n",
    "scs_path = '/Volumes/LaCie/raineyaberle/Research/PhD/snow_cover_mapping/study-sites'\n",
    "\n",
    "# Iterate over RGI IDs\n",
    "for rgi_id in aois['RGIId'].drop_duplicates().values[0:10]:\n",
    "    # temp and accum\n",
    "    if \"-01.\" in rgi_id:\n",
    "        region = \"R01\"\n",
    "    elif \"-02.\" in rgi_id:\n",
    "        region = \"R02\"\n",
    "    rng = rgi_id.split('.')[1]\n",
    "\n",
    "    print(rgi_id, region, rng)\n",
    "# smb_fn = smb_fns[0]\n",
    "# smb = xr.open_dataset(smb_fn)\n",
    "# smb"
   ]
  },
  {
   "cell_type": "code",
   "execution_count": null,
   "metadata": {},
   "outputs": [],
   "source": [
    "smb_fn = smb_fns[0]\n",
    "smb = xr.open_dataset(smb_fn)\n",
    "smb"
   ]
  },
  {
   "cell_type": "code",
   "execution_count": null,
   "metadata": {},
   "outputs": [],
   "source": []
  }
 ],
 "metadata": {
  "kernelspec": {
   "display_name": "glacier-snow-cover-mapping",
   "language": "python",
   "name": "python3"
  },
  "language_info": {
   "codemirror_mode": {
    "name": "ipython",
    "version": 3
   },
   "file_extension": ".py",
   "mimetype": "text/x-python",
   "name": "python",
   "nbconvert_exporter": "python",
   "pygments_lexer": "ipython3",
   "version": "3.11.8"
  }
 },
 "nbformat": 4,
 "nbformat_minor": 2
}
