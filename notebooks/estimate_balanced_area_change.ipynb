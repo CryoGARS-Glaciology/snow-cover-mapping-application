{
 "cells": [
  {
   "cell_type": "markdown",
   "id": "84c2bce0-a9ef-4871-add5-05e3a861c958",
   "metadata": {},
   "source": [
    "# Estimate area change required for glaciers to be in balance with climate"
   ]
  },
  {
   "cell_type": "code",
   "execution_count": null,
   "id": "aa6123e0-c648-4fde-9f23-abcdd8312fb8",
   "metadata": {},
   "outputs": [],
   "source": [
    "import os\n",
    "import numpy as np\n",
    "import matplotlib.pyplot as plt\n",
    "import pandas as pd\n",
    "import geopandas as gpd\n",
    "import seaborn as sns\n",
    "\n",
    "data_path = '/Users/raineyaberle/Research/PhD/snow_cover_mapping/'"
   ]
  },
  {
   "cell_type": "code",
   "execution_count": null,
   "id": "9098b51d-f5bb-4747-a9a0-d6c506956e3c",
   "metadata": {
    "scrolled": true
   },
   "outputs": [],
   "source": [
    "# Load AOIs\n",
    "aois_fn = os.path.join(data_path, 'compiled_data', 'all_aois_climate_cluster.shp')\n",
    "aois = gpd.read_file(aois_fn)\n",
    "aois['TermType'] = aois['TermType'].astype(int)\n",
    "aois"
   ]
  },
  {
   "cell_type": "code",
   "execution_count": null,
   "id": "0efd2fcf-62de-4df1-b174-d1918cd8b66e",
   "metadata": {
    "scrolled": true
   },
   "outputs": [],
   "source": [
    "# Load median AARs\n",
    "aars_fn = os.path.join(data_path, 'results', 'min_snow_cover_stats.csv')\n",
    "aars = pd.read_csv(aars_fn)\n",
    "aars"
   ]
  },
  {
   "cell_type": "markdown",
   "id": "887ef1ac-94cd-4310-9c6c-a2957c18e676",
   "metadata": {},
   "source": [
    "## Estimate balanced AARs and areas based on terminus type"
   ]
  },
  {
   "cell_type": "code",
   "execution_count": null,
   "id": "949cda67-cae5-41af-9fc9-23f9ac998876",
   "metadata": {},
   "outputs": [],
   "source": [
    "# Function for determining terminus type and balanced AARs\n",
    "# See RGI v. 6 documentation, pg. 16: https://nsidc.org/sites/default/files/rgi_tech_report_v60.pdf\n",
    "def determine_terminus_type_balanced_aar(term_type_int):\n",
    "    if term_type_int==0:\n",
    "        term_type_str = 'Land-terminating'\n",
    "        balance_aar = 0.5\n",
    "    elif term_type_int==1:\n",
    "        term_type_str = 'Marine-terminating'\n",
    "        balance_aar = 0.9\n",
    "    elif term_type_int==2:\n",
    "        term_type_str = 'Lake-terminating'\n",
    "        balance_aar = 0.9\n",
    "    return term_type_str, balance_aar\n",
    "\n",
    "# Function for determining balance area\n",
    "def balance_area(A_glacier, aar, balance_aar):\n",
    "    # A_balanced = A_accum / balance_aar\n",
    "    # A_accum = A_glacier * aar\n",
    "\n",
    "    # calculate accumulation area\n",
    "    A_accum = A_glacier * aar\n",
    "    # calculate balanced area\n",
    "    A_balanced = A_accum / balance_aar\n",
    "    # calculate change in area\n",
    "    dA = A_glacier - A_balanced\n",
    "\n",
    "    return A_balanced, dA\n",
    "    "
   ]
  },
  {
   "cell_type": "code",
   "execution_count": null,
   "id": "9eefcccb-ca41-4471-a2da-8788e59ce5fc",
   "metadata": {},
   "outputs": [],
   "source": [
    "# Initialize a dataframe for storing results\n",
    "balance_areas = pd.DataFrame()\n",
    "\n",
    "# Iterate over sites\n",
    "for i in range(0,len(aois)):\n",
    "    # grab ID, area, and terminus type from AOI\n",
    "    glacier_id = aois.loc[i, 'RGIId']\n",
    "    area = aois.loc[i, 'Area']\n",
    "    term_type_int = aois.loc[i, 'TermType']\n",
    "    \n",
    "    # grab median AAR\n",
    "    aar = aars.loc[aars['RGIId']==glacier_id, 'AAR_P50_min'].values[0]\n",
    "\n",
    "    # estimate balanced aar based on terminus type\n",
    "    term_type_str, aar_balance = determine_terminus_type_balanced_aar(term_type_int)\n",
    "\n",
    "    # calculate balanced area and change in area\n",
    "    area_balanced, dA = balance_area(area, aar, aar_balance)\n",
    "\n",
    "    # compile in dataframe\n",
    "    df = pd.DataFrame({'RGIId': [glacier_id], \n",
    "                       'Terminus type [int]': [term_type_int],\n",
    "                       'Terminus type [str]': [term_type_str],\n",
    "                       'AAR': [aar],\n",
    "                       'Area [km2]': [area],\n",
    "                       'Balance AAR': [aar_balance],\n",
    "                       'Balance area [km2]': [area_balanced],\n",
    "                       'dArea [km2]': [dA]\n",
    "                       })\n",
    "    balance_areas = pd.concat([balance_areas, df])\n",
    "\n",
    "# Adjust dataframe\n",
    "balance_areas.sort_values(by='RGIId', inplace=True)\n",
    "balance_areas.reset_index(drop=True, inplace=True)\n",
    "\n",
    "# Save to file\n",
    "balance_areas_fn = os.path.join(data_path, 'results', 'balanced_areas.csv')\n",
    "balance_areas.to_csv(balance_areas_fn, index=False)\n",
    "print('Balanced areas saved to file:', balance_areas_fn)\n",
    "\n",
    "balance_areas"
   ]
  },
  {
   "cell_type": "code",
   "execution_count": null,
   "id": "80500a23-f8fe-4705-aeb1-d2c5f995edbf",
   "metadata": {},
   "outputs": [],
   "source": [
    "# Plot some results\n",
    "balance_areas_fn = os.path.join(data_path, 'results', 'balanced_areas.csv')\n",
    "balance_areas = pd.read_csv(balance_areas_fn)\n",
    "\n",
    "fig, ax = plt.subplots()\n",
    "sns.histplot(data=balance_areas, x='dArea [km2]', hue='Terminus type [str]', ax=ax)\n",
    "ax.set_xlabel('$\\Delta$Area [km$^2$]')\n",
    "ax.set_ylabel('Counts')\n",
    "plt.show()"
   ]
  },
  {
   "cell_type": "code",
   "execution_count": null,
   "id": "527ea1d6-2ff0-4551-9378-3fd2f9853e2c",
   "metadata": {},
   "outputs": [],
   "source": []
  }
 ],
 "metadata": {
  "kernelspec": {
   "display_name": "snow-cover-mapping",
   "language": "python",
   "name": "snow-cover-mapping"
  },
  "language_info": {
   "codemirror_mode": {
    "name": "ipython",
    "version": 3
   },
   "file_extension": ".py",
   "mimetype": "text/x-python",
   "name": "python",
   "nbconvert_exporter": "python",
   "pygments_lexer": "ipython3",
   "version": "3.11.5"
  }
 },
 "nbformat": 4,
 "nbformat_minor": 5
}
