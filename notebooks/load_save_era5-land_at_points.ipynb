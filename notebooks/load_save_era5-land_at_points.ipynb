{
 "cells": [
  {
   "cell_type": "markdown",
   "id": "014b0dc7-6a9f-4696-86a5-be6f5c002fcb",
   "metadata": {},
   "source": [
    "# Load and save ERA5-Land Daily Aggregated band values at point coordinates\n",
    "\n",
    "\n",
    "## Requirements: \n",
    "\n",
    "- __Google Earth Engine account__. Sign up [here](https://earthengine.google.com/signup/).\n",
    "- __GIS file__ of the Area of Interest (AOI) boundaries (.shp, .gpkg, or other file readable by geopandas). \n",
    "- __Digital Elevation Model__ (DEM) over the AOI referenced to the ellipsoid (TIF, netCDF, or other file readable by xarray). \n",
    "- __ERA5-Land gridded geopotential__ file, used to calculate surface heights (TIF, netCDF, or other file readable by xarray). Options for access:\n",
    "    - This code repository: \"geo_1279l4_0.1x0.1.grib2_v4_unpack.nc\" in the [`inputs-outputs` folder](https://github.com/RaineyAbe/snow-cover-mapping-application/tree/main/inputs-outputs). \n",
    "    - Download from the [ECMFW documentation for ERA5-Land](https://confluence.ecmwf.int/display/CKB/ERA5-Land%3A+data+documentation#ERA5Land:datadocumentation-LandSurfaceModel) (see Table 1)."
   ]
  },
  {
   "cell_type": "code",
   "execution_count": null,
   "id": "7955b696-ee7b-4467-915c-cc8e21f409b2",
   "metadata": {},
   "outputs": [],
   "source": [
    "import ee\n",
    "import geopandas as gpd\n",
    "import pandas as pd\n",
    "import matplotlib.pyplot as plt\n",
    "import numpy as np\n",
    "import os\n",
    "import glob\n",
    "from tqdm.auto import tqdm\n",
    "import xarray as xr\n",
    "import rioxarray as rxr\n",
    "from shapely.geometry import Polygon, LineString\n",
    "import geojson"
   ]
  },
  {
   "cell_type": "markdown",
   "id": "7de206c7-d9c5-426c-9aa3-3f6d3d320212",
   "metadata": {},
   "source": [
    "## Authenticate and initialize Google Earth Engine"
   ]
  },
  {
   "cell_type": "code",
   "execution_count": null,
   "id": "e80b2288-344d-47de-8770-a255e04fe8cf",
   "metadata": {},
   "outputs": [],
   "source": [
    "try:\n",
    "    ee.Initialize()\n",
    "except:\n",
    "    ee.Authenticate()\n",
    "    ee.Initialize()"
   ]
  },
  {
   "cell_type": "markdown",
   "id": "e5786224-0780-4d62-9716-eaaf685cae06",
   "metadata": {},
   "source": [
    "## Define paths in directory"
   ]
  },
  {
   "cell_type": "code",
   "execution_count": null,
   "id": "31fe7b74-9231-4092-9359-82c85e1e1e80",
   "metadata": {},
   "outputs": [],
   "source": [
    "# Define name of study site, used in output file names\n",
    "site_name = 'Hubbard'\n",
    "\n",
    "# Full path to glacier boundaries\n",
    "aoi_fn = '/Users/raineyaberle/Research/Hubbard/RGI/Hubbard_boundaries.shp'\n",
    "\n",
    "# Full path to sample points GIS file\n",
    "line_fn = '/Users/raineyaberle/Research/Hubbard/velocity/center.gpkg'\n",
    "\n",
    "# Full path to DEM\n",
    "dem_fn = '/Users/raineyaberle/Research/Hubbard/DEMs/ifsar_hubbardDEM.tif'\n",
    "\n",
    "# Full path to geopotential for ERA5-Land\n",
    "era_geo_fn =  '/Users/raineyaberle/Research/PhD/snow_cover_mapping/snow-cover-mapping-application/inputs-outputs/geo_1279l4_0.1x0.1.grib2_v4_unpack.nc'\n",
    "\n",
    "# Path where output files will be saved\n",
    "out_path = '/Users/raineyaberle/Research/Hubbard/weather/'"
   ]
  },
  {
   "cell_type": "markdown",
   "id": "fcedc414-3caa-42f0-b788-bfaa6ef1b6c3",
   "metadata": {},
   "source": [
    "## Define filters, etc. for querying GEE for ERA5-Land"
   ]
  },
  {
   "cell_type": "code",
   "execution_count": null,
   "id": "5bac1a95-b93b-462c-8d93-6f0af50c3b59",
   "metadata": {},
   "outputs": [],
   "source": [
    "# -----Date range \n",
    "start_date = '2016-11-01'\n",
    "end_date = '2023-12-01'\n",
    "\n",
    "# -----Bands to extract\n",
    "# See all data bands in the GEE documentation here: \n",
    "# https://developers.google.com/earth-engine/datasets/catalog/ECMWF_ERA5_LAND_DAILY_AGGR#bands\n",
    "bands = ['temperature_2m', \n",
    "         'total_precipitation_sum', \n",
    "         'snowfall_sum', \n",
    "         'snowmelt_sum'] \n",
    "\n",
    "# -----Lapse rate used to adjust air temperatures for elevation\n",
    "lapse_rate = 6 # deg C / km"
   ]
  },
  {
   "cell_type": "markdown",
   "id": "5eab13f6-d1c4-4a9c-97cd-839030f5d57f",
   "metadata": {},
   "source": [
    "## Load glacier boundaries, sample points, and DEM"
   ]
  },
  {
   "cell_type": "code",
   "execution_count": null,
   "id": "8ef2f299-d924-4645-9cac-0921d9cc1e1d",
   "metadata": {},
   "outputs": [],
   "source": [
    "# -----Load glacier boundaries (aoi)\n",
    "aoi = gpd.read_file(aoi_fn)\n",
    "aoi_wgs = aoi.to_crs('EPSG:4326')\n",
    "aoi_wgs_ee = ee.Geometry.Polygon(list(zip(aoi_wgs.geometry[0].exterior.coords.xy[0],\n",
    "                                          aoi_wgs.geometry[0].exterior.coords.xy[1])))\n",
    "\n",
    "# -----Load sample points\n",
    "line = gpd.read_file(line_fn)\n",
    "line_wgs = line.to_crs('EPSG:4326')\n",
    "\n",
    "# -----Load DEM\n",
    "dem = rxr.open_rasterio(dem_fn)\n",
    "# reproject to WGS84\n",
    "dem = dem.rio.reproject('EPSG:4326')\n",
    "# remove no data values\n",
    "dem = xr.where((dem > 1e38) | (dem<=-9999), np.nan, dem)\n",
    "dem = dem.rio.write_crs('EPSG:4326') \n",
    "# clip to glacier boundaries\n",
    "dem_clip = dem.rio.clip(aoi_wgs.geometry.values, aoi_wgs.crs)\n",
    "\n",
    "# -----Plot\n",
    "fig, ax = plt.subplots()\n",
    "dem_im = ax.imshow(dem_clip.data[0], cmap='terrain', \n",
    "                   extent=(np.min(dem_clip.x.data), np.max(dem_clip.x.data), \n",
    "                           np.min(dem_clip.y.data), np.max(dem_clip.y.data)))\n",
    "fig.colorbar(dem_im, ax=ax, label='Elevation [m]', shrink=0.7)\n",
    "aoi_wgs.plot(ax=ax, facecolor='None', edgecolor='k')\n",
    "ax.plot(*line_wgs.geometry[0].coords.xy, '.-m', label='Sample points')\n",
    "ax.legend(loc='best')\n",
    "plt.show()"
   ]
  },
  {
   "cell_type": "markdown",
   "id": "3b79ee87-16d6-4005-8716-75cd46d16280",
   "metadata": {},
   "source": [
    "## Load and calculate ERA5-Land ellipsoid heights, reproject to the geoid"
   ]
  },
  {
   "cell_type": "code",
   "execution_count": null,
   "id": "102af868-c53a-4a9f-84b9-ede4456c5083",
   "metadata": {},
   "outputs": [],
   "source": [
    "# Full path to geopotential for ERA5-Land\n",
    "era_geo_fn =  '/Users/raineyaberle/Research/PhD/snow_cover_mapping/snow-cover-mapping-application/inputs-outputs/geo_1279l4_0.1x0.1.grib2_v4_unpack.nc'\n",
    "\n",
    "# Load ERA5-Land reference elevation data\n",
    "era_geo = xr.open_dataset(era_geo_fn)\n",
    "era_geo = era_geo / 9.8\n",
    "\n",
    "# Plot ellipsoid heights\n",
    "print(\"Note: Longitude degree values are incorrect \\n Xarray won't let me make coordinates go from positive -> negative values\")\n",
    "plt.figure(figsize=(10,6))\n",
    "plt.imshow(era_geo.z.data[0], extent=(0,360,-90,90), cmap='terrain')\n",
    "plt.title('Ellipsoid heights calculated from ERA5-Land geopotential')\n",
    "plt.colorbar(label='meters', shrink=0.5)\n",
    "plt.grid()\n",
    "plt.show()"
   ]
  },
  {
   "cell_type": "markdown",
   "id": "59cda397-6a7b-4280-b2e1-5b34fc871374",
   "metadata": {},
   "source": [
    "## Query GEE for ERA5-Land data, save to file as CSVs for each band"
   ]
  },
  {
   "cell_type": "code",
   "execution_count": null,
   "id": "ed9cc16a-f91e-419a-960d-38735d1b57b7",
   "metadata": {
    "scrolled": true
   },
   "outputs": [],
   "source": [
    "def sample_image_at_points(image):\n",
    "    return ee.FeatureCollection(image.sampleRegions(\n",
    "        collection=ee.Geometry.Point(point),\n",
    "        scale=500,  \n",
    "        geometries=True\n",
    "    ))\n",
    "\n",
    "# -----Convert line to a list of points\n",
    "points = list(zip(line_wgs.geometry[0].coords.xy[0], \n",
    "                  line_wgs.geometry[0].coords.xy[1]))\n",
    "\n",
    "# -----Query GEE for ERA5-Land image collection\n",
    "era5_land = (ee.ImageCollection('ECMWF/ERA5_LAND/DAILY_AGGR')\n",
    "             .filterDate(start_date, end_date)\n",
    "             .filterBounds(aoi_wgs_ee))\n",
    "\n",
    "# -----Iterate over bands \n",
    "for band in bands:\n",
    "    print('\\n' + band)\n",
    "\n",
    "    # Check if data already exist in file\n",
    "    out_fn = os.path.join(out_path, f'{site_name}_ERA5-Land_{start_date}_{end_date}_{band}.csv')\n",
    "    if os.path.exists(out_fn):\n",
    "        print('Band data already exist in file, skipping...')\n",
    "        continue\n",
    "    \n",
    "    # Initialiize dataframe for band data\n",
    "    band_df = pd.DataFrame()\n",
    "    \n",
    "    # Iterate over points\n",
    "    for point in tqdm(points):\n",
    "        band_fc = era5_land.select(band).map(sample_image_at_points).flatten().getInfo()\n",
    "        if len(band_fc['features']) > 0:\n",
    "            lon = band_fc['features'][0]['geometry']['coordinates'][0] \n",
    "            lat = band_fc['features'][0]['geometry']['coordinates'][1] \n",
    "            dates = [band_fc['features'][i]['id'][0:8] for i in range(len(band_fc['features']))]\n",
    "            dates = [f'{date[0:4]}-{date[4:6]}-{date[6:8]}' for date in dates]\n",
    "            band_values = [band_fc['features'][i]['properties'][band] for i in range(len(band_fc['features']))]\n",
    "            band_point_df = pd.DataFrame({'lon': [lon], 'lat': [lat]})\n",
    "            for i, date in enumerate(dates):\n",
    "                df = pd.DataFrame({date: [band_values[i]]})\n",
    "                band_point_df = pd.concat([band_point_df, df], axis=1)\n",
    "\n",
    "            band_df = pd.concat([band_df, band_point_df])\n",
    "\n",
    "    # Save to file\n",
    "    band_df.to_csv(out_fn, index=False)\n",
    "    print('Band data saved to file:', out_fn)\n",
    "\n",
    "    # Plot\n",
    "    band_df.reset_index(drop=True, inplace=True)\n",
    "    fig, ax = plt.subplots()\n",
    "    band_df[band_df.columns[2:]].transpose().plot(ax=ax)\n",
    "    ax.set_title(band)\n",
    "    plt.show()\n"
   ]
  },
  {
   "cell_type": "markdown",
   "id": "f5775888-4af5-4eda-bba0-790357fac765",
   "metadata": {},
   "source": [
    "## Adjust air temperatures for elevation"
   ]
  },
  {
   "cell_type": "code",
   "execution_count": null,
   "id": "cbef541b-c58d-42bf-b5ee-e03f80627e29",
   "metadata": {},
   "outputs": [],
   "source": [
    "# Load file\n",
    "temp_fn = os.path.join(out_path,  f'{site_name}_ERA5-Land_{start_date}_{end_date}_temperature_2m.csv')\n",
    "temp_df = pd.read_csv(temp_fn)\n",
    "\n",
    "# Convert from Kelvin to Celsius\n",
    "temp_df[temp_df.columns[2:]] = temp_df[temp_df.columns[2:]] - 273.15\n",
    "# # Adjust air temperatures using reference elevations and lapse rate\n",
    "# df['temperature_2m_C_adjusted'] = df['temperature_2m_C'] - lapse_rate * (zmed - elev_med_era)/1e3\n",
    "\n",
    "# Sample elevations from DEM and ERA5-Land ellipsoid heights at each point\n",
    "temp_df['elevation_DEM'] = [dem.sel(x=x, y=y, method='nearest').data[0] for (x,y) in temp_df[['lon', 'lat']].values]\n",
    "temp_df['elevation_ERA'] = [era_geo.sel(longitude=x + 360, latitude=y, method='nearest').z.data[0] for (x,y) in temp_df[['lon', 'lat']].values]\n",
    "\n",
    "# Adjust temperatures for elevation at each point\n",
    "columns = [x for x in list(temp_df.columns) if '20' in x]\n",
    "for i in range(len(temp_df)):\n",
    "    temp_df.loc[i, columns] = (temp_df.loc[i, columns] \n",
    "                               - lapse_rate * (temp_df.loc[i, 'elevation_DEM'] \n",
    "                                               - temp_df.loc[i, 'elevation_ERA'])/1e3)\n",
    "\n",
    "# Plot\n",
    "fig, ax = plt.subplots(figsize=(8,5))\n",
    "temp_df[columns].transpose().plot(ax=ax)\n",
    "ax.set_title('Adjusted air temperature')\n",
    "ax.set_ylabel('Temperature [$^{\\circ}$C]')\n",
    "plt.show()\n",
    "\n",
    "# Save to file\n",
    "out_fn = temp_fn.replace('2m.csv', '2m_Celsius_adjusted.csv')\n",
    "temp_df.to_csv(out_fn)\n",
    "print('Adjusted air temperatures saved to file:', out_fn)"
   ]
  },
  {
   "cell_type": "code",
   "execution_count": null,
   "id": "926b802f-58cb-4bb4-8bd3-59a7b8ee864f",
   "metadata": {},
   "outputs": [],
   "source": []
  }
 ],
 "metadata": {
  "kernelspec": {
   "display_name": "snow-cover-mapping",
   "language": "python",
   "name": "snow-cover-mapping"
  },
  "language_info": {
   "codemirror_mode": {
    "name": "ipython",
    "version": 3
   },
   "file_extension": ".py",
   "mimetype": "text/x-python",
   "name": "python",
   "nbconvert_exporter": "python",
   "pygments_lexer": "ipython3",
   "version": "3.11.5"
  }
 },
 "nbformat": 4,
 "nbformat_minor": 5
}
