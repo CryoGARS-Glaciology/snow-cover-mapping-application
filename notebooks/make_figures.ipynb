{
 "cells": [
  {
   "cell_type": "markdown",
   "id": "5a268cb2-8765-4785-a416-f29c9289f371",
   "metadata": {},
   "source": [
    "# Make figures"
   ]
  },
  {
   "cell_type": "code",
   "execution_count": null,
   "id": "1c886bd1-2d50-401f-aaef-8353f32db569",
   "metadata": {},
   "outputs": [],
   "source": [
    "import matplotlib.pyplot as plt\n",
    "import pandas as pd\n",
    "import geopandas as gpd\n",
    "import numpy as np\n",
    "import os\n",
    "import glob\n",
    "import sys\n",
    "from shapely import wkt\n",
    "import seaborn as sns"
   ]
  },
  {
   "cell_type": "code",
   "execution_count": null,
   "id": "239e6df1-03f5-472a-8c1c-222f8f92ebee",
   "metadata": {},
   "outputs": [],
   "source": [
    "base_path = '/Users/raineyaberle/Research/PhD/snow_cover_mapping/snow-cover-mapping-application/'\n",
    "sys.path.append(os.path.join(base_path, 'functions'))\n",
    "import model_analyze_utils as f\n",
    "\n",
    "scm_path = '/Users/raineyaberle/Research/PhD/snow_cover_mapping/'\n",
    "figures_out_path = os.path.join(base_path, 'figures')\n",
    "aois_path = os.path.join(scm_path, 'all_AOIs')\n",
    "aois_fn = 'all_aois.shp'\n",
    "snowlines_path = os.path.join(scm_path, 'all_snowlines')\n",
    "snowlines_fn = 'all_snowlines.csv'\n",
    "snowlines_medians_fn = 'all_snowlines_weekly_median_trends.csv'"
   ]
  },
  {
   "cell_type": "markdown",
   "id": "9e202626-5344-42af-8409-b6926e4c8118",
   "metadata": {},
   "source": [
    "## Plot minimum AAR with different characteristics"
   ]
  },
  {
   "cell_type": "code",
   "execution_count": null,
   "id": "6c18a2fa-da10-4d01-837d-259aa1602fb1",
   "metadata": {
    "scrolled": true
   },
   "outputs": [],
   "source": [
    "# -----Load minimum snow cover characteristics\n",
    "min_snow_cover_stats_fn = 'min_snow_cover_stats.csv'\n",
    "min_snow_cover_stats = pd.read_csv(os.path.join(snowlines_path, min_snow_cover_stats_fn))\n",
    "min_snow_cover_stats['geometry'] = min_snow_cover_stats['geometry'].apply(wkt.loads)\n",
    "# sort by region numbers\n",
    "min_snow_cover_stats.sort_values(by=['O1Region', 'O2Region'], inplace=True)\n",
    "\n",
    "# -----Add glacier boundary x and y centroid coordinates for plotting\n",
    "min_snow_cover_stats['centroid_x'] = [x.centroid.coords.xy[0][0] for x in min_snow_cover_stats['geometry']]\n",
    "min_snow_cover_stats['centroid_y'] = [x.centroid.coords.xy[1][0] for x in min_snow_cover_stats['geometry']]\n",
    "\n",
    "# -----Load country outlines for plotting\n",
    "countries_fn = os.path.join(scm_path, '..', 'GIS_data', 'countries_shp', 'countries.shp')\n",
    "countries = gpd.read_file(countries_fn)\n",
    "usca = countries.loc[(countries['NAME']=='United States') | (countries['NAME']=='Canada')].reset_index(drop=True)"
   ]
  },
  {
   "cell_type": "code",
   "execution_count": null,
   "id": "d8731d23-5255-445b-a22e-7987439647d1",
   "metadata": {
    "scrolled": true
   },
   "outputs": [],
   "source": [
    "# -----Plot maps of minimum AARs by various columns\n",
    "columns = ['Subregion', 'Aspect', 'Zmed', 'Area', 'Slope']\n",
    "columns_display = ['Subregion', 'Aspect [degrees]', 'Median elevation [m]', 'Area [km$^2$]', 'Slope [degrees]']\n",
    "palettes = [dict(min_snow_cover_stats[['Subregion', 'color']].drop_duplicates().values),\n",
    "            'hls', \n",
    "            'mako', \n",
    "            'viridis', \n",
    "            'crest']\n",
    "bins_list = ['N/A', \n",
    "             np.linspace(0,360, num=7), \n",
    "             np.linspace(500, 3000, num=6),\n",
    "             np.linspace(0, 1500, num=7),\n",
    "             np.linspace(0, 35, num=8)]\n",
    "plt.rcParams.update({'font.sans-serif':'Arial', 'font.size':12})\n",
    "xmin, xmax = -168, -112\n",
    "ymin, ymax = 45, 65\n",
    "for column, column_display, palette, bins in zip(columns, columns_display, palettes, bins_list):\n",
    "    fig, ax = plt.subplots(2, 1, figsize=(10,10), gridspec_kw={'height_ratios':[2.5, 1]})\n",
    "    # plot country outlines on the map\n",
    "    usca.plot(ax=ax[0], facecolor='None', edgecolor='grey')\n",
    "    # plot points on the map\n",
    "    sns.scatterplot(data=min_snow_cover_stats, x='centroid_x', y='centroid_y', \n",
    "                    hue=column, palette=palette, size='AAR_P50_min', sizes=(5, 100), legend=True, ax=ax[0])\n",
    "    sns.move_legend(ax[0], \"center right\", bbox_to_anchor=[1.1, 0.4, 0.2, 0.2])\n",
    "    ax[0].set_xlabel('')\n",
    "    ax[0].set_ylabel('')\n",
    "    ax[0].grid()\n",
    "    ax[0].set_xlim(xmin, xmax)\n",
    "    ax[0].set_ylim(ymin, ymax)\n",
    "    # plot regional barplots\n",
    "    if type(bins) != str:\n",
    "        # add bin column\n",
    "        min_snow_cover_stats[column + '_bin'] = pd.cut(min_snow_cover_stats[column], bins)\n",
    "        # plot boxplots\n",
    "        sns.boxplot(data=min_snow_cover_stats, x=column + '_bin', y='AAR_P50_min', showfliers=False, palette=palette, ax=ax[1])\n",
    "    else:\n",
    "        # plot boxplots\n",
    "        sns.boxplot(data=min_snow_cover_stats, x=column, y='AAR_P50_min', showfliers=False, palette=palette, ax=ax[1])\n",
    "    if type(bins) == str:\n",
    "        ax[1].set_xticks(ax[1].get_xticks())\n",
    "        ax[1].set_xticklabels(ax[1].get_xticklabels(), rotation=90)\n",
    "    ax[1].set_xlabel(column_display)\n",
    "    ax[1].set_ylabel('AAR')\n",
    "\n",
    "    # Edit legend labels for map\n",
    "    handles, labels = ax[0].get_legend_handles_labels()\n",
    "    labels = [x.replace('AAR_P50_min', 'Median AAR').replace(column, column_display) for x in labels]\n",
    "    ax[0].legend(handles, labels, loc='center right')\n",
    "    sns.move_legend(ax[0], \"center right\", bbox_to_anchor=[1.1, 0.4, 0.2, 0.2])\n",
    "    \n",
    "    plt.show()\n",
    "\n",
    "    # Edit legend\n",
    "    handles, labels = ax[0].get_legend_handles_labels()\n",
    "    \n",
    "    # Save figure\n",
    "    fig_fn = 'minimum_AARs_map_' + column + '.png'\n",
    "    fig.savefig(os.path.join(figures_out_path, fig_fn), dpi=250, bbox_inches='tight')\n",
    "    print('figure saved to file: ', os.path.join(figures_out_path, fig_fn))"
   ]
  },
  {
   "cell_type": "markdown",
   "id": "f4c7ec6c-dc79-4c0c-b676-5c11b42e31a7",
   "metadata": {},
   "source": [
    "## Plot linear changes in AARs for 2016--2023 by terrain characteristics"
   ]
  },
  {
   "cell_type": "code",
   "execution_count": null,
   "id": "5d9b33bf-506e-4112-b171-9c69e5100211",
   "metadata": {
    "scrolled": true
   },
   "outputs": [],
   "source": [
    "# -----Load AARs linear fit\n",
    "aars_linear_fit_fn = 'minimum_AARs_linear_fit.csv'\n",
    "aars_linear_fit = pd.read_csv(os.path.join(snowlines_path, aars_linear_fit_fn))\n",
    "\n",
    "# -----Add glacier terrain and geometry columns\n",
    "columns = ['geometry', 'centroid_x', 'centroid_y', 'O1Region', 'O2Region', 'Subregion', 'color', 'Aspect', 'Slope', 'Zmed', 'Area']\n",
    "for column in columns:\n",
    "    aars_linear_fit[column] = np.nan\n",
    "# iterate over site names\n",
    "for site_name in aars_linear_fit['site_name'].drop_duplicates().values:\n",
    "    min_snow_cover_stats_site = min_snow_cover_stats.loc[min_snow_cover_stats['RGIId']==site_name]\n",
    "    try:\n",
    "        for column in columns:\n",
    "            aars_linear_fit.loc[aars_linear_fit['site_name']==site_name, column] = [min_snow_cover_stats_site[column].values[0]]\n",
    "    except:\n",
    "        continue\n",
    "\n",
    "aars_linear_fit.dropna(inplace=True)\n",
    "\n",
    "# -----Add column for negative value of change category to show more negative values as larger markers\n",
    "aars_linear_fit['linear_fit_coef_neg'] = - aars_linear_fit['linear_fit_coef']\n",
    "# Sort by region numbers\n",
    "aars_linear_fit.sort_values(by=['O1Region', 'O2Region'], inplace=True)\n",
    "aars_linear_fit"
   ]
  },
  {
   "cell_type": "code",
   "execution_count": null,
   "id": "e703f590-0e6d-47a1-87ff-64543942cf04",
   "metadata": {
    "scrolled": true
   },
   "outputs": [],
   "source": [
    "# -----Plot map of AARs linear fit with various columns\n",
    "columns = ['Subregion', 'Aspect', 'Zmed', 'Area', 'Slope']\n",
    "columns_display = ['Subregion', 'Aspect [degrees]', 'Median elevation [m]', 'Area [km$^2$]', 'Slope [degrees]']\n",
    "palettes = [dict(aars_linear_fit[['Subregion', 'color']].drop_duplicates().values),\n",
    "            'hls', \n",
    "            'mako', \n",
    "            'viridis', \n",
    "            'crest']\n",
    "bins_list = ['N/A', \n",
    "             np.linspace(0,360, num=7), \n",
    "             np.linspace(500, 3000, num=6),\n",
    "             np.linspace(0, 1500, num=7),\n",
    "             np.linspace(0, 35, num=8)]\n",
    "plt.rcParams.update({'font.sans-serif':'Arial', 'font.size':12})\n",
    "xmin, xmax = -168, -112\n",
    "ymin, ymax = 45, 65\n",
    "def map_size(value):\n",
    "    return np.abs(value) * 100\n",
    "for column, column_display, palette, bins in zip(columns, columns_display, palettes, bins_list):\n",
    "    fig, ax = plt.subplots(2, 1, figsize=(10,10), gridspec_kw={'height_ratios':[2.5, 1]})\n",
    "    # plot country outlines on the map\n",
    "    usca.plot(ax=ax[0], facecolor='None', edgecolor='grey')\n",
    "    # plot points on the map\n",
    "    sns.scatterplot(data=aars_linear_fit, x='centroid_x', y='centroid_y', \n",
    "                    hue=column, palette=palette, size='linear_fit_coef_neg', sizes=(5, 150), legend=True, ax=ax[0])\n",
    "    ax[0].set_xlabel('')\n",
    "    ax[0].set_ylabel('')\n",
    "    ax[0].grid()\n",
    "    ax[0].set_xlim(xmin, xmax)\n",
    "    ax[0].set_ylim(ymin, ymax)\n",
    "    # plot regional barplots\n",
    "    if type(bins) != str:\n",
    "        # add bin column\n",
    "        aars_linear_fit[column + '_bin'] = pd.cut(aars_linear_fit[column], bins)\n",
    "        # plot boxplots\n",
    "        sns.boxplot(data=aars_linear_fit, x=column + '_bin', y='linear_fit_coef', showfliers=False, palette=palette, ax=ax[1])\n",
    "    else:\n",
    "        # plot boxplots\n",
    "        sns.boxplot(data=aars_linear_fit, x=column, y='linear_fit_coef', showfliers=False, palette=palette, ax=ax[1])\n",
    "    if type(bins) == str:\n",
    "        ax[1].set_xticks(ax[1].get_xticks())\n",
    "        ax[1].set_xticklabels(ax[1].get_xticklabels(), rotation=90)\n",
    "    ax[1].set_xlabel(column_display)\n",
    "    ax[1].set_ylabel('AAR linear trend [per year]')\n",
    "    \n",
    "    # Edit legend labels for map\n",
    "    handles, labels = ax[0].get_legend_handles_labels()\n",
    "    labels = [x.replace('0.', '-0.').replace('linear_fit_coef_neg', 'AAR linear trend [1/year]').replace(column, column_display) for x in labels]\n",
    "    labels = [x.replace('-0.0', '0.0') for x in labels]\n",
    "    ax[0].legend(handles, labels, loc='center right')\n",
    "    sns.move_legend(ax[0], \"center right\", bbox_to_anchor=[1.15, 0.4, 0.2, 0.2])\n",
    "\n",
    "    plt.show()\n",
    "\n",
    "    # Save figure\n",
    "    fig_fn = 'AARs_linear_fit_map_' + column + '.png'\n",
    "    fig.savefig(os.path.join(figures_out_path, fig_fn), dpi=250, bbox_inches='tight')\n",
    "    print('figure saved to file: ', os.path.join(figures_out_path, fig_fn))"
   ]
  },
  {
   "cell_type": "code",
   "execution_count": null,
   "id": "f53b428f-f554-4203-8097-3339ac915d3e",
   "metadata": {},
   "outputs": [],
   "source": []
  }
 ],
 "metadata": {
  "kernelspec": {
   "display_name": "snow-cover-mapping",
   "language": "python",
   "name": "snow-cover-mapping"
  },
  "language_info": {
   "codemirror_mode": {
    "name": "ipython",
    "version": 3
   },
   "file_extension": ".py",
   "mimetype": "text/x-python",
   "name": "python",
   "nbconvert_exporter": "python",
   "pygments_lexer": "ipython3",
   "version": "3.11.5"
  }
 },
 "nbformat": 4,
 "nbformat_minor": 5
}
