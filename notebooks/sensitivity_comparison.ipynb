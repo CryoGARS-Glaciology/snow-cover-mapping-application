{
 "cells": [
  {
   "cell_type": "markdown",
   "id": "f6773c16-60c2-4fac-8c83-04d71555fee6",
   "metadata": {},
   "source": [
    "# Sensitivity comparison with projections"
   ]
  },
  {
   "cell_type": "code",
   "execution_count": null,
   "id": "6abca9e8-9768-4f74-bf3e-099d8b729125",
   "metadata": {},
   "outputs": [],
   "source": [
    "import os\n",
    "import glob\n",
    "import pandas as pd\n",
    "import xarray as xr\n",
    "import rioxarray as rxr\n",
    "import numpy as np\n",
    "import matplotlib.pyplot as plt"
   ]
  },
  {
   "cell_type": "code",
   "execution_count": null,
   "id": "03a78361-6b5c-4f59-88f8-78be5ce889be",
   "metadata": {
    "scrolled": true
   },
   "outputs": [],
   "source": [
    "data_path = '/Users/raineyaberle/Research/PhD/snow_cover_mapping/Rounce_et_al_2023/'\n",
    "fns = sorted(glob.glob(os.path.join(data_path, '*.nc')))\n",
    "# separate into projections and MAD files\n",
    "proj_fns = [x for x in fns if 'mad' not in x]\n",
    "mad_fns = [x for x in fns if 'mad' in x]"
   ]
  },
  {
   "cell_type": "code",
   "execution_count": null,
   "id": "ea8dba37-2514-4667-b5c0-d63c9086a274",
   "metadata": {},
   "outputs": [],
   "source": [
    "for proj_fn in proj_fns[0:2]:\n",
    "    proj = os.path.basename(proj_fn).split('2100-')[1].split('.nc')[0]\n",
    "    mad_fn = [x for x in mad_fns if proj in x][0]\n",
    "    print(os.path.basename(proj_fn), os.path.basename(mad_fn))\n",
    "    file = xr.open_dataset(proj_fn)\n",
    "    mad = xr.open_dataset(mad_fn)"
   ]
  },
  {
   "cell_type": "code",
   "execution_count": null,
   "id": "950c9b07-9c58-4b71-b7ab-6df440fa4b01",
   "metadata": {},
   "outputs": [],
   "source": [
    "mad_glac = mad.isel(glacier=32, model=0)['glac_area_annual_mad']\n",
    "area_glac = file.isel(glacier=32, model=0)['glac_area_annual']\n",
    "\n",
    "fig, ax = plt.subplots(figsize=(8,6))\n",
    "ax.fill_between(mad_glac.year.data, area_glac.data - mad_glac.data, area_glac.data + mad_glac.data,\n",
    "                color='b', alpha=0.5)\n",
    "ax.plot(area_glac.year.data, area_glac.data, '-b')\n",
    "ax.grid()\n",
    "ax.set_xlim(2000, 2024)\n",
    "ax.set_ylim(4.5e6, 4.65e6)\n",
    "ax.set_xlabel('Year')\n",
    "ax.set_ylabel('Glacier area [m$^2$]')\n",
    "ax.set_title(area_glac.RGIId.data)\n",
    "plt.show()"
   ]
  },
  {
   "cell_type": "code",
   "execution_count": null,
   "id": "ee125aef-561d-4c6f-a8dd-56d9ea5e6507",
   "metadata": {},
   "outputs": [],
   "source": []
  }
 ],
 "metadata": {
  "kernelspec": {
   "display_name": "snow-cover-mapping",
   "language": "python",
   "name": "snow-cover-mapping"
  },
  "language_info": {
   "codemirror_mode": {
    "name": "ipython",
    "version": 3
   },
   "file_extension": ".py",
   "mimetype": "text/x-python",
   "name": "python",
   "nbconvert_exporter": "python",
   "pygments_lexer": "ipython3",
   "version": "3.11.5"
  }
 },
 "nbformat": 4,
 "nbformat_minor": 5
}
