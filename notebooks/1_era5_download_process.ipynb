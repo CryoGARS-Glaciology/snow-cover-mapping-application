{
 "cells": [
  {
   "cell_type": "markdown",
   "metadata": {
    "id": "6mNQl_OJNtXf"
   },
   "source": [
    "# Download ERA5-Land Daily Aggregated time series averaged over an Area of Interest\n",
    "\n",
    "\n",
    "## Requirements: \n",
    "\n",
    "- Google Earth Engine account. Sign up [here](https://earthengine.google.com/signup/).\n",
    "- GIS file of the Area of Interest (AOI) boundaries (.shp, .gpkg, or other file readable by geopandas). "
   ]
  },
  {
   "cell_type": "code",
   "execution_count": null,
   "metadata": {
    "id": "4KGjaZBrNuJc"
   },
   "outputs": [],
   "source": [
    "import ee\n",
    "import geopandas as gpd\n",
    "import pandas as pd\n",
    "import matplotlib.pyplot as plt\n",
    "import numpy as np\n",
    "import os\n",
    "import glob\n",
    "from tqdm.auto import tqdm\n",
    "import xarray as xr\n",
    "import rioxarray as rxr\n",
    "import geojson\n",
    "import math\n",
    "from rasterio.enums import Resampling\n",
    "import geemap\n",
    "import wxee as wx"
   ]
  },
  {
   "cell_type": "markdown",
   "metadata": {},
   "source": [
    "## Authenticate and initialize Google Earth Engine"
   ]
  },
  {
   "cell_type": "code",
   "execution_count": null,
   "metadata": {
    "id": "Y-u8ICnmNx1q"
   },
   "outputs": [],
   "source": [
    "try:\n",
    "    ee.Initialize()\n",
    "except:\n",
    "    ee.Authenticate()\n",
    "    ee.Initialize()"
   ]
  },
  {
   "cell_type": "markdown",
   "metadata": {},
   "source": [
    "## Define filters, etc. for ERA5-Land querying"
   ]
  },
  {
   "cell_type": "code",
   "execution_count": null,
   "metadata": {},
   "outputs": [],
   "source": [
    "# -----Paths to input files\n",
    "# Full path to study-sites\n",
    "study_sites_path = '/Volumes/LaCie/raineyaberle/Research/PhD/snow_cover_mapping/study-sites'\n",
    "# Full path to this code package\n",
    "code_path = '/Users/raineyaberle/Research/PhD/snow_cover_mapping/snow-cover-mapping-application/'\n",
    "\n",
    "# -----Date range\n",
    "date_start = '2012-10-01'\n",
    "date_end = '2023-12-01'\n",
    "\n",
    "# -----Bands to extract from ERA5-Land\n",
    "# See all data bands in the GEE documentation here: \n",
    "# https://developers.google.com/earth-engine/datasets/catalog/ECMWF_ERA5_LAND_DAILY_AGGR#bands\n",
    "bands = ['temperature_2m', \n",
    "         'total_precipitation_sum', \n",
    "         'snowfall_sum', \n",
    "         'snowmelt_sum'] \n",
    "\n",
    "# -----Lapse rate to apply to air temperatures using elevation difference between DEM and ERA5 reference grid\n",
    "lapse_rate = -6 / 1e3 # deg C / m"
   ]
  },
  {
   "cell_type": "markdown",
   "metadata": {},
   "source": [
    "## Download and process data for multiple study sites\n",
    "\n",
    "### Load study site names\n",
    "\n",
    "Assumes all study sites start with \"RGI\" and are located in the same folder, `study-sites-path`."
   ]
  },
  {
   "cell_type": "code",
   "execution_count": null,
   "metadata": {
    "scrolled": true
   },
   "outputs": [],
   "source": [
    "# Grad site names from \"RGI\" folder names\n",
    "rgi_ids = [rgi_id for rgi_id in sorted(os.listdir(study_sites_path)) if 'RGI' in rgi_id]\n",
    "# Filter to sites without ERA data\n",
    "rgi_ids = [rgi_id for rgi_id in rgi_ids if not \n",
    "           os.path.exists(os.path.join(study_sites_path, rgi_id, 'ERA', f'{rgi_id}_ERA5_daily_means.csv'))] \n",
    "print(f'Sites to run = {len(rgi_ids)}')\n",
    "rgi_ids"
   ]
  },
  {
   "cell_type": "markdown",
   "metadata": {},
   "source": [
    "### Iterate over sites, query GEE, and export ERA5-Land to Google Drive\n",
    "\n",
    "Go to your GEE Task Manager to monitor exports: https://code.earthengine.google.com/tasks"
   ]
  },
  {
   "cell_type": "code",
   "execution_count": null,
   "metadata": {
    "scrolled": true
   },
   "outputs": [],
   "source": [
    "# -----Load ERA5 heights and EGM96 geoid heights\n",
    "era5_heights = ee.Image(\"projects/ee-raineyaberle/assets/ERA5_heights_NAmerica_EGM96geoid\")\n",
    "egm96_geoid = ee.Image(\"projects/ee-raineyaberle/assets/us_nga_egm96_15\")\n",
    "\n",
    "# -----Load ArcticDEM coverage\n",
    "arcticdem_coverage_fn = os.path.join(code_path, 'inputs-outputs', 'ArcticDEM_Mosaic_coverage.shp')\n",
    "arcticdem_coverage = gpd.read_file(arcticdem_coverage_fn)\n",
    "\n",
    "# -----Iterate over sites\n",
    "for rgi_id in tqdm(rgi_ids):\n",
    "    print(f'\\n{rgi_id}')\n",
    "    \n",
    "    # Define AOI file name\n",
    "    aoi_fn = os.path.join(study_sites_path, rgi_id, 'AOIs', f'{rgi_id}_outline.shp')\n",
    "        \n",
    "    # Load AOI and adjust for GEE querying\n",
    "    aoi = gpd.read_file(aoi_fn)\n",
    "    aoi = aoi.to_crs('EPSG:4326')\n",
    "    aoi_polar = aoi.to_crs(arcticdem_coverage.crs)\n",
    "    aoi_ee = ee.Geometry.Polygon(list(zip(aoi.geometry[0].exterior.coords.xy[0], \n",
    "                                          aoi.geometry[0].exterior.coords.xy[1])))\n",
    "    \n",
    "    # Query GEE for DEM\n",
    "    if arcticdem_coverage.contains(aoi_polar.geometry[0])[0]: # Check for ArcticDEM coverage\n",
    "        dem = ee.Image(\"UMN/PGC/ArcticDEM/V3/2m_mosaic\").clip(aoi_ee)\n",
    "        dem = ee.Image(dem.subtract(egm96_geoid)) # Convert to geoid heights\n",
    "    else:\n",
    "        dem = ee.Image(\"NASA/NASADEM_HGT/001\").select('elevation').clip(aoi_ee)    \n",
    "    \n",
    "    # Query GEE for the ERA5-Land dataset\n",
    "    era5 = (ee.ImageCollection(\"ECMWF/ERA5_LAND/DAILY_AGGR\")\n",
    "             .filter(ee.Filter.date(date_start, date_end))\n",
    "             .filterBounds(aoi_ee)\n",
    "             .select(bands))\n",
    "\n",
    "    # Interpolate ERA5 and ERA5 heights to DEM grid\n",
    "    scale = 30\n",
    "    def resample(image):\n",
    "        return (image\n",
    "                .resample('bicubic')\n",
    "                .reproject(crs=dem.projection(), scale=scale))\n",
    "        \n",
    "    era5_interp = era5.map(resample)\n",
    "    era5_heights_interp = resample(era5_heights)\n",
    "                        \n",
    "    # Clip to AOI\n",
    "    def clip_to_aoi(image):\n",
    "        return ee.Image(image.clip(aoi_ee.buffer(11e3)))\n",
    "    era5_interp = era5_interp.map(clip_to_aoi)\n",
    "    era5_heights_interp = clip_to_aoi(era5_heights_interp)\n",
    "\n",
    "    # Apply lapse rate adjustment to air temperatures\n",
    "    def apply_lapse_rate(image):\n",
    "        # Convert temperatures from Kelvin to Celsius\n",
    "        temp_C = image.select('temperature_2m').subtract(273.15)\n",
    "        # Calculate the elevation difference\n",
    "        elevation_diff = dem.subtract(era5_heights_interp)\n",
    "        # Apply the lapse rate adjustment\n",
    "        temp_C_adj = temp_C.add(elevation_diff.multiply(lapse_rate))\n",
    "        # Add adjusted temperature as a new band\n",
    "        return image.addBands(temp_C_adj.rename('temperature_2m_C_adj'))\n",
    "    era5_interp_adj = era5_interp.map(apply_lapse_rate)\n",
    "\n",
    "    # Calculate band means over the AOI\n",
    "    def average_bands_over_aoi(image):\n",
    "        # Calculate the mean for all bands over the study area\n",
    "        mean_dict = image.reduceRegion(\n",
    "            reducer=ee.Reducer.mean(),\n",
    "            geometry=aoi_ee,\n",
    "            scale=scale,  \n",
    "            bestEffort=True\n",
    "        )\n",
    "        # Convert the mean values dictionary to a list of property names\n",
    "        band_names = image.bandNames()\n",
    "        properties = band_names.map(lambda band: ee.String('mean_').cat(ee.String(band)))\n",
    "        # Create a dictionary of the mean values with new names prefixed by 'mean_'\n",
    "        mean_properties = ee.Dictionary.fromLists(properties, band_names.map(lambda band: mean_dict.get(band)))\n",
    "        # Create a feature with the system:time_start property and the mean values\n",
    "        return ee.Feature(None, mean_properties.set('system:time_start', image.get('system:time_start')))\n",
    "    era5_mean = era5_interp_adj.map(average_bands_over_aoi)\n",
    "\n",
    "    # Export features to Drive as CSV\n",
    "    task = ee.batch.Export.table.toDrive(\n",
    "        collection=era5_mean,\n",
    "        description=f'{rgi_id}_ERA5_daily_means',\n",
    "        fileNamePrefix=f'{rgi_id}_ERA5_daily_means',\n",
    "        folder='ERA5_Exports',\n",
    "        fileFormat='CSV'\n",
    "    )\n",
    "    task.start()\n",
    "\n",
    "print('\\nExports are a-go-go!')"
   ]
  },
  {
   "cell_type": "markdown",
   "metadata": {},
   "source": [
    "## Process ERA5-Land exports\n",
    "\n",
    "Download all CSVs and place into one folder, `downloads_path`"
   ]
  },
  {
   "cell_type": "code",
   "execution_count": null,
   "metadata": {
    "scrolled": true
   },
   "outputs": [],
   "source": [
    "# Define path to your downloads\n",
    "downloads_path = '/Users/raineyaberle/Downloads/ERA5_Exports/'\n",
    "\n",
    "# Grab file names\n",
    "fns = sorted(glob.glob(os.path.join(downloads_path, '*.csv')))\n",
    "# Grab RGI IDs from file names\n",
    "rgi_ids = [os.path.basename(fn)[0:14] for fn in fns]\n",
    "# Filter to sites without ERA data\n",
    "rgi_ids = [rgi_id for rgi_id in rgi_ids if not \n",
    "           os.path.exists(os.path.join(study_sites_path, rgi_id, 'ERA', f'{rgi_id}_ERA5-Land_daily_means.csv'))] \n",
    "\n",
    "rgi_ids"
   ]
  },
  {
   "cell_type": "markdown",
   "metadata": {},
   "source": [
    "### Define some functions for processing"
   ]
  },
  {
   "cell_type": "code",
   "execution_count": null,
   "metadata": {},
   "outputs": [],
   "source": [
    "def process_dataframe(df, columns):\n",
    "    # Add Date column\n",
    "    df['system:index'] = pd.to_datetime(era5_df['system:index'], format='%Y%m%d')\n",
    "    df.rename(columns={'system:index': 'Date'}, inplace=True)\n",
    "    df.set_index('Date', inplace=True)\n",
    "\n",
    "    # Add year and month columns\n",
    "    df['year'] = df.index.year\n",
    "    df['month'] = df.index.month\n",
    "\n",
    "    # Calculate positive degree days (PDDs)\n",
    "    if 'mean_temperature_2m_C_adj' in columns:\n",
    "        def calculate_pdd(temp_C):\n",
    "            if temp_C > 0:\n",
    "                return temp_C\n",
    "            else:\n",
    "                return 0\n",
    "        df['positive_degree_days'] = df['mean_temperature_2m_C_adj'].apply(calculate_pdd)\n",
    "        # Calculate cumulative PDDs starting in January\n",
    "        df['positive_degree_days_annual_sum'] = df.groupby('year')['positive_degree_days'].cumsum()\n",
    "\n",
    "    # Calculate annual sums for other bands starting in October\n",
    "    # Add water year column\n",
    "    def calculate_water_year(month, year):\n",
    "        if month >= 10:\n",
    "            return year + 1\n",
    "        else:\n",
    "            return year\n",
    "    df['water_year'] = df.apply(lambda x: calculate_water_year(x.month, x.year), axis=1)\n",
    "    for column in columns:\n",
    "        if column=='temperature_2m':\n",
    "            continue\n",
    "        else:\n",
    "            df[f'{column}_annual_sum'] = df.groupby('water_year')[column].cumsum()\n",
    "\n",
    "    return df\n",
    "\n",
    "def plot_time_series(df, columns, out_fn):\n",
    "    fig, ax = plt.subplots(len(columns), 1, figsize=(8,4*len(columns)))\n",
    "    for i, column in enumerate(columns):\n",
    "        if 'temperature' in column:\n",
    "            column_sum = 'positive_degree_days_annual_sum'\n",
    "            ylabel = 'PDD Annual sum'\n",
    "        else:\n",
    "            column_sum = f'{column}_annual_sum'\n",
    "            ylabel = 'Annual sum'\n",
    "        ax2 = ax[i].twinx()\n",
    "        ax2.fill_between(df.index, df[column_sum], color='k', alpha=0.2)\n",
    "        ax2.set_ylabel(ylabel)\n",
    "        ax[i].plot(df.index, df[column], '-k')\n",
    "        ax[i].set_title(column)\n",
    "        ax[i].grid()\n",
    "    plt.close()\n",
    "    # Save figure to file\n",
    "    fig_fn = out_fn.replace('.csv', '.png')\n",
    "    fig.savefig(fig_fn, dpi=300, bbox_inches='tight')\n",
    "    return fig"
   ]
  },
  {
   "cell_type": "markdown",
   "metadata": {},
   "source": [
    "### Iterate over site names"
   ]
  },
  {
   "cell_type": "code",
   "execution_count": null,
   "metadata": {},
   "outputs": [],
   "source": [
    "# Iterate over RGI IDs\n",
    "for rgi_id in tqdm(rgi_ids):\n",
    "    # Load ERA5 CSV\n",
    "    era5_fn = [fn for fn in fns if rgi_id in fn][0]\n",
    "    era5_df = pd.read_csv(era5_fn)\n",
    "\n",
    "    # Define path for outputs\n",
    "    out_path = os.path.join(study_sites_path, rgi_id, 'ERA')\n",
    "    if not os.path.exists(out_path):\n",
    "        os.mkdir(out_path)\n",
    "    out_fn = os.path.join(out_path, os.path.basename(era5_fn))\n",
    "\n",
    "    # Process dataframe\n",
    "    columns = [column for column in era5_df.columns if 'mean_' in column]\n",
    "    era_df = process_dataframe(era5_df, columns)\n",
    "\n",
    "    # Save to file\n",
    "    era5_df.to_csv(out_fn, index=True)\n",
    "    \n",
    "    # Plot time series\n",
    "    fig = plot_time_series(era5_df, columns, out_fn)\n",
    "\n",
    "print('Done! :)')"
   ]
  },
  {
   "cell_type": "code",
   "execution_count": null,
   "metadata": {},
   "outputs": [],
   "source": []
  }
 ],
 "metadata": {
  "colab": {
   "authorship_tag": "ABX9TyPUSxvA9DdKOQi56SFRph5u",
   "provenance": []
  },
  "kernelspec": {
   "display_name": "gscm-application",
   "language": "python",
   "name": "gscm-application"
  },
  "language_info": {
   "codemirror_mode": {
    "name": "ipython",
    "version": 3
   },
   "file_extension": ".py",
   "mimetype": "text/x-python",
   "name": "python",
   "nbconvert_exporter": "python",
   "pygments_lexer": "ipython3",
   "version": "3.12.5"
  }
 },
 "nbformat": 4,
 "nbformat_minor": 4
}
