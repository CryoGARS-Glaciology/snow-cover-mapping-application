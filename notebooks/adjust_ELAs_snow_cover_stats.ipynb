{
 "cells": [
  {
   "cell_type": "markdown",
   "id": "4cd2c640-966d-451d-a233-0208080964fd",
   "metadata": {},
   "source": [
    "# Adjust manual ELA picks and snow cover stats files for comparison and publishing"
   ]
  },
  {
   "cell_type": "markdown",
   "id": "3608c556-118f-4f83-8c00-b8b94d6f2525",
   "metadata": {},
   "source": [
    "## Already ran, don't need to run again!"
   ]
  },
  {
   "cell_type": "code",
   "execution_count": 1,
   "id": "fe36901f-831e-4c1c-bc5e-3dbac0fe2447",
   "metadata": {},
   "outputs": [],
   "source": [
    "import numpy as np\n",
    "import matplotlib.pyplot as plt\n",
    "import pandas as pd\n",
    "import geopandas as gpd\n",
    "import os\n",
    "import glob\n",
    "from shapely.geometry import LineString, Point\n",
    "from shapely import wkt\n",
    "import ast\n",
    "from tqdm.auto import tqdm"
   ]
  },
  {
   "cell_type": "code",
   "execution_count": 2,
   "id": "7b0e0973-481e-4ace-b94e-8ca77daf2ded",
   "metadata": {
    "scrolled": true
   },
   "outputs": [],
   "source": [
    "# Path to all study sites\n",
    "data_path = '/Volumes/LaCie/raineyaberle/Research/PhD/snow_cover_mapping/study-sites/'"
   ]
  },
  {
   "cell_type": "code",
   "execution_count": 3,
   "id": "c38fac20-aad7-4234-9b42-b1fb8a303591",
   "metadata": {},
   "outputs": [],
   "source": [
    "def adjust_date(date):\n",
    "    if ('T' in date) & ('-' in date):\n",
    "        date_adj = date.replace('T', ' ')\n",
    "    elif ('T' in date):\n",
    "        date_adj = f'{date[0:4]}-{date[4:6]}-{date[6:8]} {date[9:11]}:{date[11:13]}:{date[13:]}' \n",
    "    else:\n",
    "        date_adj = date\n",
    "    return date_adj\n",
    "    \n",
    "def get_crs(df):\n",
    "    if 'CRS' in list(df.columns):\n",
    "        if (type(df['CRS'].values[0])==float) & ('HorizontalReference' in list(df.columns)):\n",
    "            crs = df['HorizontalReference'].values[0]\n",
    "        elif (type(df['CRS'].values[0])==float) & ('HorizontalCRS' in list(df.columns)):\n",
    "            crs = df['HorizontalCRS'].values[0]\n",
    "        else:\n",
    "            crs = df['CRS'].values[0]\n",
    "    elif 'HorizontalReference' in list(df.columns):\n",
    "        crs = df['HorizontalReference'].values[0]\n",
    "    elif 'HorizontalCRS' in list(df.columns):\n",
    "        crs = df['HorizontalCRS'].values[0]\n",
    "    return crs\n",
    "    \n",
    "def adjust_geom(geom, crs):\n",
    "    x, y = geom.coords.xy[0], geom.coords.xy[1]\n",
    "    if x[0] > 0:\n",
    "        ls = LineString(list(zip(x, y)))\n",
    "        gdf = gpd.GeoDataFrame(geometry=[ls], crs=crs)\n",
    "        geom = gdf.to_crs('EPSG:4326').values[0][0]\n",
    "    return geom  "
   ]
  },
  {
   "cell_type": "markdown",
   "id": "92121351-0f88-45cc-aa3d-dcf676e736f1",
   "metadata": {},
   "source": [
    "## Adjust and compile manual ELA picks for each site"
   ]
  },
  {
   "cell_type": "code",
   "execution_count": 4,
   "id": "46918692-3a7c-4d2e-9a06-dbf11352af13",
   "metadata": {
    "scrolled": true
   },
   "outputs": [
    {
     "name": "stdout",
     "output_type": "stream",
     "text": [
      "Sites with manual ELA picks = 94\n"
     ]
    },
    {
     "data": {
      "text/plain": [
       "['RGI60-01.00037',\n",
       " 'RGI60-01.00038',\n",
       " 'RGI60-01.00312',\n",
       " 'RGI60-01.00570',\n",
       " 'RGI60-01.01104',\n",
       " 'RGI60-01.01151',\n",
       " 'RGI60-01.01524',\n",
       " 'RGI60-01.01733',\n",
       " 'RGI60-01.08246',\n",
       " 'RGI60-01.08248',\n",
       " 'RGI60-01.08288',\n",
       " 'RGI60-01.08296',\n",
       " 'RGI60-01.09162',\n",
       " 'RGI60-01.10778',\n",
       " 'RGI60-01.11616',\n",
       " 'RGI60-01.11654',\n",
       " 'RGI60-01.11788',\n",
       " 'RGI60-01.12370',\n",
       " 'RGI60-01.14391',\n",
       " 'RGI60-01.14523',\n",
       " 'RGI60-01.16262',\n",
       " 'RGI60-01.17464',\n",
       " 'RGI60-01.17761',\n",
       " 'RGI60-01.17774',\n",
       " 'RGI60-01.17803',\n",
       " 'RGI60-01.17807',\n",
       " 'RGI60-01.19460',\n",
       " 'RGI60-01.19592',\n",
       " 'RGI60-01.19599',\n",
       " 'RGI60-01.19682',\n",
       " 'RGI60-01.19725',\n",
       " 'RGI60-01.19773',\n",
       " 'RGI60-01.19814',\n",
       " 'RGI60-01.19825',\n",
       " 'RGI60-01.20180',\n",
       " 'RGI60-01.20181',\n",
       " 'RGI60-01.20186',\n",
       " 'RGI60-01.20196',\n",
       " 'RGI60-01.20272',\n",
       " 'RGI60-01.20274',\n",
       " 'RGI60-01.20279',\n",
       " 'RGI60-01.20286',\n",
       " 'RGI60-01.20302',\n",
       " 'RGI60-01.20303',\n",
       " 'RGI60-01.20309',\n",
       " 'RGI60-01.20324',\n",
       " 'RGI60-01.20796',\n",
       " 'RGI60-01.21014',\n",
       " 'RGI60-01.22699',\n",
       " 'RGI60-01.23597',\n",
       " 'RGI60-01.23635',\n",
       " 'RGI60-01.23649',\n",
       " 'RGI60-01.23664',\n",
       " 'RGI60-01.26743',\n",
       " 'RGI60-01.27103',\n",
       " 'RGI60-02.01346',\n",
       " 'RGI60-02.01843',\n",
       " 'RGI60-02.02364',\n",
       " 'RGI60-02.02606',\n",
       " 'RGI60-02.03578',\n",
       " 'RGI60-02.03586',\n",
       " 'RGI60-02.03769',\n",
       " 'RGI60-02.04305',\n",
       " 'RGI60-02.04363',\n",
       " 'RGI60-02.04403',\n",
       " 'RGI60-02.04410',\n",
       " 'RGI60-02.05169',\n",
       " 'RGI60-02.06145',\n",
       " 'RGI60-02.06149',\n",
       " 'RGI60-02.06152',\n",
       " 'RGI60-02.06488',\n",
       " 'RGI60-02.06868',\n",
       " 'RGI60-02.07002',\n",
       " 'RGI60-02.07301',\n",
       " 'RGI60-02.09116',\n",
       " 'RGI60-02.09254',\n",
       " 'RGI60-02.09720',\n",
       " 'RGI60-02.09758',\n",
       " 'RGI60-02.10175',\n",
       " 'RGI60-02.10389',\n",
       " 'RGI60-02.12428',\n",
       " 'RGI60-02.12433',\n",
       " 'RGI60-02.12435',\n",
       " 'RGI60-02.12437',\n",
       " 'RGI60-02.12468',\n",
       " 'RGI60-02.12483',\n",
       " 'RGI60-02.14009',\n",
       " 'RGI60-02.14017',\n",
       " 'RGI60-02.14256',\n",
       " 'RGI60-02.17736',\n",
       " 'RGI60-02.17738',\n",
       " 'RGI60-02.17739',\n",
       " 'RGI60-02.17741',\n",
       " 'RGI60-02.18778']"
      ]
     },
     "execution_count": 4,
     "metadata": {},
     "output_type": "execute_result"
    }
   ],
   "source": [
    "# Grab site names with manual ELA picks\n",
    "rgi_ids = sorted([x for x in os.listdir(data_path) if os.path.exists(os.path.join(data_path, x, 'ELAs'))])\n",
    "print(f'Sites with manual ELA picks = {len(rgi_ids)}')\n",
    "rgi_ids"
   ]
  },
  {
   "cell_type": "code",
   "execution_count": 5,
   "id": "7a6babf7-5ad5-4888-b7a1-efdd4323e3bd",
   "metadata": {
    "scrolled": true
   },
   "outputs": [
    {
     "data": {
      "application/vnd.jupyter.widget-view+json": {
       "model_id": "7ed117e71eca4d6fa656df221092a7cb",
       "version_major": 2,
       "version_minor": 0
      },
      "text/plain": [
       "  0%|          | 0/94 [00:00<?, ?it/s]"
      ]
     },
     "metadata": {},
     "output_type": "display_data"
    },
    {
     "name": "stdout",
     "output_type": "stream",
     "text": [
      "Compiled ELAs saved to file: /Volumes/LaCie/raineyaberle/Research/PhD/snow_cover_mapping/study-sites/RGI60-01.00037/RGI60-01.00037_ELAs_manual_picks.csv\n",
      "Compiled ELAs saved to file: /Volumes/LaCie/raineyaberle/Research/PhD/snow_cover_mapping/study-sites/RGI60-01.00038/RGI60-01.00038_ELAs_manual_picks.csv\n",
      "Compiled ELAs saved to file: /Volumes/LaCie/raineyaberle/Research/PhD/snow_cover_mapping/study-sites/RGI60-01.00312/RGI60-01.00312_ELAs_manual_picks.csv\n",
      "Compiled ELAs saved to file: /Volumes/LaCie/raineyaberle/Research/PhD/snow_cover_mapping/study-sites/RGI60-01.00570/RGI60-01.00570_ELAs_manual_picks.csv\n",
      "Compiled ELAs saved to file: /Volumes/LaCie/raineyaberle/Research/PhD/snow_cover_mapping/study-sites/RGI60-01.01104/RGI60-01.01104_ELAs_manual_picks.csv\n",
      "Compiled ELAs saved to file: /Volumes/LaCie/raineyaberle/Research/PhD/snow_cover_mapping/study-sites/RGI60-01.01151/RGI60-01.01151_ELAs_manual_picks.csv\n",
      "Compiled ELAs saved to file: /Volumes/LaCie/raineyaberle/Research/PhD/snow_cover_mapping/study-sites/RGI60-01.01524/RGI60-01.01524_ELAs_manual_picks.csv\n",
      "Compiled ELAs saved to file: /Volumes/LaCie/raineyaberle/Research/PhD/snow_cover_mapping/study-sites/RGI60-01.01733/RGI60-01.01733_ELAs_manual_picks.csv\n",
      "Compiled ELAs saved to file: /Volumes/LaCie/raineyaberle/Research/PhD/snow_cover_mapping/study-sites/RGI60-01.08246/RGI60-01.08246_ELAs_manual_picks.csv\n",
      "Compiled ELAs saved to file: /Volumes/LaCie/raineyaberle/Research/PhD/snow_cover_mapping/study-sites/RGI60-01.08248/RGI60-01.08248_ELAs_manual_picks.csv\n",
      "Compiled ELAs saved to file: /Volumes/LaCie/raineyaberle/Research/PhD/snow_cover_mapping/study-sites/RGI60-01.08288/RGI60-01.08288_ELAs_manual_picks.csv\n",
      "Compiled ELAs saved to file: /Volumes/LaCie/raineyaberle/Research/PhD/snow_cover_mapping/study-sites/RGI60-01.08296/RGI60-01.08296_ELAs_manual_picks.csv\n",
      "Compiled ELAs saved to file: /Volumes/LaCie/raineyaberle/Research/PhD/snow_cover_mapping/study-sites/RGI60-01.09162/RGI60-01.09162_ELAs_manual_picks.csv\n",
      "Compiled ELAs saved to file: /Volumes/LaCie/raineyaberle/Research/PhD/snow_cover_mapping/study-sites/RGI60-01.10778/RGI60-01.10778_ELAs_manual_picks.csv\n",
      "Compiled ELAs saved to file: /Volumes/LaCie/raineyaberle/Research/PhD/snow_cover_mapping/study-sites/RGI60-01.11616/RGI60-01.11616_ELAs_manual_picks.csv\n",
      "Compiled ELAs saved to file: /Volumes/LaCie/raineyaberle/Research/PhD/snow_cover_mapping/study-sites/RGI60-01.11654/RGI60-01.11654_ELAs_manual_picks.csv\n",
      "Compiled ELAs saved to file: /Volumes/LaCie/raineyaberle/Research/PhD/snow_cover_mapping/study-sites/RGI60-01.11788/RGI60-01.11788_ELAs_manual_picks.csv\n",
      "Compiled ELAs saved to file: /Volumes/LaCie/raineyaberle/Research/PhD/snow_cover_mapping/study-sites/RGI60-01.12370/RGI60-01.12370_ELAs_manual_picks.csv\n",
      "Compiled ELAs saved to file: /Volumes/LaCie/raineyaberle/Research/PhD/snow_cover_mapping/study-sites/RGI60-01.14391/RGI60-01.14391_ELAs_manual_picks.csv\n",
      "Compiled ELAs saved to file: /Volumes/LaCie/raineyaberle/Research/PhD/snow_cover_mapping/study-sites/RGI60-01.14523/RGI60-01.14523_ELAs_manual_picks.csv\n",
      "Compiled ELAs saved to file: /Volumes/LaCie/raineyaberle/Research/PhD/snow_cover_mapping/study-sites/RGI60-01.16262/RGI60-01.16262_ELAs_manual_picks.csv\n",
      "Compiled ELAs saved to file: /Volumes/LaCie/raineyaberle/Research/PhD/snow_cover_mapping/study-sites/RGI60-01.17464/RGI60-01.17464_ELAs_manual_picks.csv\n",
      "Compiled ELAs saved to file: /Volumes/LaCie/raineyaberle/Research/PhD/snow_cover_mapping/study-sites/RGI60-01.17761/RGI60-01.17761_ELAs_manual_picks.csv\n",
      "Compiled ELAs saved to file: /Volumes/LaCie/raineyaberle/Research/PhD/snow_cover_mapping/study-sites/RGI60-01.17774/RGI60-01.17774_ELAs_manual_picks.csv\n",
      "Compiled ELAs saved to file: /Volumes/LaCie/raineyaberle/Research/PhD/snow_cover_mapping/study-sites/RGI60-01.17803/RGI60-01.17803_ELAs_manual_picks.csv\n",
      "Compiled ELAs saved to file: /Volumes/LaCie/raineyaberle/Research/PhD/snow_cover_mapping/study-sites/RGI60-01.17807/RGI60-01.17807_ELAs_manual_picks.csv\n",
      "Compiled ELAs saved to file: /Volumes/LaCie/raineyaberle/Research/PhD/snow_cover_mapping/study-sites/RGI60-01.19460/RGI60-01.19460_ELAs_manual_picks.csv\n",
      "Compiled ELAs saved to file: /Volumes/LaCie/raineyaberle/Research/PhD/snow_cover_mapping/study-sites/RGI60-01.19592/RGI60-01.19592_ELAs_manual_picks.csv\n",
      "Compiled ELAs saved to file: /Volumes/LaCie/raineyaberle/Research/PhD/snow_cover_mapping/study-sites/RGI60-01.19599/RGI60-01.19599_ELAs_manual_picks.csv\n",
      "Compiled ELAs saved to file: /Volumes/LaCie/raineyaberle/Research/PhD/snow_cover_mapping/study-sites/RGI60-01.19682/RGI60-01.19682_ELAs_manual_picks.csv\n",
      "Compiled ELAs saved to file: /Volumes/LaCie/raineyaberle/Research/PhD/snow_cover_mapping/study-sites/RGI60-01.19725/RGI60-01.19725_ELAs_manual_picks.csv\n",
      "Compiled ELAs saved to file: /Volumes/LaCie/raineyaberle/Research/PhD/snow_cover_mapping/study-sites/RGI60-01.19773/RGI60-01.19773_ELAs_manual_picks.csv\n",
      "Compiled ELAs saved to file: /Volumes/LaCie/raineyaberle/Research/PhD/snow_cover_mapping/study-sites/RGI60-01.19814/RGI60-01.19814_ELAs_manual_picks.csv\n",
      "Compiled ELAs saved to file: /Volumes/LaCie/raineyaberle/Research/PhD/snow_cover_mapping/study-sites/RGI60-01.19825/RGI60-01.19825_ELAs_manual_picks.csv\n",
      "Compiled ELAs saved to file: /Volumes/LaCie/raineyaberle/Research/PhD/snow_cover_mapping/study-sites/RGI60-01.20180/RGI60-01.20180_ELAs_manual_picks.csv\n",
      "Compiled ELAs saved to file: /Volumes/LaCie/raineyaberle/Research/PhD/snow_cover_mapping/study-sites/RGI60-01.20181/RGI60-01.20181_ELAs_manual_picks.csv\n",
      "Compiled ELAs saved to file: /Volumes/LaCie/raineyaberle/Research/PhD/snow_cover_mapping/study-sites/RGI60-01.20186/RGI60-01.20186_ELAs_manual_picks.csv\n",
      "Compiled ELAs saved to file: /Volumes/LaCie/raineyaberle/Research/PhD/snow_cover_mapping/study-sites/RGI60-01.20196/RGI60-01.20196_ELAs_manual_picks.csv\n",
      "Compiled ELAs saved to file: /Volumes/LaCie/raineyaberle/Research/PhD/snow_cover_mapping/study-sites/RGI60-01.20272/RGI60-01.20272_ELAs_manual_picks.csv\n",
      "Compiled ELAs saved to file: /Volumes/LaCie/raineyaberle/Research/PhD/snow_cover_mapping/study-sites/RGI60-01.20274/RGI60-01.20274_ELAs_manual_picks.csv\n",
      "Compiled ELAs saved to file: /Volumes/LaCie/raineyaberle/Research/PhD/snow_cover_mapping/study-sites/RGI60-01.20279/RGI60-01.20279_ELAs_manual_picks.csv\n",
      "Compiled ELAs saved to file: /Volumes/LaCie/raineyaberle/Research/PhD/snow_cover_mapping/study-sites/RGI60-01.20286/RGI60-01.20286_ELAs_manual_picks.csv\n",
      "Compiled ELAs saved to file: /Volumes/LaCie/raineyaberle/Research/PhD/snow_cover_mapping/study-sites/RGI60-01.20302/RGI60-01.20302_ELAs_manual_picks.csv\n",
      "Compiled ELAs saved to file: /Volumes/LaCie/raineyaberle/Research/PhD/snow_cover_mapping/study-sites/RGI60-01.20303/RGI60-01.20303_ELAs_manual_picks.csv\n",
      "Compiled ELAs saved to file: /Volumes/LaCie/raineyaberle/Research/PhD/snow_cover_mapping/study-sites/RGI60-01.20309/RGI60-01.20309_ELAs_manual_picks.csv\n",
      "Compiled ELAs saved to file: /Volumes/LaCie/raineyaberle/Research/PhD/snow_cover_mapping/study-sites/RGI60-01.20324/RGI60-01.20324_ELAs_manual_picks.csv\n",
      "Compiled ELAs saved to file: /Volumes/LaCie/raineyaberle/Research/PhD/snow_cover_mapping/study-sites/RGI60-01.20796/RGI60-01.20796_ELAs_manual_picks.csv\n",
      "Compiled ELAs saved to file: /Volumes/LaCie/raineyaberle/Research/PhD/snow_cover_mapping/study-sites/RGI60-01.21014/RGI60-01.21014_ELAs_manual_picks.csv\n",
      "Compiled ELAs saved to file: /Volumes/LaCie/raineyaberle/Research/PhD/snow_cover_mapping/study-sites/RGI60-01.22699/RGI60-01.22699_ELAs_manual_picks.csv\n",
      "Compiled ELAs saved to file: /Volumes/LaCie/raineyaberle/Research/PhD/snow_cover_mapping/study-sites/RGI60-01.23597/RGI60-01.23597_ELAs_manual_picks.csv\n",
      "Compiled ELAs saved to file: /Volumes/LaCie/raineyaberle/Research/PhD/snow_cover_mapping/study-sites/RGI60-01.23635/RGI60-01.23635_ELAs_manual_picks.csv\n",
      "Compiled ELAs saved to file: /Volumes/LaCie/raineyaberle/Research/PhD/snow_cover_mapping/study-sites/RGI60-01.23649/RGI60-01.23649_ELAs_manual_picks.csv\n",
      "Compiled ELAs saved to file: /Volumes/LaCie/raineyaberle/Research/PhD/snow_cover_mapping/study-sites/RGI60-01.23664/RGI60-01.23664_ELAs_manual_picks.csv\n",
      "Compiled ELAs saved to file: /Volumes/LaCie/raineyaberle/Research/PhD/snow_cover_mapping/study-sites/RGI60-01.26743/RGI60-01.26743_ELAs_manual_picks.csv\n",
      "Compiled ELAs saved to file: /Volumes/LaCie/raineyaberle/Research/PhD/snow_cover_mapping/study-sites/RGI60-01.27103/RGI60-01.27103_ELAs_manual_picks.csv\n",
      "Compiled ELAs saved to file: /Volumes/LaCie/raineyaberle/Research/PhD/snow_cover_mapping/study-sites/RGI60-02.01346/RGI60-02.01346_ELAs_manual_picks.csv\n",
      "Compiled ELAs saved to file: /Volumes/LaCie/raineyaberle/Research/PhD/snow_cover_mapping/study-sites/RGI60-02.01843/RGI60-02.01843_ELAs_manual_picks.csv\n",
      "Compiled ELAs saved to file: /Volumes/LaCie/raineyaberle/Research/PhD/snow_cover_mapping/study-sites/RGI60-02.02364/RGI60-02.02364_ELAs_manual_picks.csv\n",
      "Compiled ELAs saved to file: /Volumes/LaCie/raineyaberle/Research/PhD/snow_cover_mapping/study-sites/RGI60-02.02606/RGI60-02.02606_ELAs_manual_picks.csv\n",
      "Compiled ELAs saved to file: /Volumes/LaCie/raineyaberle/Research/PhD/snow_cover_mapping/study-sites/RGI60-02.03578/RGI60-02.03578_ELAs_manual_picks.csv\n",
      "Compiled ELAs saved to file: /Volumes/LaCie/raineyaberle/Research/PhD/snow_cover_mapping/study-sites/RGI60-02.03586/RGI60-02.03586_ELAs_manual_picks.csv\n",
      "Compiled ELAs saved to file: /Volumes/LaCie/raineyaberle/Research/PhD/snow_cover_mapping/study-sites/RGI60-02.03769/RGI60-02.03769_ELAs_manual_picks.csv\n",
      "Compiled ELAs saved to file: /Volumes/LaCie/raineyaberle/Research/PhD/snow_cover_mapping/study-sites/RGI60-02.04305/RGI60-02.04305_ELAs_manual_picks.csv\n",
      "Compiled ELAs saved to file: /Volumes/LaCie/raineyaberle/Research/PhD/snow_cover_mapping/study-sites/RGI60-02.04363/RGI60-02.04363_ELAs_manual_picks.csv\n",
      "Compiled ELAs saved to file: /Volumes/LaCie/raineyaberle/Research/PhD/snow_cover_mapping/study-sites/RGI60-02.04403/RGI60-02.04403_ELAs_manual_picks.csv\n",
      "Compiled ELAs saved to file: /Volumes/LaCie/raineyaberle/Research/PhD/snow_cover_mapping/study-sites/RGI60-02.04410/RGI60-02.04410_ELAs_manual_picks.csv\n",
      "Compiled ELAs saved to file: /Volumes/LaCie/raineyaberle/Research/PhD/snow_cover_mapping/study-sites/RGI60-02.05169/RGI60-02.05169_ELAs_manual_picks.csv\n",
      "Compiled ELAs saved to file: /Volumes/LaCie/raineyaberle/Research/PhD/snow_cover_mapping/study-sites/RGI60-02.06145/RGI60-02.06145_ELAs_manual_picks.csv\n",
      "Compiled ELAs saved to file: /Volumes/LaCie/raineyaberle/Research/PhD/snow_cover_mapping/study-sites/RGI60-02.06149/RGI60-02.06149_ELAs_manual_picks.csv\n",
      "Compiled ELAs saved to file: /Volumes/LaCie/raineyaberle/Research/PhD/snow_cover_mapping/study-sites/RGI60-02.06152/RGI60-02.06152_ELAs_manual_picks.csv\n",
      "Compiled ELAs saved to file: /Volumes/LaCie/raineyaberle/Research/PhD/snow_cover_mapping/study-sites/RGI60-02.06488/RGI60-02.06488_ELAs_manual_picks.csv\n",
      "Compiled ELAs saved to file: /Volumes/LaCie/raineyaberle/Research/PhD/snow_cover_mapping/study-sites/RGI60-02.06868/RGI60-02.06868_ELAs_manual_picks.csv\n",
      "Compiled ELAs saved to file: /Volumes/LaCie/raineyaberle/Research/PhD/snow_cover_mapping/study-sites/RGI60-02.07002/RGI60-02.07002_ELAs_manual_picks.csv\n",
      "Compiled ELAs saved to file: /Volumes/LaCie/raineyaberle/Research/PhD/snow_cover_mapping/study-sites/RGI60-02.07301/RGI60-02.07301_ELAs_manual_picks.csv\n",
      "Compiled ELAs saved to file: /Volumes/LaCie/raineyaberle/Research/PhD/snow_cover_mapping/study-sites/RGI60-02.09116/RGI60-02.09116_ELAs_manual_picks.csv\n",
      "Compiled ELAs saved to file: /Volumes/LaCie/raineyaberle/Research/PhD/snow_cover_mapping/study-sites/RGI60-02.09254/RGI60-02.09254_ELAs_manual_picks.csv\n",
      "Compiled ELAs saved to file: /Volumes/LaCie/raineyaberle/Research/PhD/snow_cover_mapping/study-sites/RGI60-02.09720/RGI60-02.09720_ELAs_manual_picks.csv\n",
      "Compiled ELAs saved to file: /Volumes/LaCie/raineyaberle/Research/PhD/snow_cover_mapping/study-sites/RGI60-02.09758/RGI60-02.09758_ELAs_manual_picks.csv\n",
      "Compiled ELAs saved to file: /Volumes/LaCie/raineyaberle/Research/PhD/snow_cover_mapping/study-sites/RGI60-02.10175/RGI60-02.10175_ELAs_manual_picks.csv\n",
      "Compiled ELAs saved to file: /Volumes/LaCie/raineyaberle/Research/PhD/snow_cover_mapping/study-sites/RGI60-02.10389/RGI60-02.10389_ELAs_manual_picks.csv\n",
      "Compiled ELAs saved to file: /Volumes/LaCie/raineyaberle/Research/PhD/snow_cover_mapping/study-sites/RGI60-02.12428/RGI60-02.12428_ELAs_manual_picks.csv\n",
      "Compiled ELAs saved to file: /Volumes/LaCie/raineyaberle/Research/PhD/snow_cover_mapping/study-sites/RGI60-02.12433/RGI60-02.12433_ELAs_manual_picks.csv\n",
      "Compiled ELAs saved to file: /Volumes/LaCie/raineyaberle/Research/PhD/snow_cover_mapping/study-sites/RGI60-02.12435/RGI60-02.12435_ELAs_manual_picks.csv\n",
      "Compiled ELAs saved to file: /Volumes/LaCie/raineyaberle/Research/PhD/snow_cover_mapping/study-sites/RGI60-02.12437/RGI60-02.12437_ELAs_manual_picks.csv\n",
      "Compiled ELAs saved to file: /Volumes/LaCie/raineyaberle/Research/PhD/snow_cover_mapping/study-sites/RGI60-02.12468/RGI60-02.12468_ELAs_manual_picks.csv\n",
      "Compiled ELAs saved to file: /Volumes/LaCie/raineyaberle/Research/PhD/snow_cover_mapping/study-sites/RGI60-02.12483/RGI60-02.12483_ELAs_manual_picks.csv\n",
      "Compiled ELAs saved to file: /Volumes/LaCie/raineyaberle/Research/PhD/snow_cover_mapping/study-sites/RGI60-02.14009/RGI60-02.14009_ELAs_manual_picks.csv\n",
      "Compiled ELAs saved to file: /Volumes/LaCie/raineyaberle/Research/PhD/snow_cover_mapping/study-sites/RGI60-02.14017/RGI60-02.14017_ELAs_manual_picks.csv\n",
      "Compiled ELAs saved to file: /Volumes/LaCie/raineyaberle/Research/PhD/snow_cover_mapping/study-sites/RGI60-02.14256/RGI60-02.14256_ELAs_manual_picks.csv\n",
      "Compiled ELAs saved to file: /Volumes/LaCie/raineyaberle/Research/PhD/snow_cover_mapping/study-sites/RGI60-02.17736/RGI60-02.17736_ELAs_manual_picks.csv\n",
      "Compiled ELAs saved to file: /Volumes/LaCie/raineyaberle/Research/PhD/snow_cover_mapping/study-sites/RGI60-02.17738/RGI60-02.17738_ELAs_manual_picks.csv\n",
      "Compiled ELAs saved to file: /Volumes/LaCie/raineyaberle/Research/PhD/snow_cover_mapping/study-sites/RGI60-02.17739/RGI60-02.17739_ELAs_manual_picks.csv\n",
      "Compiled ELAs saved to file: /Volumes/LaCie/raineyaberle/Research/PhD/snow_cover_mapping/study-sites/RGI60-02.17741/RGI60-02.17741_ELAs_manual_picks.csv\n",
      "Compiled ELAs saved to file: /Volumes/LaCie/raineyaberle/Research/PhD/snow_cover_mapping/study-sites/RGI60-02.18778/RGI60-02.18778_ELAs_manual_picks.csv\n"
     ]
    }
   ],
   "source": [
    "# Iterate over site names\n",
    "for rgi_id in tqdm(rgi_ids):\n",
    "    # Load manual ELA picks\n",
    "    ela_fns = glob.glob(os.path.join(data_path, rgi_id, 'ELAs', '*ELAs*.csv'))\n",
    "    elas = pd.DataFrame()\n",
    "    for fn in ela_fns:\n",
    "        ela = pd.read_csv(fn)\n",
    "        elas = pd.concat([elas, ela])\n",
    "    elas.reset_index(drop=True, inplace=True)\n",
    "    # Adjust datetimes\n",
    "    elas['datetime'] = [adjust_date(d) for d in elas['datetime'].values]\n",
    "    # Adjust geometries if snowline obs. exists\n",
    "    if type(elas.geometry.values[0])==LineString:\n",
    "        ela['geometry'] = ela['geometry'].apply(wkt.loads)\n",
    "        crs = get_crs(elas)\n",
    "        elas['geometry'] = [adjust_geom(geom, crs) for geom in elas['geometry'].values]\n",
    "        elas['snowlines_coords_X'] = [list(x.coords.xy[0]) for x in elas['geometry'].values]\n",
    "        elas['snowlines_coords_Y'] = [list(x.coords.xy[1]) for x in elas['geometry'].values]\n",
    "    # Rename site name column\n",
    "    if 'site_name' in list(elas.columns):\n",
    "        elas.rename(columns={'site_name': 'RGIId'}, inplace=True)\n",
    "    if 'study_site' in list(elas.columns):\n",
    "        elas.rename(columns={'study_site': 'RGIId'}, inplace=True)\n",
    "    # Select columns and order\n",
    "    cols = ['RGIId', 'datetime', 'dataset', 'snowlines_coords_X', 'snowlines_coords_Y', \n",
    "            'snowline_elevs_m', 'snowline_elevs_median_m', 'SCA_m2', 'AAR']\n",
    "    elas['RGIId'] = rgi_id\n",
    "    elas = elas[cols]\n",
    "    # Save to file\n",
    "    out_fn = os.path.join(data_path, rgi_id, f'{rgi_id}_ELAs_manual_picks.csv')\n",
    "    elas.to_csv(out_fn, index=False)\n",
    "    print('Compiled ELAs saved to file:', out_fn)"
   ]
  },
  {
   "cell_type": "markdown",
   "id": "a97384ee-68dc-48e1-b5dd-0af29cdc7cad",
   "metadata": {},
   "source": [
    "## Adjust and compile automated snow cover stats for each site"
   ]
  },
  {
   "cell_type": "code",
   "execution_count": null,
   "id": "e6fa6ddd-3087-4b55-aadd-218d44128064",
   "metadata": {
    "scrolled": true
   },
   "outputs": [],
   "source": [
    "# Grab site names with automated snow cover stats\n",
    "rgi_ids = sorted([x for x in os.listdir(data_path) if os.path.exists(os.path.join(data_path, x, 'imagery', 'snowlines'))])\n",
    "print(f'Sites with automated snow cover stats = {len(rgi_ids)}')\n",
    "rgi_ids"
   ]
  },
  {
   "cell_type": "code",
   "execution_count": null,
   "id": "00f1d963-65b8-4338-b208-1f256ce027b4",
   "metadata": {
    "scrolled": true
   },
   "outputs": [],
   "source": [
    "# Iterate over site names\n",
    "for rgi_id in tqdm(['RGI60-01.20186']):\n",
    "    # Load automated snow cover stats\n",
    "    sc_fns = sorted(glob.glob(os.path.join(data_path, rgi_id, 'imagery', 'snowlines', '*snowline*.csv')))\n",
    "    scs = pd.DataFrame()\n",
    "    for fn in sc_fns:\n",
    "        sc = pd.read_csv(fn)\n",
    "        scs = pd.concat([scs, sc])\n",
    "    scs.reset_index(drop=True, inplace=True)\n",
    "    # Adjust datetimes\n",
    "    scs['datetime'] = [adjust_date(d) for d in scs['datetime'].values]\n",
    "    # Adjust geometries\n",
    "    geoms = []\n",
    "    xs, ys = [], []\n",
    "    crs = get_crs(scs)\n",
    "    for geom in scs['geometry'].values:\n",
    "        if geom!='[]':\n",
    "            geom = wkt.loads(geom)\n",
    "            geom = adjust_geom(geom, crs) \n",
    "            x, y = list(geom.coords.xy[0]), list(geom.coords.xy[1])\n",
    "        else:\n",
    "            x, y = [], []\n",
    "        geoms.append(geom)\n",
    "        xs.append(x)\n",
    "        ys.append(y)\n",
    "    scs['geometry'] = geoms\n",
    "    scs['snowlines_coords_X'] = xs\n",
    "    scs['snowlines_coords_Y'] = ys\n",
    "    # Rename site name column\n",
    "    if 'site_name' in list(scs.columns):\n",
    "        scs.rename(columns={'site_name': 'RGIId'}, inplace=True)\n",
    "    if 'study_site' in list(scs.columns):\n",
    "        scs.rename(columns={'study_site': 'RGIId'}, inplace=True)\n",
    "    # Select columns and order\n",
    "    cols = ['RGIId', 'datetime', 'dataset', 'snowlines_coords_X', 'snowlines_coords_Y', \n",
    "            'snowline_elevs_m', 'snowline_elevs_median_m', 'SCA_m2', 'AAR', 'ELA_from_AAR_m']\n",
    "    scs = scs[cols]\n",
    "    scs['RGIId'] = rgi_id\n",
    "\n",
    "    # Save to file\n",
    "    out_fn = os.path.join(data_path, rgi_id, f'{rgi_id}_snow_cover_stats.csv')\n",
    "    scs.to_csv(out_fn, index=False)\n",
    "    print('Compiled snow cover stats saved to file:', out_fn)"
   ]
  },
  {
   "cell_type": "code",
   "execution_count": null,
   "id": "940b134f-2ba2-4946-8a10-22c4e975fc30",
   "metadata": {},
   "outputs": [],
   "source": [
    "# Check that snowlines and snow cover stats have the same length\n",
    "rgi_ids_err = []\n",
    "for rgi_id in tqdm(rgi_ids):\n",
    "    snowlines_fn = os.path.join(data_path, rgi_id, f'{rgi_id}_snowlines.csv')\n",
    "    snowlines = pd.read_csv(snowlines_fn)\n",
    "    scs_fn = os.path.join(data_path, rgi_id, f'{rgi_id}_snow_cover_stats.csv')\n",
    "    scs = pd.read_csv(scs_fn)\n",
    "    if len(snowlines)!=len(scs):\n",
    "        print(rgi_id, len(snowlines), len(scs))\n",
    "        rgi_ids_err.append(rgi_id)"
   ]
  },
  {
   "cell_type": "code",
   "execution_count": null,
   "id": "ece8bda4-0f9e-4923-8359-b4d89550b700",
   "metadata": {
    "scrolled": true
   },
   "outputs": [],
   "source": [
    "for rgi_id in tqdm(rgi_ids_err):\n",
    "    print(rgi_id)\n",
    "    snowlines_fn = os.path.join(data_path, rgi_id, f'{rgi_id}_snowlines.csv')\n",
    "    snowlines = pd.read_csv(snowlines_fn)\n",
    "    snowlines['datetime'] = pd.to_datetime(snowlines['datetime'], format='mixed')\n",
    "    snowlines_dt_ds = [list(x) for x in snowlines[['datetime', 'dataset']].values]\n",
    "    scs_fn = os.path.join(data_path, rgi_id, f'{rgi_id}_snow_cover_stats.csv')\n",
    "    scs = pd.read_csv(scs_fn)\n",
    "    scs['datetime'] = pd.to_datetime(scs['datetime'])\n",
    "    scs_dt_ds = scs[['datetime', 'dataset']].values.astype(list)\n",
    "    for x in snowlines_dt_ds:\n",
    "        if x not in scs_dt_ds:\n",
    "            print(x)\n",
    "    print(' ')"
   ]
  },
  {
   "cell_type": "code",
   "execution_count": null,
   "id": "ce40b9c0-d816-44c5-97bd-5248240b3e02",
   "metadata": {},
   "outputs": [],
   "source": [
    "# -----Remove \"snowlines\" files\n",
    "for rgi_id in tqdm(rgi_ids): \n",
    "    snowlines_fn = snowlines_fn = os.path.join(data_path, rgi_id, f'{rgi_id}_snowlines.csv')\n",
    "    os.remove(snowlines_fn)"
   ]
  }
 ],
 "metadata": {
  "kernelspec": {
   "display_name": "snow-cover-mapping",
   "language": "python",
   "name": "snow-cover-mapping"
  },
  "language_info": {
   "codemirror_mode": {
    "name": "ipython",
    "version": 3
   },
   "file_extension": ".py",
   "mimetype": "text/x-python",
   "name": "python",
   "nbconvert_exporter": "python",
   "pygments_lexer": "ipython3",
   "version": "3.11.5"
  }
 },
 "nbformat": 4,
 "nbformat_minor": 5
}
