{
 "cells": [
  {
   "cell_type": "markdown",
   "id": "0d80a20a-188e-4acc-92ea-e8ca7d9b80c2",
   "metadata": {
    "id": "0d80a20a-188e-4acc-92ea-e8ca7d9b80c2"
   },
   "source": [
    "# Manual and automated ELA picks: Make figures for AGU"
   ]
  },
  {
   "cell_type": "code",
   "execution_count": null,
   "id": "fAZ06i6wnODX",
   "metadata": {
    "colab": {
     "base_uri": "https://localhost:8080/"
    },
    "executionInfo": {
     "elapsed": 7559,
     "status": "ok",
     "timestamp": 1702075644136,
     "user": {
      "displayName": "Alexandra Friel",
      "userId": "09130180654457172534"
     },
     "user_tz": 420
    },
    "id": "fAZ06i6wnODX",
    "outputId": "86e03712-74f5-455f-b891-5d55b3896f98"
   },
   "outputs": [],
   "source": [
    "pip install contextily"
   ]
  },
  {
   "cell_type": "code",
   "execution_count": null,
   "id": "c41f9369-a4ff-41bc-84f1-6a18cf1104b2",
   "metadata": {
    "executionInfo": {
     "elapsed": 843,
     "status": "ok",
     "timestamp": 1702075647450,
     "user": {
      "displayName": "Alexandra Friel",
      "userId": "09130180654457172534"
     },
     "user_tz": 420
    },
    "id": "c41f9369-a4ff-41bc-84f1-6a18cf1104b2"
   },
   "outputs": [],
   "source": [
    "import matplotlib.pyplot as plt\n",
    "import pandas as pd\n",
    "import os\n",
    "import glob\n",
    "import numpy as np\n",
    "import geopandas as gpd\n",
    "import seaborn as sns\n",
    "from tqdm.auto import tqdm\n",
    "import contextily as ctx\n",
    "from scipy.stats import iqr"
   ]
  },
  {
   "cell_type": "code",
   "execution_count": null,
   "id": "f5bcbc26-c0d1-43f7-a5c7-4b5efdbbd105",
   "metadata": {
    "colab": {
     "base_uri": "https://localhost:8080/"
    },
    "executionInfo": {
     "elapsed": 16529,
     "status": "ok",
     "timestamp": 1702075667087,
     "user": {
      "displayName": "Alexandra Friel",
      "userId": "09130180654457172534"
     },
     "user_tz": 420
    },
    "id": "f5bcbc26-c0d1-43f7-a5c7-4b5efdbbd105",
    "outputId": "35de946a-b887-4f49-c760-fa19ac8a2203"
   },
   "outputs": [],
   "source": [
    "#If using Google Colab, mount Google Drive so you can access the files in this folder\n",
    "from google.colab import drive\n",
    "drive.mount('/content/drive', force_remount=True)"
   ]
  },
  {
   "cell_type": "code",
   "execution_count": null,
   "id": "146c2f3e-8c73-49b7-a926-92fb6daad411",
   "metadata": {
    "executionInfo": {
     "elapsed": 135,
     "status": "ok",
     "timestamp": 1702075673088,
     "user": {
      "displayName": "Alexandra Friel",
      "userId": "09130180654457172534"
     },
     "user_tz": 420
    },
    "id": "146c2f3e-8c73-49b7-a926-92fb6daad411"
   },
   "outputs": [],
   "source": [
    "# RAINEY'S PATH TO SNOW_COVER_MAPPING_APPLICATION\n",
    "#base_path = '/Users/raineyaberle/Google Drive/My Drive/Research/CryoGARS-Glaciology/Advising/student-research/Alexandra-Friel/snow_cover_mapping_application/'\n",
    "\n",
    "# ALEXANDRA'S PATH TO SNOW_COVER_MAPPING_APPLICATION\n",
    "base_path = '/content/drive/MyDrive/CryoGARS-Glaciology/Advising/student-research/Alexandra-Friel/snow_cover_mapping_application/'\n",
    "\n",
    "# path for output figures\n",
    "figures_out_path = os.path.join(base_path, 'figures')"
   ]
  },
  {
   "cell_type": "markdown",
   "id": "74c31ce4-5a9b-4498-9b10-a4078041c11c",
   "metadata": {
    "id": "74c31ce4-5a9b-4498-9b10-a4078041c11c"
   },
   "source": [
    "## Define function for determining each subregion's name and color"
   ]
  },
  {
   "cell_type": "code",
   "execution_count": null,
   "id": "ff849096-869e-4a4a-b28b-4224e5fe0671",
   "metadata": {
    "executionInfo": {
     "elapsed": 129,
     "status": "ok",
     "timestamp": 1702075676216,
     "user": {
      "displayName": "Alexandra Friel",
      "userId": "09130180654457172534"
     },
     "user_tz": 420
    },
    "id": "ff849096-869e-4a4a-b28b-4224e5fe0671"
   },
   "outputs": [],
   "source": [
    "def determine_subregion_name_color(o1, o2):\n",
    "    if (o1 == 1.0) and (o2 == 1.0):\n",
    "        subregion_name, color = 'Brooks Range', 'c'\n",
    "    elif (o1 == 1.0) and (o2 == 2.0):\n",
    "        subregion_name, color = 'Alaska Range', '#1f78b4'\n",
    "    elif (o1 == 1.0) and (o2 == 3.0):\n",
    "        subregion_name, color = 'Aleutians', '#6d9c43'\n",
    "    elif (o1 == 1.0) and (o2 == 4.0):\n",
    "        subregion_name, color = 'W. Chugach Mtns.', '#264708'\n",
    "    elif (o1 == 1.0) and (o2 == 5.0):\n",
    "        subregion_name, color = 'St. Elias Mtns.', '#fb9a99'\n",
    "    elif (o1 == 1.0) and (o2 == 6.0):\n",
    "        subregion_name, color = 'N. Coast Ranges', '#e31a1c'\n",
    "    elif (o1 == 2.0) and (o2 == 1.0):\n",
    "        subregion_name, color = 'N. Rockies', '#cab2d6'\n",
    "    elif (o1 == 2.0) and (o2 == 2.0):\n",
    "        subregion_name, color = 'N. Cascades', '#fdbf6f'\n",
    "    elif (o1 == 2.0) and (o2 == 3.0):\n",
    "        subregion_name, color = 'C. Rockies', '#9657d9'\n",
    "    elif (o1 == 2.0) and (o2 == 4.0):\n",
    "        subregion_name, color = 'S. Cascades', '#ff7f00'\n",
    "    elif (o1 == 2.0) and (o2 == 5.0):\n",
    "        subregion_name, color = 'S. Rockies', '#6a3d9a'\n",
    "    else:\n",
    "        subregion_name = 'O1:' + o1 + ' O2:' + o2\n",
    "        color = 'k'\n",
    "\n",
    "    return subregion_name, color"
   ]
  },
  {
   "cell_type": "markdown",
   "id": "ef418d40-d6ba-4b3c-8dd8-b6e0d552fe40",
   "metadata": {
    "id": "ef418d40-d6ba-4b3c-8dd8-b6e0d552fe40"
   },
   "source": [
    "## Plot ELA time series and Meteorological data"
   ]
  },
  {
   "cell_type": "code",
   "execution_count": null,
   "id": "6702258c-b91c-4e44-89cf-4c01458b79f9",
   "metadata": {
    "colab": {
     "base_uri": "https://localhost:8080/",
     "height": 332
    },
    "executionInfo": {
     "elapsed": 2476,
     "status": "ok",
     "timestamp": 1702075737304,
     "user": {
      "displayName": "Alexandra Friel",
      "userId": "09130180654457172534"
     },
     "user_tz": 420
    },
    "id": "6702258c-b91c-4e44-89cf-4c01458b79f9",
    "outputId": "508818d2-7820-4732-a94d-901ed5e6ff49"
   },
   "outputs": [],
   "source": [
    "# Load ELA training data\n",
    "elas_fn = 'ELA_training_data.csv'\n",
    "elas = pd.read_csv(os.path.join(base_path, 'snow-cover-mapping-application', 'inputs-outputs', elas_fn))\n",
    "elas['datetime'] = pd.to_datetime(elas['datetime']) # put all dates in datetime format\n",
    "elas[['O1Region', 'O2Region']] = elas[['O1Region', 'O2Region']].astype(float)\n",
    "\n",
    "# Load met data\n",
    "precip_fn = 'Precip_time_series_AK.csv'\n",
    "precip_data = pd.read_csv(os.path.join(base_path, precip_fn))\n",
    "temp_fn = '2m_air_temperature_anomaly_time_series_AK.csv'\n",
    "temp_data = pd.read_csv(os.path.join(base_path, temp_fn))\n",
    "\n",
    "# Identify unique subregions\n",
    "unique_subregions = elas[['O1Region', 'O2Region']].drop_duplicates().sort_values(by=['O1Region', 'O2Region'])\n",
    "unique_subregions.reset_index(drop=True, inplace=True)\n",
    "unique_subregions"
   ]
  },
  {
   "cell_type": "markdown",
   "id": "0f6f74d1-7726-4370-8bd1-3652b9b96297",
   "metadata": {
    "id": "0f6f74d1-7726-4370-8bd1-3652b9b96297"
   },
   "source": [
    "## Version 1: boxplots for AARs and ELAs and met data"
   ]
  },
  {
   "cell_type": "code",
   "execution_count": null,
   "id": "4741c39d-8ebb-4f62-abd9-e628e6f1bfcd",
   "metadata": {
    "colab": {
     "base_uri": "https://localhost:8080/",
     "height": 1000
    },
    "executionInfo": {
     "elapsed": 5974,
     "status": "ok",
     "timestamp": 1702075753155,
     "user": {
      "displayName": "Alexandra Friel",
      "userId": "09130180654457172534"
     },
     "user_tz": 420
    },
    "id": "4741c39d-8ebb-4f62-abd9-e628e6f1bfcd",
    "outputId": "7e4013cc-2e17-427e-c321-77d2c795caee"
   },
   "outputs": [],
   "source": [
    "# -----Set up figure\n",
    "plt.rcParams.update({'font.size':16, 'font.sans-serif':'Arial'})\n",
    "fig, ax = plt.subplots(3, 1, figsize=(10,14))\n",
    "ax2 = ax[2].twinx()\n",
    "xrange = [np.datetime64('2015-11-01'), np.datetime64('2022-12-01')]\n",
    "\n",
    "# -----ELA time series\n",
    "# add year column\n",
    "elas['Year'] = elas['datetime'].values.astype('datetime64[Y]').astype(int) + 1970\n",
    "# add subregion name and color columns to elas\n",
    "elas[['Subregion', 'Color']] = '', ''\n",
    "for o1region, o2region in unique_subregions.values:\n",
    "    subregion_name, color = determine_subregion_name_color(o1region, o2region)\n",
    "    elas.loc[(elas['O1Region']==o1region) & (elas['O2Region']==o2region), 'Subregion'] = subregion_name\n",
    "    elas.loc[(elas['O1Region']==o1region) & (elas['O2Region']==o2region), 'Color'] = color\n",
    "elas.sort_values(by=['O1Region', 'O2Region'], inplace=True)\n",
    "# define palette for subregions\n",
    "palette = elas[['O1Region', 'O2Region', 'Subregion', 'Color']].drop_duplicates()\n",
    "palette = dict(palette[['Subregion', 'Color']].values)\n",
    "# plot boxplots\n",
    "bp1 = sns.boxplot(data=elas, x='Year', y='AAR', ax=ax[0], hue='Subregion',\n",
    "                  palette=palette, fliersize=0, width=0.7)\n",
    "bp2 = sns.boxplot(data=elas, x='Year', y='snowline_elevs_median_m', ax=ax[1], hue='Subregion',\n",
    "                  palette=palette, fliersize=0, width=0.7)\n",
    "# adjust axes\n",
    "ax[0].set_xlabel('')\n",
    "ax[0].set_ylabel('AAR')\n",
    "# ax[0].yaxis.grid()\n",
    "ax[1].set_xlabel('')\n",
    "ax[1].set_ylabel('ELA [m]')\n",
    "# ax[1].yaxis.grid()\n",
    "# adjust legend\n",
    "ax[0].legend(loc='center right', bbox_to_anchor=[1.2, -0.25, 0.2, 0.2])\n",
    "ax[1].get_legend().remove()\n",
    "\n",
    "# -----Meteorological Data\n",
    "# define axes settings\n",
    "colors = ['#1b9e77', '#d95f02']  # colors for plotting and labeling each variable\n",
    "yaxis_labels = ['1950-2000 Precipitation Anomaly [m.w.e.]', '1950-2000 2m Air Temp. Anomaly [$^{\\circ}$C]']\n",
    "# -----Iterate over met. variables\n",
    "for data, axis, color, yaxis_label in list(zip([precip_data, temp_data],\n",
    "                                               [ax[2], ax2],\n",
    "                                               colors,\n",
    "                                               yaxis_labels)):\n",
    "    # Restructure dataframe so dates are in one column, precipitation is in another column\n",
    "    data['Year'] = data['Year'].astype(str)\n",
    "    data_restruct = pd.DataFrame()\n",
    "    columns = ['Jan', 'Feb', 'Mar', 'Apr', 'May', 'Jun', 'Jul', 'Aug', 'Sep', 'Oct', 'Nov', 'Dec']\n",
    "    # iterate over month columns\n",
    "    for i, column in enumerate(columns):\n",
    "        # grab month number\n",
    "        if i+1 < 10:\n",
    "            month = '0' + str(i+1)\n",
    "        else:\n",
    "            month = str(i+1)\n",
    "        # grab dates and precipitation values for month\n",
    "        dates = [np.datetime64(year + '-' + month + '-01') for year in data['Year'].values]\n",
    "        data_values = data[column].values\n",
    "        # compile into dataframe\n",
    "        df = pd.DataFrame({'Date': dates, 'Values': data_values})\n",
    "        # concatenate to full dataframe\n",
    "        data_restruct = pd.concat([data_restruct, df])\n",
    "    # Remove no data values\n",
    "    data_restruct = data_restruct.drop(data_restruct[data_restruct['Values'] <= -999].index)\n",
    "    # Sort by date and renumber indices\n",
    "    data_restruct.sort_values(by='Date', inplace=True)\n",
    "    data_restruct.reset_index(drop=True, inplace=True)\n",
    "    # calculate yearly mean\n",
    "    yearly_mean = data_restruct.groupby(data_restruct['Date'].dt.year)['Values'].mean()\n",
    "    # only include years starting in 2016\n",
    "    yearly_mean = yearly_mean.iloc[yearly_mean.index >= 2016]\n",
    "    dates = [np.datetime64(str(year) + '-01-01') for year in yearly_mean.index]\n",
    "    # Plot\n",
    "    axis.plot(dates, yearly_mean.values, '.-', color=color, markersize=15, linewidth=2)\n",
    "    # adjust axes\n",
    "    axis.set_ylabel(yaxis_label, color=color)\n",
    "    axis.tick_params(axis='y', colors=color)\n",
    "    # axis.spines[yaxis_side].set_color(color)\n",
    "    axis.set_xlim(np.datetime64('2015-07-01'), np.datetime64('2022-07-01'))\n",
    "\n",
    "# add text labels\n",
    "labels = ['a', 'b', 'c']\n",
    "for axis, label in zip(ax, labels):\n",
    "    axis.text((axis.get_xlim()[1] - axis.get_xlim()[0]) * 0.01 + axis.get_xlim()[0],\n",
    "              (axis.get_ylim()[1] - axis.get_ylim()[0]) * 0.9 + axis.get_ylim()[0],\n",
    "              label, bbox=dict(facecolor='white', edgecolor='None', pad=3), fontsize=18, fontweight='bold')\n",
    "\n",
    "ax[2].set_xlabel('Year')\n",
    "ax[2].grid()\n",
    "ax[2].set_ylim(-0.55, 0.5)\n",
    "ax2.set_ylim(0, 3)\n",
    "plt.show()\n",
    "\n",
    "# save figure\n",
    "fig_fn = os.path.join(figures_out_path, 'AARs_ELAs_boxplots_met_data.png')\n",
    "fig.savefig(fig_fn, dpi=300, bbox_inches='tight')\n",
    "print('figure saved to file: ' + fig_fn)"
   ]
  },
  {
   "cell_type": "code",
   "execution_count": null,
   "id": "Zts_p_M-oP_7",
   "metadata": {
    "executionInfo": {
     "elapsed": 159,
     "status": "ok",
     "timestamp": 1702075948433,
     "user": {
      "displayName": "Alexandra Friel",
      "userId": "09130180654457172534"
     },
     "user_tz": 420
    },
    "id": "Zts_p_M-oP_7"
   },
   "outputs": [],
   "source": []
  },
  {
   "cell_type": "markdown",
   "id": "7be1f230-f05a-4633-8a38-0aebd8a060fc",
   "metadata": {
    "id": "7be1f230-f05a-4633-8a38-0aebd8a060fc"
   },
   "source": [
    "## Version 2: median ELAs and AARs and met data"
   ]
  },
  {
   "cell_type": "code",
   "execution_count": null,
   "id": "ab9f812d-1e43-44da-9073-65cc6ee5e91d",
   "metadata": {
    "colab": {
     "base_uri": "https://localhost:8080/",
     "height": 1000
    },
    "executionInfo": {
     "elapsed": 4372,
     "status": "ok",
     "timestamp": 1702075766839,
     "user": {
      "displayName": "Alexandra Friel",
      "userId": "09130180654457172534"
     },
     "user_tz": 420
    },
    "id": "ab9f812d-1e43-44da-9073-65cc6ee5e91d",
    "outputId": "dc576627-ee5d-4585-a72b-3f9b2ea164eb"
   },
   "outputs": [],
   "source": [
    "# -----Set up figure\n",
    "plt.rcParams.update({'font.size':14, 'font.sans-serif':'Arial'})\n",
    "fig, ax = plt.subplots(3, 1, figsize=(10,12))\n",
    "ax2 = ax[2].twinx()\n",
    "xrange = [np.datetime64('2015-11-01'), np.datetime64('2022-12-01')]\n",
    "\n",
    "# -----ELA time series\n",
    "# add year column\n",
    "elas['Year'] = elas['datetime'].values.astype('datetime64[Y]').astype(int) + 1970\n",
    "# add subregion name and color columns to elas\n",
    "elas[['Subregion', 'Color']] = '', ''\n",
    "for o1region, o2region in unique_subregions.values:\n",
    "    subregion_name, color = determine_subregion_name_color(o1region, o2region)\n",
    "    elas.loc[(elas['O1Region']==o1region) & (elas['O2Region']==o2region), 'Subregion'] = subregion_name\n",
    "    elas.loc[(elas['O1Region']==o1region) & (elas['O2Region']==o2region), 'Color'] = color\n",
    "elas.sort_values(by=['O1Region', 'O2Region'], inplace=True)\n",
    "# define palette for subregions\n",
    "palette = elas[['O1Region', 'O2Region', 'Subregion', 'Color']].drop_duplicates()\n",
    "palette = dict(palette[['Subregion', 'Color']].values)\n",
    "# plot lineplot of median trends\n",
    "linewidth = 2\n",
    "markersize = 15\n",
    "sns.lineplot(data=elas.groupby(['Year', 'Subregion'])['AAR'].median().reset_index(), x='Year', y='AAR',\n",
    "             hue='Subregion', palette=palette, ax=ax[0], marker='.', linewidth=linewidth, markersize=markersize)\n",
    "sns.lineplot(data=elas.groupby(['Year', 'Subregion'])['snowline_elevs_median_m'].median().reset_index(), x='Year', y='snowline_elevs_median_m',\n",
    "             hue='Subregion', palette=palette, ax=ax[1], marker='.', linewidth=linewidth, markersize=markersize)\n",
    "\n",
    "# adjust axes\n",
    "ax[0].set_xlabel('')\n",
    "ax[0].set_ylabel('AAR')\n",
    "ax[0].grid()\n",
    "ax[1].set_xlabel('')\n",
    "ax[1].set_ylabel('ELA [m]')\n",
    "ax[1].grid()\n",
    "# adjust legend\n",
    "leg = ax[0].legend(loc='center right', bbox_to_anchor=[1.15, -0.25, 0.2, 0.2], markerscale=2)\n",
    "for line in leg.get_lines():\n",
    "    line.set_linewidth(linewidth)\n",
    "ax[1].get_legend().remove()\n",
    "\n",
    "# -----Meteorological Data\n",
    "# define axes settings\n",
    "colors = ['#1b9e77', '#d95f02']  # colors for plotting and labeling each variable\n",
    "yaxis_labels = ['1950-2000 Precipitation Anomaly [m.w.e.]', '1950-2000 2m Air Temp. Anomaly [$^{\\circ}$C]']\n",
    "# -----Iterate over met. variables\n",
    "for data, axis, color, yaxis_label in list(zip([precip_data, temp_data],\n",
    "                                               [ax[2], ax2],\n",
    "                                               colors,\n",
    "                                               yaxis_labels)):\n",
    "    # Restructure dataframe so dates are in one column, precipitation is in another column\n",
    "    data['Year'] = data['Year'].astype(str)\n",
    "    data_restruct = pd.DataFrame()\n",
    "    columns = ['Jan', 'Feb', 'Mar', 'Apr', 'May', 'Jun', 'Jul', 'Aug', 'Sep', 'Oct', 'Nov', 'Dec']\n",
    "    # iterate over month columns\n",
    "    for i, column in enumerate(columns):\n",
    "        # grab month number\n",
    "        if i+1 < 10:\n",
    "            month = '0' + str(i+1)\n",
    "        else:\n",
    "            month = str(i+1)\n",
    "        # grab dates and precipitation values for month\n",
    "        dates = [np.datetime64(year + '-' + month + '-01') for year in data['Year'].values]\n",
    "        data_values = data[column].values\n",
    "        # compile into dataframe\n",
    "        df = pd.DataFrame({'Date': dates, 'Values': data_values})\n",
    "        # concatenate to full dataframe\n",
    "        data_restruct = pd.concat([data_restruct, df])\n",
    "    # Remove no data values\n",
    "    data_restruct = data_restruct.drop(data_restruct[data_restruct['Values'] <= -999].index)\n",
    "    # Sort by date and renumber indices\n",
    "    data_restruct.sort_values(by='Date', inplace=True)\n",
    "    data_restruct.reset_index(drop=True, inplace=True)\n",
    "    # calculate yearly mean\n",
    "    yearly_mean = data_restruct.groupby(data_restruct['Date'].dt.year)['Values'].mean()\n",
    "    # only include years starting in 2016\n",
    "    yearly_mean = yearly_mean.iloc[yearly_mean.index >= 2016]\n",
    "    dates = [np.datetime64(str(year) + '-01-01') for year in yearly_mean.index]\n",
    "    # Plot\n",
    "    axis.plot(dates, yearly_mean.values, '.-', color=color, markersize=markersize, linewidth=2)\n",
    "    # adjust axes\n",
    "    axis.set_ylabel(yaxis_label, color=color)\n",
    "    axis.tick_params(axis='y', colors=color)\n",
    "    # axis.spines[yaxis_side].set_color(color)\n",
    "    axis.set_xlim(np.datetime64('2015-07-01'), np.datetime64('2022-07-01'))\n",
    "\n",
    "# add text labels\n",
    "labels = ['a', 'b', 'c']\n",
    "for axis, label in zip(ax, labels):\n",
    "    axis.text((axis.get_xlim()[1] - axis.get_xlim()[0]) * 0.01 + axis.get_xlim()[0],\n",
    "              (axis.get_ylim()[1] - axis.get_ylim()[0]) * 0.9 + axis.get_ylim()[0],\n",
    "              label, bbox=dict(facecolor='white', edgecolor='None', pad=3), fontsize=18, fontweight='bold')\n",
    "\n",
    "ax[2].set_xlabel('Year')\n",
    "ax[2].grid()\n",
    "ax[2].set_ylim(-0.55, 0.5)\n",
    "ax2.set_ylim(0, 3)\n",
    "plt.show()\n",
    "\n",
    "# save figure\n",
    "fig_fn = os.path.join(figures_out_path, 'AARs_ELAs_median_lineplot_met_data.png')\n",
    "fig.savefig(fig_fn, dpi=300, bbox_inches='tight')\n",
    "print('figure saved to file: ' + fig_fn)"
   ]
  },
  {
   "cell_type": "markdown",
   "id": "6c703c63-694f-4d29-8206-808cc8ad3d9f",
   "metadata": {
    "id": "6c703c63-694f-4d29-8206-808cc8ad3d9f"
   },
   "source": [
    "## Version 3: ELAs and AARs boxplots for all years lumped together"
   ]
  },
  {
   "cell_type": "code",
   "execution_count": null,
   "id": "f9c3b2a2-b6be-4ec7-bf26-76e7c791bc2e",
   "metadata": {
    "colab": {
     "base_uri": "https://localhost:8080/",
     "height": 1000
    },
    "executionInfo": {
     "elapsed": 2831,
     "status": "ok",
     "timestamp": 1702076009357,
     "user": {
      "displayName": "Alexandra Friel",
      "userId": "09130180654457172534"
     },
     "user_tz": 420
    },
    "id": "f9c3b2a2-b6be-4ec7-bf26-76e7c791bc2e",
    "outputId": "ed6b6772-5d27-4568-e0e4-6506dc0c2344"
   },
   "outputs": [],
   "source": [
    "# -----Set up figure\n",
    "plt.rcParams.update({'font.size':16, 'font.sans-serif':'Arial'})\n",
    "fig, ax = plt.subplots(2, 1, figsize=(10,12))\n",
    "# ax2 = ax[2].twinx()\n",
    "xrange = [np.datetime64('2015-11-01'), np.datetime64('2022-12-01')]\n",
    "\n",
    "# -----ELA time series\n",
    "# add year column\n",
    "elas['Year'] = elas['datetime'].values.astype('datetime64[Y]').astype(int) + 1970\n",
    "# add subregion name and color columns to elas\n",
    "elas[['Subregion', 'Color']] = '', ''\n",
    "for o1region, o2region in unique_subregions.values:\n",
    "    subregion_name, color = determine_subregion_name_color(o1region, o2region)\n",
    "    elas.loc[(elas['O1Region']==o1region) & (elas['O2Region']==o2region), 'Subregion'] = subregion_name\n",
    "    elas.loc[(elas['O1Region']==o1region) & (elas['O2Region']==o2region), 'Color'] = color\n",
    "elas.sort_values(by=['O1Region', 'O2Region'], inplace=True)\n",
    "# define palette for subregions\n",
    "palette = elas[['O1Region', 'O2Region', 'Subregion', 'Color']].drop_duplicates()\n",
    "palette = dict(palette[['Subregion', 'Color']].values)\n",
    "# plot boxplots\n",
    "bp1 = sns.boxplot(data=elas, x='Subregion', y='AAR', ax=ax[0], hue='Subregion',\n",
    "                  palette=palette, fliersize=0, width=7)\n",
    "bp2 = sns.boxplot(data=elas, x='Subregion', y='snowline_elevs_median_m', ax=ax[1], hue='Subregion',\n",
    "                  palette=palette, fliersize=0, width=7)\n",
    "# adjust axes\n",
    "ax[0].set_ylabel('AAR')\n",
    "ax[0].yaxis.grid()\n",
    "ax[1].set_ylabel('ELA [m]')\n",
    "ax[1].yaxis.grid()\n",
    "# adjust legend\n",
    "ax[0].legend(loc='center right', bbox_to_anchor=[1.2, -0.25, 0.2, 0.2])\n",
    "ax[0].set_xticks([])\n",
    "ax[1].set_xticks([])\n",
    "ax[0].set_xticklabels([])\n",
    "ax[1].set_xticklabels([])\n",
    "ax[1].get_legend().remove()\n",
    "ax[0].set_xlim(-5, 13)\n",
    "ax[1].set_xlim(-5, 13)\n",
    "ax[0].set_xlabel('')\n",
    "ax[1].set_xlabel('')\n",
    "ax2.set_ylim(0, 3)\n",
    "plt.show()\n",
    "\n",
    "# save figure\n",
    "fig_fn = os.path.join(figures_out_path, 'AARs_ELAs_boxplots.png')\n",
    "fig.savefig(fig_fn, dpi=300, bbox_inches='tight')\n",
    "print('figure saved to file: ' + fig_fn)"
   ]
  },
  {
   "cell_type": "markdown",
   "id": "7e9ba84e-de8d-4e93-a31f-c3f2d617dc48",
   "metadata": {
    "id": "7e9ba84e-de8d-4e93-a31f-c3f2d617dc48"
   },
   "source": [
    "## Plot geographic distribution of sites"
   ]
  },
  {
   "cell_type": "code",
   "execution_count": null,
   "id": "811efd6d-8a0b-4607-85f3-0a400b266b1d",
   "metadata": {
    "colab": {
     "base_uri": "https://localhost:8080/",
     "height": 67,
     "referenced_widgets": [
      "f6b98f8f88ff43dc989ab656bf64b30e",
      "b9709f04cd2946aab42096e3a6e0b157",
      "585ff07384f144ce982562b2cc7f3ccf",
      "3ee8e40f8cd64597b378f7e7c0829d7e",
      "360bca98a2404898926802d84ffe4e9a",
      "926dd256d1be4351b4c024e65a2d2831",
      "b67f45108b264bef8c90e1cc5c174ec7",
      "fee4e89a5aa94a1a8cd19b7931c13d4c",
      "61ec1b2de7fb46559b8d7f2eb048673f",
      "7a599d15446a4077877b2bd976eb4322",
      "edf86a7b326440329a52f5abbe8e394f"
     ]
    },
    "executionInfo": {
     "elapsed": 205023,
     "status": "ok",
     "timestamp": 1702076218130,
     "user": {
      "displayName": "Alexandra Friel",
      "userId": "09130180654457172534"
     },
     "user_tz": 420
    },
    "id": "811efd6d-8a0b-4607-85f3-0a400b266b1d",
    "outputId": "d7e5e5ea-53da-4f24-bd70-ba492c7be7a6"
   },
   "outputs": [],
   "source": [
    "study_sites_path = os.path.join(base_path, 'study-sites')\n",
    "\n",
    "# load RGI O2 regions\n",
    "rgi_o2_fn = os.path.join(base_path, 'GIS_data', 'RGI2000-v7.0-regions',\n",
    "                         'RGI2000-v7.0-o2regions-Alaska-westernCanadaUS_clipped_to_country_outlines.shp')\n",
    "rgi_o2 = gpd.read_file(rgi_o2_fn)\n",
    "rgi_o2['o2region'] = [x[3:] for x in rgi_o2['o2region'].values]\n",
    "rgi_o2[['o1region', 'o2region']] = rgi_o2[['o1region', 'o2region']].astype(float)\n",
    "\n",
    "# grab all site names with ELA files\n",
    "site_names = sorted(os.listdir(study_sites_path))\n",
    "site_names = [x for x in site_names if os.path.exists(os.path.join(study_sites_path, x, 'ELAs'))]\n",
    "site_names = [x for x in site_names if len(os.listdir(os.path.join(study_sites_path, x, 'ELAs')))>0]\n",
    "print('Total number of sites = ', len(site_names))\n",
    "\n",
    "# load aois\n",
    "aois = gpd.GeoDataFrame()\n",
    "for site_name in tqdm(site_names):\n",
    "    aoi_fn = glob.glob(os.path.join(study_sites_path, site_name, 'AOIs', '*RGI*.shp'))[0]\n",
    "    aoi = gpd.read_file(aoi_fn)\n",
    "    aoi = aoi.to_crs('EPSG:4326')\n",
    "    aois = pd.concat([aois, aoi])\n",
    "aois[['O1Region', 'O2Region']] = aois[['O1Region', 'O2Region']].astype(float)"
   ]
  },
  {
   "cell_type": "code",
   "execution_count": null,
   "id": "5d3bd710-aff8-4685-bab5-35bbf6a33266",
   "metadata": {
    "id": "5d3bd710-aff8-4685-bab5-35bbf6a33266",
    "scrolled": true
   },
   "outputs": [],
   "source": [
    "# set up figure\n",
    "fig = plt.figure(figsize=(12,12))\n",
    "ax = plt.subplot(1, 1, 1)\n",
    "crs = 'EPSG:9822' # Albers Equal Conic projection\n",
    "\n",
    "# reproject aois and rgi to crs\n",
    "aois_reproj = aois.to_crs(crs)\n",
    "# change name of area column for displaying\n",
    "aois_reproj.rename(columns={'Area':'Area [km$^2$]'}, inplace=True)\n",
    "# add geometry centroid coordinates\n",
    "aois_reproj['centroid_x'] = [x.centroid.coords.xy[0][0] for x in aois_reproj['geometry']]\n",
    "aois_reproj['centroid_y'] = [x.centroid.coords.xy[1][0] for x in aois_reproj['geometry']]\n",
    "aois_reproj[['Subregion', 'Color']] = ['', '']\n",
    "rgi_reproj = rgi_o2.to_crs(crs)\n",
    "\n",
    "# iterate over subregions\n",
    "for o1region, o2region in unique_subregions.values:\n",
    "    # determine subregion name and color for plotting\n",
    "    subregion_name, color = determine_subregion_name_color(o1region, o2region)\n",
    "    # add columns to dataframe\n",
    "    aois_reproj.loc[(aois_reproj['O1Region']==o1region) & (aois_reproj['O2Region']==o2region), 'Subregion'] = subregion_name\n",
    "    aois_reproj.loc[(aois_reproj['O1Region']==o1region) & (aois_reproj['O2Region']==o2region), 'Color'] = color\n",
    "    # plot subregion outlines\n",
    "    rgi_subregion = rgi_reproj.loc[(rgi_reproj['o1region']==o1region) & (rgi_reproj['o2region']==o2region)]\n",
    "    rgi_subregion.plot(ax=ax, facecolor=color, edgecolor=color, alpha=0.2)\n",
    "\n",
    "# plot geometry centroids\n",
    "kwargs = {'edgecolor': \"w\",\n",
    "          'linewidth': 0.7,\n",
    "          'linestyle':'-'}\n",
    "sns.scatterplot(data=aois_reproj, x='centroid_x', y='centroid_y', hue='Subregion', size='Area [km$^2$]',\n",
    "                sizes=(20,500), palette=dict(aois_reproj[['Subregion', 'Color']].drop_duplicates().values), **kwargs)\n",
    "\n",
    "# adjust axes\n",
    "ax.set_xlim(-5200000, -2000000)\n",
    "ax.set_ylim(6700000, 10800000)\n",
    "ax.set_xticks([])\n",
    "ax.set_yticks([])\n",
    "ax.set_ylabel('')\n",
    "ax.set_xlabel('')\n",
    "\n",
    "# add legend to figure\n",
    "ax.legend(loc='upper right', bbox_to_anchor=[1.4, 0.5, 0.2, 0.2],\n",
    "          title='Study sites (N=' + str(len(aois)) + ')')\n",
    "# add basemap\n",
    "ctx.add_basemap(ax=ax, source=ctx.providers.Esri.WorldGrayCanvas, crs=crs, attribution=False)\n",
    "plt.show()\n",
    "\n",
    "# save figure\n",
    "fig_fn = os.path.join(figures_out_path, 'ELA_study_sites.png')\n",
    "fig.savefig(fig_fn, dpi=300, bbox_inches='tight')\n",
    "print('figure saved to file: ' + fig_fn)"
   ]
  },
  {
   "cell_type": "markdown",
   "id": "f08d2fe0-3d93-4630-a13e-e2542f1485c1",
   "metadata": {
    "id": "f08d2fe0-3d93-4630-a13e-e2542f1485c1"
   },
   "source": [
    "## Plot locations of the example sites"
   ]
  },
  {
   "cell_type": "code",
   "execution_count": null,
   "id": "326c1035-fcd8-4022-96ad-00ba15fdf6fa",
   "metadata": {
    "colab": {
     "base_uri": "https://localhost:8080/",
     "height": 1000
    },
    "executionInfo": {
     "elapsed": 508,
     "status": "error",
     "timestamp": 1702075994139,
     "user": {
      "displayName": "Alexandra Friel",
      "userId": "09130180654457172534"
     },
     "user_tz": 420
    },
    "id": "326c1035-fcd8-4022-96ad-00ba15fdf6fa",
    "outputId": "bcb8bb8c-034b-47b4-e516-6be5423797c9"
   },
   "outputs": [],
   "source": [
    "# set up figure\n",
    "fig = plt.figure(figsize=(12,12), frameon=False)\n",
    "ax = plt.subplot(1, 1, 1)\n",
    "\n",
    "# plot markers for example glaciers\n",
    "ids = ['RGI60-02.12483', 'RGI60-01.17774', 'RGI60-02.03578']\n",
    "for id in ids:\n",
    "    aoi_example = aois_reproj.loc[aois_reproj['RGIId']==id]\n",
    "    color = aoi_example['Color'].values[0]\n",
    "    ax.plot(aoi_example['centroid_x'].values, aoi_example['centroid_y'].values, '*',\n",
    "            markerfacecolor=color, markeredgecolor=color, markersize=20, label=id)\n",
    "\n",
    "# plot o2 regions\n",
    "for o1region, o2region in unique_subregions.values:\n",
    "    # determine subregion name and color for plotting\n",
    "    subregion_name, color = determine_subregion_name_color(o1region, o2region)\n",
    "    # plot subregion outlines\n",
    "    rgi_subregion = rgi_reproj.loc[(rgi_reproj['o1region']==o1region) & (rgi_reproj['o2region']==o2region)]\n",
    "    rgi_subregion.plot(ax=ax, facecolor=color, edgecolor=color, alpha=0.2)\n",
    "\n",
    "# adjust axes\n",
    "ax.set_xlim(-5200000, -2500000)\n",
    "ax.set_ylim(6700000, 10200000)\n",
    "ax.set_xticks([])\n",
    "ax.set_yticks([])\n",
    "ax.set_ylabel('')\n",
    "ax.set_xlabel('')\n",
    "\n",
    "# add legend\n",
    "ax.legend(loc='center right', bbox_to_anchor=[1.25, 0.5, 0.2, 0.2])\n",
    "\n",
    "plt.show()\n",
    "\n",
    "# save figure\n",
    "fig_fn = os.path.join(figures_out_path, 'ELA_adjustment_example_site_locations.png')\n",
    "fig.savefig(fig_fn, dpi=300, bbox_inches='tight')\n",
    "print('figure saved to file: ' + fig_fn)"
   ]
  },
  {
   "cell_type": "markdown",
   "id": "a98c8be7-1044-4f90-b341-ac59b2fcbd5d",
   "metadata": {
    "id": "a98c8be7-1044-4f90-b341-ac59b2fcbd5d"
   },
   "source": [
    "## Plot best model feature importances"
   ]
  },
  {
   "cell_type": "code",
   "execution_count": null,
   "id": "56f4ce43-2d61-4dea-8743-87373619349e",
   "metadata": {
    "id": "56f4ce43-2d61-4dea-8743-87373619349e"
   },
   "outputs": [],
   "source": [
    "# load best model feature importances\n",
    "importances_fn = os.path.join(base_path, 'snow-cover-mapping-application',\n",
    "                              'inputs-outputs', 'best_model_ELAs_feature_importances.csv')\n",
    "importances = pd.read_csv(importances_fn)\n",
    "columns = list(importances.keys())\n",
    "# calculate medians and IQRs for each variable\n",
    "medians = [np.median(importances[column].values) for column in columns]\n",
    "iqrs = [iqr(importances[column].values) for column in columns]\n",
    "\n",
    "# plot\n",
    "plt.rcParams.update({'font.size':18, 'font.sans-serif':'Arial'})\n",
    "fig, ax = plt.subplots(1,1, figsize=(10,6))\n",
    "props = {'linewidth': 2, 'color': 'k'}\n",
    "# plot bars for medians\n",
    "x = np.arange(0, len(medians))\n",
    "b = ax.bar(x, medians, yerr=iqrs, edgecolor='k', error_kw={'elinewidth':3}, linewidth=2)\n",
    "# change bar colors\n",
    "colors = ['#800000', '#008080', '#ffa500', '#febfcb', '#00ffff']\n",
    "for i, bar in enumerate(b):\n",
    "    bar.set_facecolor(colors[i])\n",
    "\n",
    "# ax.grid()\n",
    "ax.set_xticks(np.arange(0,len(columns)))\n",
    "ax.set_xticklabels(['Area', 'Z$_{med}$', 'Slope', 'Aspect', 'L$_{max}$'])\n",
    "ax.set_ylabel('Importance')\n",
    "plt.show()\n",
    "\n",
    "# save figure\n",
    "fig_fn = os.path.join(figures_out_path, 'ELA_best_model_feature_importances.png')\n",
    "fig.savefig(fig_fn, dpi=300, bbox_inches='tight')\n",
    "print('figure saved to file: ' + fig_fn)"
   ]
  },
  {
   "cell_type": "code",
   "execution_count": null,
   "id": "fbd45134-adef-428c-8b64-759e78506add",
   "metadata": {
    "id": "fbd45134-adef-428c-8b64-759e78506add"
   },
   "outputs": [],
   "source": []
  }
 ],
 "metadata": {
  "colab": {
   "provenance": []
  },
  "kernelspec": {
   "display_name": "snow-cover-mapping",
   "language": "python",
   "name": "snow-cover-mapping"
  },
  "language_info": {
   "codemirror_mode": {
    "name": "ipython",
    "version": 3
   },
   "file_extension": ".py",
   "mimetype": "text/x-python",
   "name": "python",
   "nbconvert_exporter": "python",
   "pygments_lexer": "ipython3",
   "version": "3.11.5"
  },
  "widgets": {
   "application/vnd.jupyter.widget-state+json": {
    "360bca98a2404898926802d84ffe4e9a": {
     "model_module": "@jupyter-widgets/base",
     "model_module_version": "1.2.0",
     "model_name": "LayoutModel",
     "state": {
      "_model_module": "@jupyter-widgets/base",
      "_model_module_version": "1.2.0",
      "_model_name": "LayoutModel",
      "_view_count": null,
      "_view_module": "@jupyter-widgets/base",
      "_view_module_version": "1.2.0",
      "_view_name": "LayoutView",
      "align_content": null,
      "align_items": null,
      "align_self": null,
      "border": null,
      "bottom": null,
      "display": null,
      "flex": null,
      "flex_flow": null,
      "grid_area": null,
      "grid_auto_columns": null,
      "grid_auto_flow": null,
      "grid_auto_rows": null,
      "grid_column": null,
      "grid_gap": null,
      "grid_row": null,
      "grid_template_areas": null,
      "grid_template_columns": null,
      "grid_template_rows": null,
      "height": null,
      "justify_content": null,
      "justify_items": null,
      "left": null,
      "margin": null,
      "max_height": null,
      "max_width": null,
      "min_height": null,
      "min_width": null,
      "object_fit": null,
      "object_position": null,
      "order": null,
      "overflow": null,
      "overflow_x": null,
      "overflow_y": null,
      "padding": null,
      "right": null,
      "top": null,
      "visibility": null,
      "width": null
     }
    },
    "3ee8e40f8cd64597b378f7e7c0829d7e": {
     "model_module": "@jupyter-widgets/controls",
     "model_module_version": "1.5.0",
     "model_name": "HTMLModel",
     "state": {
      "_dom_classes": [],
      "_model_module": "@jupyter-widgets/controls",
      "_model_module_version": "1.5.0",
      "_model_name": "HTMLModel",
      "_view_count": null,
      "_view_module": "@jupyter-widgets/controls",
      "_view_module_version": "1.5.0",
      "_view_name": "HTMLView",
      "description": "",
      "description_tooltip": null,
      "layout": "IPY_MODEL_7a599d15446a4077877b2bd976eb4322",
      "placeholder": "​",
      "style": "IPY_MODEL_edf86a7b326440329a52f5abbe8e394f",
      "value": " 95/95 [02:13&lt;00:00,  1.12s/it]"
     }
    },
    "585ff07384f144ce982562b2cc7f3ccf": {
     "model_module": "@jupyter-widgets/controls",
     "model_module_version": "1.5.0",
     "model_name": "FloatProgressModel",
     "state": {
      "_dom_classes": [],
      "_model_module": "@jupyter-widgets/controls",
      "_model_module_version": "1.5.0",
      "_model_name": "FloatProgressModel",
      "_view_count": null,
      "_view_module": "@jupyter-widgets/controls",
      "_view_module_version": "1.5.0",
      "_view_name": "ProgressView",
      "bar_style": "success",
      "description": "",
      "description_tooltip": null,
      "layout": "IPY_MODEL_fee4e89a5aa94a1a8cd19b7931c13d4c",
      "max": 95,
      "min": 0,
      "orientation": "horizontal",
      "style": "IPY_MODEL_61ec1b2de7fb46559b8d7f2eb048673f",
      "value": 95
     }
    },
    "61ec1b2de7fb46559b8d7f2eb048673f": {
     "model_module": "@jupyter-widgets/controls",
     "model_module_version": "1.5.0",
     "model_name": "ProgressStyleModel",
     "state": {
      "_model_module": "@jupyter-widgets/controls",
      "_model_module_version": "1.5.0",
      "_model_name": "ProgressStyleModel",
      "_view_count": null,
      "_view_module": "@jupyter-widgets/base",
      "_view_module_version": "1.2.0",
      "_view_name": "StyleView",
      "bar_color": null,
      "description_width": ""
     }
    },
    "7a599d15446a4077877b2bd976eb4322": {
     "model_module": "@jupyter-widgets/base",
     "model_module_version": "1.2.0",
     "model_name": "LayoutModel",
     "state": {
      "_model_module": "@jupyter-widgets/base",
      "_model_module_version": "1.2.0",
      "_model_name": "LayoutModel",
      "_view_count": null,
      "_view_module": "@jupyter-widgets/base",
      "_view_module_version": "1.2.0",
      "_view_name": "LayoutView",
      "align_content": null,
      "align_items": null,
      "align_self": null,
      "border": null,
      "bottom": null,
      "display": null,
      "flex": null,
      "flex_flow": null,
      "grid_area": null,
      "grid_auto_columns": null,
      "grid_auto_flow": null,
      "grid_auto_rows": null,
      "grid_column": null,
      "grid_gap": null,
      "grid_row": null,
      "grid_template_areas": null,
      "grid_template_columns": null,
      "grid_template_rows": null,
      "height": null,
      "justify_content": null,
      "justify_items": null,
      "left": null,
      "margin": null,
      "max_height": null,
      "max_width": null,
      "min_height": null,
      "min_width": null,
      "object_fit": null,
      "object_position": null,
      "order": null,
      "overflow": null,
      "overflow_x": null,
      "overflow_y": null,
      "padding": null,
      "right": null,
      "top": null,
      "visibility": null,
      "width": null
     }
    },
    "926dd256d1be4351b4c024e65a2d2831": {
     "model_module": "@jupyter-widgets/base",
     "model_module_version": "1.2.0",
     "model_name": "LayoutModel",
     "state": {
      "_model_module": "@jupyter-widgets/base",
      "_model_module_version": "1.2.0",
      "_model_name": "LayoutModel",
      "_view_count": null,
      "_view_module": "@jupyter-widgets/base",
      "_view_module_version": "1.2.0",
      "_view_name": "LayoutView",
      "align_content": null,
      "align_items": null,
      "align_self": null,
      "border": null,
      "bottom": null,
      "display": null,
      "flex": null,
      "flex_flow": null,
      "grid_area": null,
      "grid_auto_columns": null,
      "grid_auto_flow": null,
      "grid_auto_rows": null,
      "grid_column": null,
      "grid_gap": null,
      "grid_row": null,
      "grid_template_areas": null,
      "grid_template_columns": null,
      "grid_template_rows": null,
      "height": null,
      "justify_content": null,
      "justify_items": null,
      "left": null,
      "margin": null,
      "max_height": null,
      "max_width": null,
      "min_height": null,
      "min_width": null,
      "object_fit": null,
      "object_position": null,
      "order": null,
      "overflow": null,
      "overflow_x": null,
      "overflow_y": null,
      "padding": null,
      "right": null,
      "top": null,
      "visibility": null,
      "width": null
     }
    },
    "b67f45108b264bef8c90e1cc5c174ec7": {
     "model_module": "@jupyter-widgets/controls",
     "model_module_version": "1.5.0",
     "model_name": "DescriptionStyleModel",
     "state": {
      "_model_module": "@jupyter-widgets/controls",
      "_model_module_version": "1.5.0",
      "_model_name": "DescriptionStyleModel",
      "_view_count": null,
      "_view_module": "@jupyter-widgets/base",
      "_view_module_version": "1.2.0",
      "_view_name": "StyleView",
      "description_width": ""
     }
    },
    "b9709f04cd2946aab42096e3a6e0b157": {
     "model_module": "@jupyter-widgets/controls",
     "model_module_version": "1.5.0",
     "model_name": "HTMLModel",
     "state": {
      "_dom_classes": [],
      "_model_module": "@jupyter-widgets/controls",
      "_model_module_version": "1.5.0",
      "_model_name": "HTMLModel",
      "_view_count": null,
      "_view_module": "@jupyter-widgets/controls",
      "_view_module_version": "1.5.0",
      "_view_name": "HTMLView",
      "description": "",
      "description_tooltip": null,
      "layout": "IPY_MODEL_926dd256d1be4351b4c024e65a2d2831",
      "placeholder": "​",
      "style": "IPY_MODEL_b67f45108b264bef8c90e1cc5c174ec7",
      "value": "100%"
     }
    },
    "edf86a7b326440329a52f5abbe8e394f": {
     "model_module": "@jupyter-widgets/controls",
     "model_module_version": "1.5.0",
     "model_name": "DescriptionStyleModel",
     "state": {
      "_model_module": "@jupyter-widgets/controls",
      "_model_module_version": "1.5.0",
      "_model_name": "DescriptionStyleModel",
      "_view_count": null,
      "_view_module": "@jupyter-widgets/base",
      "_view_module_version": "1.2.0",
      "_view_name": "StyleView",
      "description_width": ""
     }
    },
    "f6b98f8f88ff43dc989ab656bf64b30e": {
     "model_module": "@jupyter-widgets/controls",
     "model_module_version": "1.5.0",
     "model_name": "HBoxModel",
     "state": {
      "_dom_classes": [],
      "_model_module": "@jupyter-widgets/controls",
      "_model_module_version": "1.5.0",
      "_model_name": "HBoxModel",
      "_view_count": null,
      "_view_module": "@jupyter-widgets/controls",
      "_view_module_version": "1.5.0",
      "_view_name": "HBoxView",
      "box_style": "",
      "children": [
       "IPY_MODEL_b9709f04cd2946aab42096e3a6e0b157",
       "IPY_MODEL_585ff07384f144ce982562b2cc7f3ccf",
       "IPY_MODEL_3ee8e40f8cd64597b378f7e7c0829d7e"
      ],
      "layout": "IPY_MODEL_360bca98a2404898926802d84ffe4e9a"
     }
    },
    "fee4e89a5aa94a1a8cd19b7931c13d4c": {
     "model_module": "@jupyter-widgets/base",
     "model_module_version": "1.2.0",
     "model_name": "LayoutModel",
     "state": {
      "_model_module": "@jupyter-widgets/base",
      "_model_module_version": "1.2.0",
      "_model_name": "LayoutModel",
      "_view_count": null,
      "_view_module": "@jupyter-widgets/base",
      "_view_module_version": "1.2.0",
      "_view_name": "LayoutView",
      "align_content": null,
      "align_items": null,
      "align_self": null,
      "border": null,
      "bottom": null,
      "display": null,
      "flex": null,
      "flex_flow": null,
      "grid_area": null,
      "grid_auto_columns": null,
      "grid_auto_flow": null,
      "grid_auto_rows": null,
      "grid_column": null,
      "grid_gap": null,
      "grid_row": null,
      "grid_template_areas": null,
      "grid_template_columns": null,
      "grid_template_rows": null,
      "height": null,
      "justify_content": null,
      "justify_items": null,
      "left": null,
      "margin": null,
      "max_height": null,
      "max_width": null,
      "min_height": null,
      "min_width": null,
      "object_fit": null,
      "object_position": null,
      "order": null,
      "overflow": null,
      "overflow_x": null,
      "overflow_y": null,
      "padding": null,
      "right": null,
      "top": null,
      "visibility": null,
      "width": null
     }
    }
   }
  }
 },
 "nbformat": 4,
 "nbformat_minor": 5
}
