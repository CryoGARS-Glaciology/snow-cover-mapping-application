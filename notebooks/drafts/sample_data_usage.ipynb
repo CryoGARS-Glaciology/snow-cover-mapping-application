{
 "cells": [
  {
   "cell_type": "markdown",
   "id": "fc09d96f-62ce-4302-a9e0-126cb861ea0b",
   "metadata": {},
   "source": [
    "# Sample usage of classified images and snow cover statistics"
   ]
  },
  {
   "cell_type": "code",
   "execution_count": null,
   "id": "2bbb8972-8fe5-4427-8ac8-3bdc787e9220",
   "metadata": {},
   "outputs": [],
   "source": [
    "import os\n",
    "import glob\n",
    "import numpy as np\n",
    "import matplotlib.pyplot as plt\n",
    "import matplotlib\n",
    "import pandas as pd\n",
    "import xarray as xr\n",
    "import rioxarray as rxr"
   ]
  },
  {
   "cell_type": "markdown",
   "id": "2f654750-9790-45ea-a88e-f2312d530c8f",
   "metadata": {},
   "source": [
    "## Define paths in directory"
   ]
  },
  {
   "cell_type": "code",
   "execution_count": null,
   "id": "9ee5f685-d498-49c3-8d57-40fcf4443db6",
   "metadata": {},
   "outputs": [],
   "source": [
    "# If using Google Colab, mount Google Drive to access your files\n",
    "# from google.colab import drive\n",
    "# drive.mount('/content/drive')"
   ]
  },
  {
   "cell_type": "code",
   "execution_count": null,
   "id": "74dd3b92-3000-4381-9b96-b911ef8d704d",
   "metadata": {},
   "outputs": [],
   "source": [
    "# Define base path to data for convenience\n",
    "data_path = '/Volumes/LaCie/raineyaberle/Research/PhD/snow_cover_mapping/study-sites/'\n",
    "\n",
    "# Define RGI ID for glacier\n",
    "rgi_id = 'RGI60-01.00046'\n",
    "\n",
    "# Grab all classified image file names\n",
    "im_classified_fns = sorted(glob.glob(os.path.join(data_path, rgi_id, 'imagery', 'classified', '*_classified.nc')))\n",
    "\n",
    "# Grab all snow cover statistics file names\n",
    "scs_fn = os.path.join(data_path, rgi_id, rgi_id + '_snow_cover_stats.csv')"
   ]
  },
  {
   "cell_type": "markdown",
   "id": "20a9329d-3440-4f40-9c6b-ad7f0b279f9b",
   "metadata": {},
   "source": [
    "## Analyze/plot classified images"
   ]
  },
  {
   "cell_type": "code",
   "execution_count": null,
   "id": "d320c818-1a69-4f0a-96eb-1f76321a95f9",
   "metadata": {},
   "outputs": [],
   "source": [
    "# Load one classified image and display\n",
    "im_classified_fn = im_classified_fns[0]\n",
    "im_classified = xr.open_dataset(im_classified_fn)\n",
    "im_classified"
   ]
  },
  {
   "cell_type": "code",
   "execution_count": null,
   "id": "126bc682-b7b4-4f21-b0e7-5fb47751c46f",
   "metadata": {},
   "outputs": [],
   "source": [
    "# Define a color map for plotting classified images\n",
    "colors = [\"#4eb3d3\", # 0 = Snow\n",
    "          \"#636363\", # 1 = Shadowed snow\n",
    "          \"#084081\", # 2 = Ice\n",
    "          \"#fe9929\", # 3 = Rock/debris\n",
    "          \"#252525\"  # 4 = Water\n",
    "         ]\n",
    "cmap_classified = matplotlib.colors.ListedColormap(colors)\n",
    "cmap_binary = matplotlib.colors.ListedColormap(['w', '#6a51a3'])\n",
    "\n",
    "plt.rcParams.update({'font.size':12, 'font.sans-serif':'Arial'})\n",
    "\n",
    "# Iterate over a few classified images and plot\n",
    "for im_classified_fn in im_classified_fns[75:80]:\n",
    "    # Load classified image\n",
    "    im_classified = xr.open_dataset(im_classified_fn)\n",
    "\n",
    "    # Grab image date and image source for title\n",
    "    date = str(im_classified.time.data[0])[0:10]\n",
    "    source = os.path.basename(im_classified_fn).split(rgi_id + '_')[1].split('_classified')[0]\n",
    "\n",
    "    # Remove no data values\n",
    "    im_classified = xr.where(im_classified==-9999, np.nan, im_classified)\n",
    "    \n",
    "    # Plot\n",
    "    fig, ax = plt.subplots(1, 2, figsize=(12,4), sharey=True)\n",
    "    # classified image\n",
    "    im = ax[0].imshow(im_classified['classified'].data[0], cmap=cmap_classified, clim=(1, 5.5),\n",
    "                      extent=(np.min(im_classified.x.data), np.max(im_classified.x.data),\n",
    "                              np.min(im_classified.y.data), np.max(im_classified.y.data)))\n",
    "    ax[0].set_title('Classified image')\n",
    "    cbar = fig.colorbar(im, ax=ax[0], orientation='horizontal')\n",
    "    cbar.ax.set_xticks([1.4, 2.3, 3.2, 4.1, 5.0])\n",
    "    cbar.ax.set_xticklabels(['Snow', 'Shadowed snow', 'Ice', 'Rock/Debris', 'Water']) \n",
    "    # binary snow image\n",
    "    im_classified_binary = xr.where(im_classified <= 2, 1, 0)\n",
    "    im = ax[1].imshow(im_classified_binary['classified'].data[0], cmap=cmap_binary, clim=(0, 1),\n",
    "                      extent=(np.min(im_classified.x.data), np.max(im_classified.x.data),\n",
    "                              np.min(im_classified.y.data), np.max(im_classified.y.data)))\n",
    "    cbar = fig.colorbar(im, ax=ax[1], orientation='horizontal', shrink=0.6)\n",
    "    cbar.ax.set_xticks([0.25, 0.75])\n",
    "    cbar.ax.set_xticklabels(['Snow-free', 'Snow-covered']) \n",
    "    ax[1].set_title('Binary snow image')\n",
    "    \n",
    "    fig.suptitle(f'{date} {source}')\n",
    "    fig.tight_layout()\n",
    "    plt.show()"
   ]
  },
  {
   "cell_type": "code",
   "execution_count": null,
   "id": "866efe23-253a-4fce-a065-18bb73efcd52",
   "metadata": {},
   "outputs": [],
   "source": [
    "## Add a cell for pulling snow/no-snow along a line over time"
   ]
  },
  {
   "cell_type": "markdown",
   "id": "d4a20317-274e-48bb-abf1-7c23f117a6e6",
   "metadata": {},
   "source": [
    "## Analyze/plot snow cover statistics"
   ]
  },
  {
   "cell_type": "code",
   "execution_count": null,
   "id": "53d9c302-bd0c-433e-a4bb-19014dacaa61",
   "metadata": {},
   "outputs": [],
   "source": [
    "# Load snow cover statistics and view\n",
    "scs = pd.read_csv(scs_fn)\n",
    "scs['datetime'] = pd.to_datetime(scs['datetime'])\n",
    "scs"
   ]
  },
  {
   "cell_type": "code",
   "execution_count": null,
   "id": "b89ef541-272f-4fa1-80b3-1fb6bcd044d8",
   "metadata": {},
   "outputs": [],
   "source": [
    "# Plot time series for a few columns\n",
    "columns = ['snowline_elevs_median_m', 'SCA_m2', 'AAR', 'ELA_from_AAR_m']\n",
    "columns_display = ['Median snowline elevation [m]', 'Snow-covered area [m$^2$]', 'Accumulation area ratio (AAR)', 'Snowline elevation from AAR [m]']\n",
    "\n",
    "fig, ax = plt.subplots(len(columns), 1, figsize=(10, 4*len(columns)), sharex=True)\n",
    "\n",
    "for i in range(0,len(columns)):\n",
    "    ax[i].plot(scs['datetime'], scs[columns[i]], '.', markersize=5)\n",
    "    ax[i].set_title(columns_display[i])\n",
    "    ax[i].grid()\n",
    "\n",
    "plt.show()"
   ]
  }
 ],
 "metadata": {
  "kernelspec": {
   "display_name": "snow-cover-mapping",
   "language": "python",
   "name": "snow-cover-mapping"
  },
  "language_info": {
   "codemirror_mode": {
    "name": "ipython",
    "version": 3
   },
   "file_extension": ".py",
   "mimetype": "text/x-python",
   "name": "python",
   "nbconvert_exporter": "python",
   "pygments_lexer": "ipython3",
   "version": "3.11.5"
  }
 },
 "nbformat": 4,
 "nbformat_minor": 5
}
