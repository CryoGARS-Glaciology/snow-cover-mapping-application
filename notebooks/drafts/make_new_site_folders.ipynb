{
 "cells": [
  {
   "cell_type": "code",
   "execution_count": null,
   "id": "6d5f4a79-e9b8-47a1-9aec-a01e4d0efca8",
   "metadata": {},
   "outputs": [],
   "source": [
    "import os\n",
    "import shutil\n",
    "from tqdm.auto import tqdm"
   ]
  },
  {
   "cell_type": "code",
   "execution_count": null,
   "id": "312187f2-3765-471c-a959-1e99db65503e",
   "metadata": {
    "scrolled": true
   },
   "outputs": [],
   "source": [
    "source_folder = '/Volumes/LaCie/raineyaberle/Research/PhD/snow_cover_mapping/study-sites'\n",
    "dest_folder = os.path.join(source_folder, '..', 'study-sites_NEW-CLOUD-MASK')\n",
    "\n",
    "site_names = [x for x in sorted(os.listdir(source_folder)) if not x.startswith('.')]\n",
    "print(len(site_names))\n",
    "site_names"
   ]
  },
  {
   "cell_type": "code",
   "execution_count": null,
   "id": "a46d5057-8852-4789-908d-667fbfe1faec",
   "metadata": {},
   "outputs": [],
   "source": [
    "for site_name in tqdm(site_names):\n",
    "    new_site_path = os.path.join(dest_folder, site_name)\n",
    "    if not os.path.exists(new_site_path):\n",
    "        os.mkdir(new_site_path)\n",
    "\n",
    "    aois_path = os.path.join(source_folder, site_name, 'AOIs')\n",
    "    new_aois_path = os.path.join(new_site_path, 'AOIs')\n",
    "    if not os.path.exists(new_aois_path):\n",
    "        shutil.copytree(aois_path, new_aois_path)\n",
    "\n",
    "    era_path = os.path.join(source_folder, site_name, 'ERA')\n",
    "    new_era_path = os.path.join(new_site_path, 'ERA')\n",
    "    if not os.path.exists(new_era_path):\n",
    "        shutil.copytree(era_path, new_era_path)"
   ]
  },
  {
   "cell_type": "code",
   "execution_count": null,
   "id": "dc2be50c-8432-49f5-b470-3f0eead648c5",
   "metadata": {},
   "outputs": [],
   "source": []
  }
 ],
 "metadata": {
  "kernelspec": {
   "display_name": "gscm-application",
   "language": "python",
   "name": "gscm-application"
  },
  "language_info": {
   "codemirror_mode": {
    "name": "ipython",
    "version": 3
   },
   "file_extension": ".py",
   "mimetype": "text/x-python",
   "name": "python",
   "nbconvert_exporter": "python",
   "pygments_lexer": "ipython3",
   "version": "3.12.5"
  }
 },
 "nbformat": 4,
 "nbformat_minor": 5
}
