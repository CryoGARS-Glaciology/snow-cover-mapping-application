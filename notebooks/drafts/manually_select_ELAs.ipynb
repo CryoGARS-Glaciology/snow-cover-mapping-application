{
 "cells": [
  {
   "cell_type": "markdown",
   "metadata": {
    "id": "uVla-u6-z5K3"
   },
   "source": [
    "# Notebook to plot snowlines and respective images and select the annual ELA (maximum elevation snowline)"
   ]
  },
  {
   "cell_type": "code",
   "execution_count": null,
   "metadata": {
    "colab": {
     "base_uri": "https://localhost:8080/"
    },
    "executionInfo": {
     "elapsed": 13127,
     "status": "ok",
     "timestamp": 1697584749650,
     "user": {
      "displayName": "Alexandra Friel",
      "userId": "09130180654457172534"
     },
     "user_tz": 360
    },
    "id": "LZSRoaPLFfAe",
    "outputId": "14f07e8f-2aae-4ce6-c65a-6e2215ca6b3c"
   },
   "outputs": [],
   "source": [
    "# Install packages not already in environment\n",
    "# !pip install geopandas rioxarray geedim"
   ]
  },
  {
   "cell_type": "code",
   "execution_count": null,
   "metadata": {
    "id": "SuM65TNhFaHq"
   },
   "outputs": [],
   "source": [
    "# Import packages\n",
    "import os\n",
    "import matplotlib.pyplot as plt\n",
    "import glob\n",
    "import pandas as pd\n",
    "import geopandas as gpd\n",
    "import numpy as np\n",
    "import sys\n",
    "from shapely import wkt\n",
    "import sys\n",
    "import json\n",
    "import sys\n",
    "import ee\n",
    "import datetime\n",
    "import ast"
   ]
  },
  {
   "cell_type": "code",
   "execution_count": null,
   "metadata": {
    "id": "CvAl2Fz_Ep_M"
   },
   "outputs": [],
   "source": [
    "# Authenticate your Google Earth Engine account\n",
    "try:\n",
    "    ee.Initialize()\n",
    "except:\n",
    "    ee.Authenticate()\n",
    "    ee.Initialize()"
   ]
  },
  {
   "cell_type": "code",
   "execution_count": null,
   "metadata": {
    "colab": {
     "base_uri": "https://localhost:8080/"
    },
    "executionInfo": {
     "elapsed": 2275,
     "status": "ok",
     "timestamp": 1697583490383,
     "user": {
      "displayName": "Rainey Aberle",
      "userId": "06245029574837198852"
     },
     "user_tz": 360
    },
    "id": "QzlWZiaR0Dcx",
    "outputId": "34749b74-3b17-46b9-c8a5-54579ac9f5c2"
   },
   "outputs": [],
   "source": [
    "# If using Google Colab, mount Google Drive so you can access the files in this folder\n",
    "# from google.colab import drive\n",
    "# drive.mount('/content/drive', force_remount = True)"
   ]
  },
  {
   "cell_type": "code",
   "execution_count": null,
   "metadata": {
    "id": "Mksxvt9TFL8s"
   },
   "outputs": [],
   "source": [
    "# Uncomment the line below to locate any needed paths in directory\n",
    "# os.listdir('drive/MyDrive/Research/PhD/snow_cover_mapping/snow_cover_mapping_application/study-sites/')"
   ]
  },
  {
   "cell_type": "code",
   "execution_count": null,
   "metadata": {
    "id": "Ocvc8yefzh3l"
   },
   "outputs": [],
   "source": [
    "##### MODIFY HERE #####\n",
    "# specify site name\n",
    "site_name = 'RGI60-01.00037'\n",
    "# path to snow-cover-mapping-application/\n",
    "# RAINEY'S PATH:\n",
    "base_path = '/Users/raineyaberle/Research/PhD/snow_cover_mapping/snow-cover-mapping-application/'\n",
    "# ALEXANDRA'S PATH:\n",
    "# base_path = ('drive/MyDrive/snow_cover_mapping_application/snow-cover-mapping-application/')\n",
    "# path to study site\n",
    "study_site_path = '/Volumes/LaCie/raineyaberle/Research/PhD/snow_cover_mapping/study-sites/' + site_name\n",
    "# path where figures will be saved\n",
    "figures_out_path = study_site_path + 'figures/'\n",
    "# path where manual ELA estimates will be saved\n",
    "out_path = os.path.join(study_site_path, 'imagery', 'ELAs')\n",
    "# define month range for filtering snowlines from file (includes both months)\n",
    "month_start = 7\n",
    "month_end = 10\n",
    "#######################\n",
    "\n",
    "# -----Determine other folders\n",
    "# path to PlanetScope image mosaics\n",
    "PS_im_path = os.path.join(study_site_path, 'imagery', 'PlanetScope', 'mosaics')\n",
    "# path to snowline files\n",
    "sl_est_path = os.path.join(study_site_path, 'imagery', 'snowlines')\n",
    "\n",
    "# -----Load dataset characteristics\n",
    "dataset_dict_fn = os.path.join(base_path, 'inputs-outputs', 'datasets_characteristics.json')\n",
    "dataset_dict = json.load(open(dataset_dict_fn))\n",
    "\n",
    "# -----Load functions from file\n",
    "sys.path.append(os.path.join(base_path, 'functions'))\n",
    "import manually_select_ELAs_utils as f\n",
    "\n"
   ]
  },
  {
   "cell_type": "code",
   "execution_count": null,
   "metadata": {
    "colab": {
     "base_uri": "https://localhost:8080/",
     "height": 470
    },
    "executionInfo": {
     "elapsed": 1625,
     "status": "ok",
     "timestamp": 1697584762073,
     "user": {
      "displayName": "Alexandra Friel",
      "userId": "09130180654457172534"
     },
     "user_tz": 360
    },
    "id": "GV74aPIWoB_M",
    "outputId": "f9a1a2b6-1a90-4d79-c492-cd03ee1ef37c"
   },
   "outputs": [],
   "source": [
    "# -----Load and plot glacier outline shapefile to see if the geometry is wacky!\n",
    "RGI_outline = os.path.join(study_site_path, 'AOIs', '*.shp') # file name\n",
    "shapefiles = glob.glob(RGI_outline) # check if file name in directory\n",
    "\n",
    "if not shapefiles:\n",
    "    print(f\"No shapefiles found in {RGI_outline}\")\n",
    "else:\n",
    "    AOI_fn = shapefiles[0]\n",
    "    AOI = gpd.read_file(AOI_fn)\n",
    "    AOI.plot()\n",
    "    plt.title('Glacier Outline Plot: ' + site_name)\n",
    "    plt.show()"
   ]
  },
  {
   "cell_type": "code",
   "execution_count": null,
   "metadata": {
    "colab": {
     "base_uri": "https://localhost:8080/",
     "height": 1000
    },
    "executionInfo": {
     "elapsed": 4035,
     "status": "ok",
     "timestamp": 1697585097993,
     "user": {
      "displayName": "Alexandra Friel",
      "userId": "09130180654457172534"
     },
     "user_tz": 360
    },
    "id": "uOXKBIqqf0zj",
    "outputId": "7627bbdc-11a7-4784-b9e2-30087dcc4ddc"
   },
   "outputs": [],
   "source": [
    "# -----Load and compile snowline files\n",
    "# Define year for selecting the ELA\n",
    "year = '2022'\n",
    "\n",
    "# grab snowline file names\n",
    "sl_est_fns = glob.glob(os.path.join(sl_est_path, '*snowline.csv'))\n",
    "# only include snowlines starting in 2016 (time series too sparse before then)\n",
    "sl_est_fns = [sl_est_fn for sl_est_fn in sl_est_fns if year in sl_est_fn]\n",
    "\n",
    "# compile all snowline files into one DataFrame\n",
    "sl_est_full = gpd.GeoDataFrame()\n",
    "for fn in sl_est_fns:\n",
    "    # read file\n",
    "    sl_est_df = pd.read_csv(fn)\n",
    "    # create a geopandas GeoDataFrame from the DataFrame\n",
    "    sl_est_df.loc[sl_est_df['geometry']=='[]', 'geometry'] = None\n",
    "    sl_est_df['geometry'] = sl_est_df['geometry'].apply(wkt.loads)\n",
    "    sl_est_gdf = gpd.GeoDataFrame(sl_est_df, crs='EPSG:4326',\n",
    "                                  geometry=sl_est_df['geometry'])\n",
    "    # concatenate to df\n",
    "    sl_est_full = pd.concat([sl_est_full, sl_est_gdf])\n",
    "# don't include PlanetScope\n",
    "sl_est_full = sl_est_full.loc[sl_est_full['dataset'] != 'PlanetScope']\n",
    "# read dates as datettime64, only include snowlines for July - November\n",
    "sl_est_full['datetime'] = sl_est_full['datetime'].astype('datetime64[ns]')\n",
    "sl_est_full['month'] = sl_est_full['datetime'].values.astype('datetime64[M]').astype(int) % 12 + 1\n",
    "sl_est_full = sl_est_full.loc[(sl_est_full['month'] >= month_start) & (sl_est_full['month'] <= month_end)]\n",
    "# remove month column\n",
    "sl_est_full = sl_est_full.drop('month', axis=1)\n",
    "# remove Unnamed column if present\n",
    "if 'Unnamed: 0' in list(sl_est_full.columns):\n",
    "    sl_est_full = sl_est_full.drop('Unnamed: 0', axis=1)\n",
    "# renumber, sort by date\n",
    "sl_est_full = sl_est_full.sort_values(by=['datetime']).reset_index(drop=True)\n",
    "\n",
    "# -----Reproject AOI and snowlines to WGS84\n",
    "AOI_UTM = AOI.to_crs(sl_est_full['HorizontalCRS'][0])\n",
    "\n",
    "sl_est_full"
   ]
  },
  {
   "cell_type": "code",
   "execution_count": null,
   "metadata": {
    "colab": {
     "base_uri": "https://localhost:8080/",
     "height": 1000
    },
    "id": "YrxQdzj0fLQi",
    "outputId": "0f0889bf-2834-44fc-e64c-31232786bf27",
    "scrolled": true
   },
   "outputs": [],
   "source": [
    "checkboxes = f.manual_snowline_filter_plot(sl_est_full, dataset_dict, AOI_UTM, PS_im_path)"
   ]
  },
  {
   "cell_type": "markdown",
   "metadata": {
    "id": "msnX7pdhmmTH"
   },
   "source": [
    "## 2. View resulting annual ELAs"
   ]
  },
  {
   "cell_type": "code",
   "execution_count": null,
   "metadata": {
    "colab": {
     "base_uri": "https://localhost:8080/",
     "height": 540
    },
    "executionInfo": {
     "elapsed": 882,
     "status": "ok",
     "timestamp": 1697584958193,
     "user": {
      "displayName": "Alexandra Friel",
      "userId": "09130180654457172534"
     },
     "user_tz": 360
    },
    "id": "Gk1_n3eJizPX",
    "outputId": "51c2a889-01c7-4a55-8f6d-8e7c757b79b6"
   },
   "outputs": [],
   "source": [
    "# -----Grab ELA selections from checkboxes\n",
    "values = np.array([x.value for x in checkboxes])\n",
    "IELAs = np.ravel(np.argwhere(values==True))\n",
    "ELAs = sl_est_full.iloc[IELAs]\n",
    "\n",
    "# -----Plot\n",
    "plt.figure(figsize=(12,6))\n",
    "plt.plot(sl_est_full['datetime'].astype('datetime64[ns]'), sl_est_full['snowline_elevs_median_m'], '.k')\n",
    "plt.plot(ELAs['datetime'].astype('datetime64[ns]'), ELAs['snowline_elevs_median_m'], '*m', markersize=15)\n",
    "plt.grid()\n",
    "plt.ylabel('Median snowline elevation [m]')"
   ]
  },
  {
   "cell_type": "markdown",
   "metadata": {
    "id": "cMUyyd--mo97"
   },
   "source": [
    "## 3. Save annual ELAs to file\n",
    "\n",
    "When you're satisfied with your ELA selections, save them!"
   ]
  },
  {
   "cell_type": "code",
   "execution_count": null,
   "metadata": {
    "colab": {
     "base_uri": "https://localhost:8080/"
    },
    "executionInfo": {
     "elapsed": 164,
     "status": "ok",
     "timestamp": 1697584961356,
     "user": {
      "displayName": "Alexandra Friel",
      "userId": "09130180654457172534"
     },
     "user_tz": 360
    },
    "id": "pByVTQULmq8W",
    "outputId": "b2fc09ea-fbe2-41be-c555-25985dd48c84"
   },
   "outputs": [],
   "source": [
    "# define file name and where to save it\n",
    "out_fn = site_name + '_manually_selected_ELAs_' + year + '.csv'\n",
    "out_path = study_site_path + 'ELAs/'\n",
    "\n",
    "# make output directory (out_path) if it doesn't exist\n",
    "if not os.path.exists(out_path):\n",
    "  os.mkdir(out_path)\n",
    "  print('Made directory for outputs: '+out_path)\n",
    "\n",
    "# save to file\n",
    "ELAs.to_csv(out_path + out_fn, index=False)\n",
    "print('ELAs saved to file: ' + out_path + out_fn)"
   ]
  },
  {
   "cell_type": "markdown",
   "metadata": {
    "id": "5a-h29OAAfM3"
   },
   "source": [
    "## Optional. Combine CSVs into one"
   ]
  },
  {
   "cell_type": "code",
   "execution_count": null,
   "metadata": {
    "id": "IMhQFzhbAeiz"
   },
   "outputs": [],
   "source": [
    "# Grab all the CSVs in your out path\n",
    "fns = sorted(glob.glob(out_path + '*.csv'))\n",
    "year_start = fns[0][-8:-4]\n",
    "year_end = fns[-1][-8:-4]\n",
    "\n",
    "# Create a new Data Frame\n",
    "ELAs = pd.DataFrame()\n",
    "\n",
    "# Loop through the CSVs\n",
    "for fn in fns:\n",
    "    ELA = pd.read_csv(fn)\n",
    "    ELAs = pd.concat([ELAs, ELA])\n",
    "\n",
    "# Save to file\n",
    "out_fn = (out_path + 'RGI60-01.11788' + '_manually_selected_ELAs_'\n",
    "            + year_start + '_' + year_end + '.csv')\n",
    "ELAs.to_csv(out_fn, index=False)\n",
    "print('Compiled ELAs saved to file: ' + out_fn)"
   ]
  },
  {
   "cell_type": "code",
   "execution_count": null,
   "metadata": {
    "id": "v1-mG31sDpnc"
   },
   "outputs": [],
   "source": [
    "# Delete individual files - CHECK THE NEW FILE BEFORE DELETING THE OLD ONES\n",
    "for fn in fns:\n",
    "    os.remove(fn)\n",
    "    print(fn + ' deleted from file.')"
   ]
  }
 ],
 "metadata": {
  "colab": {
   "provenance": []
  },
  "kernelspec": {
   "display_name": "Python 3 (ipykernel)",
   "language": "python",
   "name": "python3"
  },
  "language_info": {
   "codemirror_mode": {
    "name": "ipython",
    "version": 3
   },
   "file_extension": ".py",
   "mimetype": "text/x-python",
   "name": "python",
   "nbconvert_exporter": "python",
   "pygments_lexer": "ipython3",
   "version": "3.11.5"
  }
 },
 "nbformat": 4,
 "nbformat_minor": 4
}
