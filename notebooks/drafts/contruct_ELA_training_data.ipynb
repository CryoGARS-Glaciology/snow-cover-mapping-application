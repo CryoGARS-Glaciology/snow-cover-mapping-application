{
 "cells": [
  {
   "cell_type": "markdown",
   "metadata": {
    "id": "AcGo8KM-w3Mx"
   },
   "source": [
    "# Notebook to construct training data using snow cover stats from ELA CSVs and terrain parameters from RGI outlines\n",
    "\n",
    "Note: You should decide what to do with your adjusted ELAs. Do we use those in place of the automated ELAs in the training data?"
   ]
  },
  {
   "cell_type": "code",
   "execution_count": null,
   "metadata": {
    "id": "sFu-UX3FwZ_t"
   },
   "outputs": [],
   "source": [
    "import pandas as pd\n",
    "import os\n",
    "import glob\n",
    "import matplotlib.pyplot as plt\n",
    "from tqdm.auto import tqdm\n",
    "import geopandas as gpd"
   ]
  },
  {
   "cell_type": "code",
   "execution_count": null,
   "metadata": {
    "colab": {
     "base_uri": "https://localhost:8080/"
    },
    "executionInfo": {
     "elapsed": 22457,
     "status": "ok",
     "timestamp": 1698858988018,
     "user": {
      "displayName": "Alexandra Friel",
      "userId": "09130180654457172534"
     },
     "user_tz": 360
    },
    "id": "ZA18ZYQtwrwT",
    "outputId": "00474017-6289-4c5e-d2ef-cc50f1729f20"
   },
   "outputs": [],
   "source": [
    "# If using Google Colab, mount Google Drive so you can access the files in this folder\n",
    "# from google.colab import drive\n",
    "# drive.mount('/content/drive', force_remount=True)"
   ]
  },
  {
   "cell_type": "markdown",
   "metadata": {
    "id": "Ewn_LRpsw1QD"
   },
   "source": [
    "## Define path in directory to `study-sites`"
   ]
  },
  {
   "cell_type": "code",
   "execution_count": null,
   "metadata": {
    "id": "ZsbOyG7jws4g"
   },
   "outputs": [],
   "source": [
    "# Alexandra's path to study-sites/\n",
    "# study_sites_path = ('/content/drive/My Drive/CryoGARS-Glaciology/Advising/student-research/Alexandra-Friel/snow_cover_mapping_application/study-sites/')\n",
    "\n",
    "# Rainey's path to study-sites/\n",
    "study_sites_path = '/Users/raineyaberle/Google Drive/My Drive/Research/CryoGARS-Glaciology/Advising/student-research/Alexandra-Friel/snow_cover_mapping_application/study-sites/'\n",
    "\n",
    "# define output settings for training data CSV\n",
    "out_path = os.path.join(study_sites_path, '..', 'snow-cover-mapping-application', 'inputs-outputs')\n",
    "out_fn = 'ELA_training_data.csv'"
   ]
  },
  {
   "cell_type": "markdown",
   "metadata": {
    "id": "1RO_IqdNxR86"
   },
   "source": [
    "## Grab list of all sites with ELA CSVs from `study_sites_path`"
   ]
  },
  {
   "cell_type": "code",
   "execution_count": null,
   "metadata": {
    "colab": {
     "base_uri": "https://localhost:8080/"
    },
    "executionInfo": {
     "elapsed": 738,
     "status": "ok",
     "timestamp": 1698859081682,
     "user": {
      "displayName": "Alexandra Friel",
      "userId": "09130180654457172534"
     },
     "user_tz": 360
    },
    "id": "PfCkz-sMxRJ3",
    "outputId": "05ce410f-4ca8-464f-a1e6-92a921c6298f",
    "scrolled": true
   },
   "outputs": [],
   "source": [
    "# Grab all site names in study_site_path\n",
    "site_names = sorted(os.listdir(study_sites_path))\n",
    "# Only include site names with ELA CSVs\n",
    "site_names = [site_name for site_name in site_names if\n",
    "              len(glob.glob(os.path.join(study_sites_path, site_name, 'ELAs', '*.csv')))>0]\n",
    "print('Number of sites with ELA CSVs in file = ', len(site_names))\n",
    "site_names"
   ]
  },
  {
   "cell_type": "markdown",
   "metadata": {
    "id": "cK3eHbPiyHRL"
   },
   "source": [
    "## Loop through `site_names`, load ELA CSVs and RGI outlines, compile into training data"
   ]
  },
  {
   "cell_type": "code",
   "execution_count": null,
   "metadata": {
    "colab": {
     "base_uri": "https://localhost:8080/",
     "height": 808
    },
    "executionInfo": {
     "elapsed": 373753,
     "status": "ok",
     "timestamp": 1698859476932,
     "user": {
      "displayName": "Alexandra Friel",
      "userId": "09130180654457172534"
     },
     "user_tz": 360
    },
    "id": "mFWx4Rx6xgrD",
    "outputId": "727f2d49-3269-4657-8378-cec43ddc2b3a"
   },
   "outputs": [],
   "source": [
    "# Initialize data frame for training data\n",
    "training_data = pd.DataFrame()\n",
    "\n",
    "for site_name in (site_names):\n",
    "\n",
    "    # Load ELAs\n",
    "    elas = pd.DataFrame() # initialize data frame for ELAs\n",
    "    ela_fns = glob.glob(os.path.join(study_sites_path, site_name, 'ELAs', '*.csv'))\n",
    "    # loop over ELA file names\n",
    "    for ela_fn in ela_fns:\n",
    "        ela = pd.read_csv(ela_fn) # read ELA file\n",
    "        elas = pd.concat([elas, ela]) # concatenate to full elas dataframe\n",
    "    elas.reset_index(drop=True, inplace=True) # renumber dataframe index\n",
    "\n",
    "    # Load RGI outline\n",
    "    if 'RGI' in site_name:\n",
    "        rgi_fn = os.path.join(study_sites_path, site_name, 'AOIs', site_name + '_outline.shp')\n",
    "    else:\n",
    "        rgi_fn = os.path.join(study_sites_path, site_name, 'AOIs', site_name + '_RGI_outline.shp')\n",
    "    rgi = gpd.read_file(rgi_fn)\n",
    "\n",
    "    # Add RGI terrain parameters to elas\n",
    "    rgi['glacier_outline'] = rgi['geometry']\n",
    "    columns = ['CenLon', 'CenLat', 'O1Region', 'O2Region', 'Area',\n",
    "               'Zmin', 'Zmax', 'Zmed', 'Slope', 'Aspect', 'Lmax', 'Status',\n",
    "               'Connect', 'Form', 'TermType', 'Surging', 'glacier_outline']\n",
    "    elas[columns] = [rgi[column][0] for column in columns]\n",
    "\n",
    "    # Add all to training data frame\n",
    "    training_data = pd.concat([training_data, elas])\n",
    "\n",
    "# Save training data to file\n",
    "training_data.to_csv(os.path.join(out_path, out_fn), index=False)\n",
    "print('Training data saved to file: ', os.path.join(out_path, out_fn))\n",
    "training_data.reset_index(drop=True, inplace=True) # renumber training data index\n",
    "training_data\n"
   ]
  },
  {
   "cell_type": "markdown",
   "metadata": {
    "id": "Dn-J6pjT1Mfj"
   },
   "source": [
    "## Make some plots for fun"
   ]
  },
  {
   "cell_type": "code",
   "execution_count": null,
   "metadata": {
    "colab": {
     "base_uri": "https://localhost:8080/",
     "height": 522
    },
    "executionInfo": {
     "elapsed": 9658,
     "status": "ok",
     "timestamp": 1698859525348,
     "user": {
      "displayName": "Alexandra Friel",
      "userId": "09130180654457172534"
     },
     "user_tz": 360
    },
    "id": "7y0JD3e51L5T",
    "outputId": "28368667-9e1f-44e6-e87f-18e78378ceb9"
   },
   "outputs": [],
   "source": [
    "from matplotlib.backend_bases import GraphicsContextBase\n",
    "# -----Plot ELAs for all sites\n",
    "# pick a colormap\n",
    "cmap=plt.cm.viridis\n",
    "# convert datetime strings to pandas datetimes\n",
    "training_data['datetime'] = pd.to_datetime(training_data['datetime'])\n",
    "# set datetime as index\n",
    "training_data.index = training_data['datetime']\n",
    "\n",
    "# plot\n",
    "fig, ax = plt.subplots(1,2, figsize=(12,6))\n",
    "nsites = len(training_data.groupby('site_name'))\n",
    "i=0\n",
    "for name, group in training_data.groupby('site_name'):\n",
    "    # plot AAR\n",
    "    group.plot(x='datetime', y='AAR', ax=ax[0], color=cmap(i/nsites),\n",
    "               kind='scatter', legend=False)\n",
    "    # plot median snowline elevation\n",
    "    group.plot(x='datetime', y='snowline_elevs_median_m', ax=ax[1],\n",
    "               color=cmap(i/nsites), kind='scatter', legend=False)\n",
    "\n",
    "    i+=1\n",
    "ax[0].grid()\n",
    "ax[0].set_xlabel('')\n",
    "ax[0].set_ylabel('Accumulation area ratio')\n",
    "ax[1].grid()\n",
    "ax[1].set_xlabel('')\n",
    "ax[1].set_ylabel('Median snowline elevation [m]')\n",
    "plt.show()"
   ]
  }
 ],
 "metadata": {
  "colab": {
   "provenance": []
  },
  "kernelspec": {
   "display_name": "Python 3 (ipykernel)",
   "language": "python",
   "name": "python3"
  },
  "language_info": {
   "codemirror_mode": {
    "name": "ipython",
    "version": 3
   },
   "file_extension": ".py",
   "mimetype": "text/x-python",
   "name": "python",
   "nbconvert_exporter": "python",
   "pygments_lexer": "ipython3",
   "version": "3.11.5"
  }
 },
 "nbformat": 4,
 "nbformat_minor": 4
}
