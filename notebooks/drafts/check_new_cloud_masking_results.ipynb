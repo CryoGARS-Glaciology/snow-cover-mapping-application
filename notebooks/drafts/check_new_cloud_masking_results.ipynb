{
 "cells": [
  {
   "cell_type": "code",
   "execution_count": null,
   "id": "ca8ddcb7-7fcc-49e1-8e8e-1c32580531c6",
   "metadata": {},
   "outputs": [],
   "source": [
    "import os\n",
    "import glob\n",
    "import pandas as pd\n",
    "import matplotlib.pyplot as plt"
   ]
  },
  {
   "cell_type": "code",
   "execution_count": null,
   "id": "60129739-31a0-43b8-9c8f-d3934fdc26a9",
   "metadata": {},
   "outputs": [],
   "source": [
    "old_folder = '/Volumes/LaCie/raineyaberle/Research/PhD/snow_cover_mapping/study-sites'\n",
    "new_folder = os.path.join(old_folder, '..', 'study-sites_NEW-CLOUD-MASK')\n",
    "\n",
    "site_names = ['RGI60-01.00032', 'RGI60-01.00033']"
   ]
  },
  {
   "cell_type": "code",
   "execution_count": null,
   "id": "385ad632-7511-469e-90ee-53fd77f53b8f",
   "metadata": {},
   "outputs": [],
   "source": [
    "for site_name in site_names:\n",
    "    # Load old snow cover stats\n",
    "    scs_old = pd.DataFrame()\n",
    "    sc_fns = sorted(glob.glob(os.path.join(old_folder, site_name, 'imagery', 'snowlines', '*.csv')))\n",
    "    for fn in sc_fns:\n",
    "        sc = pd.read_csv(fn)\n",
    "        scs_old = pd.concat([scs_old, sc], axis=0)\n",
    "    scs_old.reset_index(drop=True, inplace=True)\n",
    "    scs_old['datetime'] = pd.to_datetime(scs_old['datetime'], format='mixed')\n",
    "\n",
    "    # Load new snow cover stats\n",
    "    scs_new = pd.DataFrame()\n",
    "    sc_fns = sorted(glob.glob(os.path.join(new_folder, site_name, 'imagery', 'snow_cover_stats', '*.csv')))\n",
    "    for fn in sc_fns:\n",
    "        sc = pd.read_csv(fn)\n",
    "        scs_new = pd.concat([scs_new, sc], axis=0)\n",
    "    scs_new.reset_index(drop=True, inplace=True)\n",
    "    scs_new['datetime'] = pd.to_datetime(scs_new['datetime'], format='mixed')\n",
    "\n",
    "    # plot AARs and ELAs\n",
    "    fig, ax = plt.subplots(2, 1, figsize=(10,6), sharex=True)\n",
    "    ax[0].plot(scs_old['datetime'], scs_old['ELA_from_AAR_m'], '.m', markersize=10, label=f'Old (N={len(scs_old)})')\n",
    "    ax[0].plot(scs_new['datetime'], scs_new['ELA_from_AAR_m'], '.c', markersize=5, label=f'New (N={len(scs_new)})')\n",
    "    ax[0].set_ylabel('Snowline altitude [m]')\n",
    "    ax[0].legend(loc='best')\n",
    "    ax[1].plot(scs_old['datetime'], scs_old['AAR'], '.m', markersize=10, label=f'Old (N={len(scs_old)})')\n",
    "    ax[1].plot(scs_new['datetime'], scs_new['AAR'], '.c', markersize=5, label=f'New (N={len(scs_new)})')\n",
    "    ax[1].set_ylabel('AAR')\n",
    "    fig.suptitle(site_name)\n",
    "    plt.show()"
   ]
  },
  {
   "cell_type": "code",
   "execution_count": null,
   "id": "a72a1e94-8709-4590-b0ab-9aceabde9fff",
   "metadata": {},
   "outputs": [],
   "source": [
    "len(scs_old.loc[(scs_old['dataset']=='Sentinel-2_SR') | (scs_old['source']=='Sentinel-2_SR')])"
   ]
  },
  {
   "cell_type": "code",
   "execution_count": null,
   "id": "bb656491-00df-4a95-9809-df9f45724d30",
   "metadata": {},
   "outputs": [],
   "source": [
    "len(scs_new.loc[scs_new['source']=='Sentinel-2_SR'])"
   ]
  },
  {
   "cell_type": "code",
   "execution_count": null,
   "id": "dbef5390-a440-44c8-ab08-b484797156b7",
   "metadata": {},
   "outputs": [],
   "source": [
    "len(sorted(os.listdir(new_folder)))"
   ]
  },
  {
   "cell_type": "code",
   "execution_count": null,
   "id": "2788173e-4f22-4c4f-828c-1d87aed7b8b8",
   "metadata": {},
   "outputs": [],
   "source": [
    "im_classified_fns = sorted(glob.glob(os.path.join(new_folder, site_name, 'imagery', 'classified', '*.nc')))\n",
    "\n",
    "import xarray as xr\n",
    "import rioxarray as rxr\n",
    "\n",
    "im = rxr.open_rasterio(im_classified_fns[0])\n",
    "im"
   ]
  },
  {
   "cell_type": "code",
   "execution_count": null,
   "id": "2c21e8a7-a2d4-454f-88fa-3e92d5357611",
   "metadata": {},
   "outputs": [],
   "source": [
    "im.attrs"
   ]
  },
  {
   "cell_type": "code",
   "execution_count": null,
   "id": "86dbd768-b846-4ec6-a8f9-313338563582",
   "metadata": {},
   "outputs": [],
   "source": [
    "\n",
    "im"
   ]
  },
  {
   "cell_type": "code",
   "execution_count": null,
   "id": "5bee63e9-17d0-4739-81e0-108c5244cccb",
   "metadata": {},
   "outputs": [],
   "source": []
  }
 ],
 "metadata": {
  "kernelspec": {
   "display_name": "gscm-application",
   "language": "python",
   "name": "gscm-application"
  },
  "language_info": {
   "codemirror_mode": {
    "name": "ipython",
    "version": 3
   },
   "file_extension": ".py",
   "mimetype": "text/x-python",
   "name": "python",
   "nbconvert_exporter": "python",
   "pygments_lexer": "ipython3",
   "version": "3.12.5"
  }
 },
 "nbformat": 4,
 "nbformat_minor": 5
}
