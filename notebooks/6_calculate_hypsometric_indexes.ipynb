{
 "cells": [
  {
   "cell_type": "markdown",
   "id": "15fbc526-b787-4f7b-acc0-54d3efed3a55",
   "metadata": {},
   "source": [
    "# Calculate hypsometric indexes\n",
    "\n",
    "Hypsometric index (HI) defined by Jiskoot et al. (2000): \n",
    "\n",
    "$ HI = ({H_{max} - H_{med}}) / (H_{med} - H_{min}) $\n",
    "\n",
    "And if $0 < HI < 1$, $HI = -1 / HI$\n",
    "\n",
    "where $H_{max}$ and $H_{min}$ are the maximum and minimum glacier elevations and $H_{med}$ the elevation of the contour line that divides the glacier area in half.\n",
    "\n",
    "| Value | Category |\n",
    "| -------- | ------- |\n",
    "| HI < -1.5  | Very top-heavy |\n",
    "| -1.5 < HI < 1.2 | Top-heavy |\n",
    "| -1.2 < HI < 1.2 | Equidimensional |\n",
    "| 1.2 < HI < 1.5 | Bottom-heavy |\n",
    "| HI > 1.5 | Very bottom-heavy |"
   ]
  },
  {
   "cell_type": "code",
   "execution_count": null,
   "id": "cd03a032-8047-4f89-933c-5829cc271bf7",
   "metadata": {},
   "outputs": [],
   "source": [
    "import os\n",
    "import glob\n",
    "import geopandas as gpd\n",
    "import pandas as pd\n",
    "import xarray as xr\n",
    "import rioxarray as rxr\n",
    "from tqdm.auto import tqdm\n",
    "import numpy as np"
   ]
  },
  {
   "cell_type": "code",
   "execution_count": null,
   "id": "d542a876-1148-4e49-97aa-a1033934f67f",
   "metadata": {
    "scrolled": true
   },
   "outputs": [],
   "source": [
    "# Define paths in directory\n",
    "study_sites_path = '/Volumes/LaCie/raineyaberle/Research/PhD/snow_cover_mapping/study-sites/'\n",
    "out_path = os.path.join(study_sites_path, '..', 'analysis')\n",
    "\n",
    "# Grab site names\n",
    "rgi_ids = [x for x in sorted(os.listdir(study_sites_path)) if 'RGI' in x]\n",
    "print(f'{len(rgi_ids)} sites:')\n",
    "rgi_ids"
   ]
  },
  {
   "cell_type": "code",
   "execution_count": null,
   "id": "ca6d1301-f57b-42e0-9d1d-c8657f7a4924",
   "metadata": {},
   "outputs": [],
   "source": [
    "# Define function for calculating HI\n",
    "def calculate_hypsometric_index(dem):\n",
    "    # Calculate HI\n",
    "    hmin = float(dem.min().data)\n",
    "    hmax = float(dem.max().data)\n",
    "    hmed = float(dem.median().data)\n",
    "    \n",
    "    hi = (hmax - hmed) / (hmed - hmin)\n",
    "    if (hi < 1) & (hi > 0):\n",
    "        hi = -1/hi\n",
    "\n",
    "    # Determine HI category\n",
    "    if hi < -1.5:\n",
    "        hi_category = 'very top-heavy'\n",
    "    elif (hi > -1.5) & (hi < -1.2):\n",
    "        hi_category = 'top-heavy'\n",
    "    elif (hi > -1.2) & (hi < 1.2):\n",
    "        hi_category = 'equidimensional'\n",
    "    elif (hi > 1.2) & (hi < 1.5):\n",
    "        hi_category = 'bottom-heavy'\n",
    "    elif hi > 1.5:\n",
    "        hi_category = 'very bottom-heavy'\n",
    "    else:\n",
    "        hi_category = 'None'\n",
    "    \n",
    "    return hi, hi_category\n",
    "\n",
    "# Define output file name\n",
    "his_fn = os.path.join(out_path, 'hypsometric_indexes.csv')\n",
    "\n",
    "# Check if already exists in directory\n",
    "if os.path.exists(his_fn):\n",
    "    print('Hypsometric indexes already exist in file, skipping.')\n",
    "else:\n",
    "    # Initialize dataframe of HIs\n",
    "    his_df = pd.DataFrame()\n",
    "    \n",
    "    # Iterate over sites\n",
    "    for rgi_id in tqdm(rgi_ids):\n",
    "        # Load glacier boundaries\n",
    "        aoi_fn = os.path.join(study_sites_path, rgi_id, 'AOIs', f'{rgi_id}_outline.shp')\n",
    "        aoi = gpd.read_file(aoi_fn)\n",
    "        aoi = aoi.to_crs('EPSG:4326')\n",
    "        \n",
    "        # Load DEM\n",
    "        dem_fn = glob.glob(os.path.join(study_sites_path, rgi_id, 'DEMs', '*.tif'))[0]\n",
    "        dem = rxr.open_rasterio(dem_fn).isel(band=0)\n",
    "        dem = dem.rio.reproject('EPSG:4326')\n",
    "        dem = xr.where(dem < -1e10, np.nan, dem)\n",
    "        dem = dem.rio.write_crs('EPSG:4326')\n",
    "        \n",
    "        # Clip DEM to AOI\n",
    "        dem_clip = dem.rio.clip(aoi.geometry)\n",
    "    \n",
    "        # Calculate HI\n",
    "        hi, hi_category = calculate_hypsometric_index(dem_clip)\n",
    "    \n",
    "        # Add to dataframe\n",
    "        hi_df = pd.DataFrame({'RGIId': [rgi_id],\n",
    "                              'HI': [hi],\n",
    "                              'HI_category': [hi_category]})\n",
    "        his_df = pd.concat([his_df, hi_df], axis=0)\n",
    "    \n",
    "    his_df.reset_index(drop=True, inplace=True)\n",
    "    \n",
    "    # Save to file\n",
    "    his_df.to_csv(his_fn, index=False)\n",
    "    print('Hypsometric indexes saved to file:', his_fn)"
   ]
  },
  {
   "cell_type": "code",
   "execution_count": null,
   "id": "4e07fbee-c321-4c93-b39e-2635cf2348bd",
   "metadata": {},
   "outputs": [],
   "source": [
    "import matplotlib.pyplot as plt\n",
    "\n",
    "his_df = pd.read_csv(his_fn)\n",
    "plt.hist(his_df['HI'], bins=100)\n",
    "plt.show()"
   ]
  },
  {
   "cell_type": "code",
   "execution_count": null,
   "id": "99b0ae7f-1430-4b74-ace8-6564c97e751f",
   "metadata": {},
   "outputs": [],
   "source": [
    "rgi_id = his_df.loc[his_df['HI'] > 30, 'RGIId'].values[0]\n",
    "\n",
    "# Load glacier boundaries\n",
    "aoi_fn = os.path.join(study_sites_path, rgi_id, 'AOIs', f'{rgi_id}_outline.shp')\n",
    "aoi = gpd.read_file(aoi_fn)\n",
    "aoi = aoi.to_crs('EPSG:4326')\n",
    "\n",
    "# Load DEM\n",
    "dem_fn = glob.glob(os.path.join(study_sites_path, rgi_id, 'DEMs', '*.tif'))[0]\n",
    "dem = rxr.open_rasterio(dem_fn).isel(band=0)\n",
    "dem = dem.rio.reproject('EPSG:4326')\n",
    "dem = xr.where(dem < -1e10, np.nan, dem)\n",
    "dem = dem.rio.write_crs('EPSG:4326')\n",
    "\n",
    "# Clip DEM to AOI\n",
    "# dem_clip = dem.rio.clip(aoi.geometry)\n",
    "\n",
    "fig, ax = plt.subplots()\n",
    "dem.plot(ax=ax, cmap='terrain')\n",
    "aoi.plot(ax=ax, facecolor='None', edgecolor='k')\n",
    "plt.show()"
   ]
  },
  {
   "cell_type": "code",
   "execution_count": null,
   "id": "3f1215eb-db8f-427c-b58b-1f449a47dbee",
   "metadata": {},
   "outputs": [],
   "source": [
    "dem_fn"
   ]
  },
  {
   "cell_type": "code",
   "execution_count": null,
   "id": "e922bbee-2a2e-409a-a380-f8e3816b03e7",
   "metadata": {},
   "outputs": [],
   "source": []
  }
 ],
 "metadata": {
  "kernelspec": {
   "display_name": "gscm-application",
   "language": "python",
   "name": "gscm-application"
  },
  "language_info": {
   "codemirror_mode": {
    "name": "ipython",
    "version": 3
   },
   "file_extension": ".py",
   "mimetype": "text/x-python",
   "name": "python",
   "nbconvert_exporter": "python",
   "pygments_lexer": "ipython3",
   "version": "3.12.5"
  }
 },
 "nbformat": 4,
 "nbformat_minor": 5
}
