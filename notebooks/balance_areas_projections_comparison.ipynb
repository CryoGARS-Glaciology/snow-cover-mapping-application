{
 "cells": [
  {
   "cell_type": "markdown",
   "id": "23bd8687-d1ef-4cdf-83ee-29aba58d34f9",
   "metadata": {},
   "source": [
    "# Compare balance areas to model projections"
   ]
  },
  {
   "cell_type": "code",
   "execution_count": null,
   "id": "b0097828-8537-4b53-b095-3cebf1cef358",
   "metadata": {},
   "outputs": [],
   "source": [
    "import os\n",
    "import glob\n",
    "import numpy as np\n",
    "import pandas as pd\n",
    "import geopandas as gpd\n",
    "import matplotlib.pyplot as plt\n",
    "import xarray as xr\n",
    "from tqdm.auto import tqdm\n",
    "from scipy.stats import median_abs_deviation as MAD\n",
    "import sys\n",
    "import seaborn as sns\n",
    "# Suppress future warning from pandas\n",
    "import warnings\n",
    "warnings.filterwarnings(\"ignore\")\n",
    "import matplotlib"
   ]
  },
  {
   "cell_type": "code",
   "execution_count": null,
   "id": "f9b19427-0a85-4172-b1b3-1ccc0730c7fd",
   "metadata": {},
   "outputs": [],
   "source": [
    "base_path = '/Users/raineyaberle/Research/PhD/snow_cover_mapping/snow-cover-mapping-application/'\n",
    "sys.path.append(os.path.join(base_path, 'functions'))\n",
    "import model_analyze_utils as f\n",
    "\n",
    "data_path = '/Users/raineyaberle/Research/PhD/snow_cover_mapping/'\n",
    "\n",
    "# load glacier area projection file names\n",
    "fns = sorted(glob.glob(os.path.join(data_path, 'Rounce_et_al_2023', 'area_projections', '*.nc')))\n",
    "# separate into projections and MAD files\n",
    "proj_fns = sorted([x for x in fns if 'mad' not in x])\n",
    "mad_fns = [x for x in fns if 'mad' in x]\n",
    "\n",
    "# load glacier outlines\n",
    "aois_fn = os.path.join(data_path, 'compiled_data', 'all_aois_climate_cluster.shp')\n",
    "aois = gpd.read_file(aois_fn)\n",
    "aois[['O1Region', 'O2Region']] = aois[['O1Region', 'O2Region']].astype(int)\n",
    "\n",
    "# load balance areas\n",
    "balance_areas_fn = os.path.join(data_path, 'results', 'balanced_areas.csv')\n",
    "balance_areas = pd.read_csv(balance_areas_fn)\n",
    "balance_areas"
   ]
  },
  {
   "cell_type": "code",
   "execution_count": null,
   "id": "05a0ec20-9ad5-495c-b4ca-d634ce53c6ae",
   "metadata": {},
   "outputs": [],
   "source": [
    "# -----Compare balance areas to the lowest GHG scenarios\n",
    "# Subset file names to lowest GHG scenarios\n",
    "rcp26_fns = [x for x in proj_fns if 'rcp26' in x]\n",
    "rcp26_mad_fns = [x for x in mad_fns if 'rcp26' in x]\n",
    "ssp119_fns = [x for x in proj_fns if 'ssp119' in x]\n",
    "ssp119_mad_fns = [x for x in mad_fns if 'ssp119' in x]\n",
    "# Load and concatenate files for R01 and R02\n",
    "rcp26 = xr.open_dataset(rcp26_fns[0])\n",
    "rcp26 = xr.concat([rcp26, xr.open_dataset(rcp26_fns[1])], dim='glacier')\n",
    "rcp26_mad = xr.open_dataset(rcp26_mad_fns[0])\n",
    "rcp26_mad = xr.concat([rcp26_mad, xr.open_dataset(rcp26_mad_fns[1])], dim='glacier')\n",
    "ssp119 = xr.open_dataset(ssp119_fns[0])\n",
    "ssp119 = xr.concat([ssp119, xr.open_dataset(ssp119_fns[1])], dim='glacier')\n",
    "ssp119_mad = xr.open_dataset(ssp119_mad_fns[0])\n",
    "ssp119_mad = xr.concat([ssp119_mad, xr.open_dataset(ssp119_mad_fns[1])], dim='glacier')"
   ]
  },
  {
   "cell_type": "code",
   "execution_count": null,
   "id": "aac3a93c-26ec-4375-8e46-418f3af032d2",
   "metadata": {},
   "outputs": [],
   "source": [
    "# Plot balance area vs. modeled 2100 area for all sites\n",
    "areas_df = pd.DataFrame()\n",
    "for id in tqdm(balance_areas['RGIId'].drop_duplicates().values):\n",
    "    # subset balance areas and projections\n",
    "    balance_area = balance_areas.loc[balance_areas['RGIId']==id]\n",
    "    I_rcp26_glacier = np.ravel(np.argwhere(rcp26.RGIId.data==id))\n",
    "    rcp26_glacier = rcp26.isel(glacier=I_rcp26_glacier)\n",
    "    I_ssp119_glacier = np.ravel(np.argwhere(ssp119.RGIId.data==id))\n",
    "    ssp119_glacier = ssp119.isel(glacier=I_ssp119_glacier)\n",
    "    # grab subregion and cluster\n",
    "    subregion = aois.loc[aois['RGIId']==id, 'Subregion'].values[0]\n",
    "    cluster = aois.loc[aois['RGIId']==id, 'clustName'].values[0]\n",
    "    # concatenate in dataframe\n",
    "    df = pd.DataFrame({'RGIId': [id],\n",
    "                       'Subregion': [subregion], \n",
    "                       'Cluster': [cluster],\n",
    "                       'Balance area [km2]': [balance_area['Balance area [km2]'].values[0]],\n",
    "                       '2100 mean modeled area, RCP26 [km2]': rcp26_glacier.sel(year=2100).glac_area_annual.mean(dim='model').data / 1e6,\n",
    "                       '2100 mean modeled area, SSP119 [km2]': ssp119_glacier.sel(year=2100).glac_area_annual.mean(dim='model').data / 1e6\n",
    "                      })\n",
    "    areas_df = pd.concat([areas_df, df])\n",
    "    \n",
    "areas_df.reset_index(drop=True, inplace=True)\n",
    "\n",
    "# Plot with colors distinguishing subregions and clusters\n",
    "for column in ['Subregion', 'Cluster']:\n",
    "    fig, ax = plt.subplots(1, 2, figsize=(12,6))\n",
    "    for i, proj in enumerate(['RCP26', 'SSP119']):\n",
    "        sns.scatterplot(data=areas_df, x='Balance area [km2]', y='2100 mean modeled area, ' + proj + ' [km2]', \n",
    "                        hue=column, legend=True, ax=ax[i])\n",
    "        line_max = np.round(np.max(np.ravel(areas_df[['Balance area [km2]', f'2100 mean modeled area, {proj} [km2]']].values)))\n",
    "        ax[i].plot(np.arange(0, line_max), np.arange(0, line_max), '-k', linewidth=1)\n",
    "        ax[i].set_xlabel('Balance area [km$^2$]')\n",
    "        ax[i].set_ylabel(f'{proj} 2100 mean modeled area [km$^2$]')\n",
    "        ax[i].grid()\n",
    "    plt.show()\n"
   ]
  },
  {
   "cell_type": "code",
   "execution_count": null,
   "id": "59e26b39-37c3-4da8-a246-997d59d30d12",
   "metadata": {},
   "outputs": [],
   "source": [
    "# Plot NORMALIZED balance area vs. modeled 2100 area for all sites,\n",
    "# i.e. divide the previous by the current RGI area\n",
    "areas_df = pd.DataFrame()\n",
    "for id in tqdm(balance_areas['RGIId'].drop_duplicates().values):\n",
    "    # subset balance areas and projections\n",
    "    area = balance_areas.loc[balance_areas['RGIId']==id, 'Area [km2]'].values[0]\n",
    "    balance_area = balance_areas.loc[balance_areas['RGIId']==id, 'Balance area [km2]'].values[0]\n",
    "    I_rcp26_glacier = np.ravel(np.argwhere(rcp26.RGIId.data==id))\n",
    "    rcp26_glacier = rcp26.isel(glacier=I_rcp26_glacier)\n",
    "    I_ssp119_glacier = np.ravel(np.argwhere(ssp119.RGIId.data==id))\n",
    "    ssp119_glacier = ssp119.isel(glacier=I_ssp119_glacier)\n",
    "    # grab subregion and cluster\n",
    "    subregion = aois.loc[aois['RGIId']==id, 'Subregion'].values[0]\n",
    "    cluster = aois.loc[aois['RGIId']==id, 'clustName'].values[0]\n",
    "    # concatenate in dataframe\n",
    "    df = pd.DataFrame({'RGIId': [id],\n",
    "                       'Subregion': [subregion],\n",
    "                       'Cluster': [cluster],\n",
    "                       'Balance area, normalized': [balance_area / area],\n",
    "                       '2100 mean modeled area, RCP26, normalized': rcp26_glacier.sel(year=2100).glac_area_annual.mean(dim='model').data / 1e6 / area,\n",
    "                       '2100 mean modeled area, SSP119, normalized': ssp119_glacier.sel(year=2100).glac_area_annual.mean(dim='model').data / 1e6 / area\n",
    "                      })\n",
    "    areas_df = pd.concat([areas_df, df])\n",
    "    \n",
    "areas_df.reset_index(drop=True, inplace=True)\n",
    "\n",
    "# Plot with colors distinguishing subregions and clusters\n",
    "for column in ['Subregion', 'Cluster']:\n",
    "    fig, ax = plt.subplots(1, 2, figsize=(12,6))\n",
    "    for i, proj in enumerate(['RCP26', 'SSP119']):\n",
    "        sns.scatterplot(data=areas_df, x='Balance area, normalized', y='2100 mean modeled area, ' + proj + ', normalized', \n",
    "                        hue=column, legend=True, ax=ax[i])\n",
    "        if i==0:\n",
    "            leg = ax[i].get_legend()\n",
    "            leg.remove()\n",
    "        line_max = np.round(np.max(np.ravel(areas_df[['Balance area, normalized', f'2100 mean modeled area, {proj}, normalized']].values)))\n",
    "        ax[i].plot(np.arange(0, line_max), np.arange(0, line_max), '-k', linewidth=1)\n",
    "        ax[i].set_xlabel('Balance area, normalized')\n",
    "        ax[i].set_ylabel(f'{proj} 2100 mean modeled area, normalized')\n",
    "        ax[i].grid()\n",
    "    plt.show()\n",
    "           "
   ]
  },
  {
   "cell_type": "code",
   "execution_count": null,
   "id": "c61562c9-63c1-4445-8ed0-f4ed406999fe",
   "metadata": {},
   "outputs": [],
   "source": [
    "## Load binned data\n",
    "fns = sorted(glob.glob(os.path.join(data_path, 'Rounce_et_al_2023', 'binned', '*.nc')))\n",
    "bin = xr.open_dataset(fns[0])\n",
    "bin"
   ]
  },
  {
   "cell_type": "code",
   "execution_count": null,
   "id": "afd40e75-5776-4bdf-b5cc-34930ed929a4",
   "metadata": {},
   "outputs": [],
   "source": [
    "plt.plot(bin.bin_surface_h_initial.data[0])#.bin_massbalclim_annual"
   ]
  },
  {
   "cell_type": "code",
   "execution_count": null,
   "id": "226c45c5-535a-451a-a4ea-38d937b80d78",
   "metadata": {
    "scrolled": true
   },
   "outputs": [],
   "source": [
    "# identify when/where mass balance is zero each year\n",
    "\n"
   ]
  }
 ],
 "metadata": {
  "kernelspec": {
   "display_name": "snow-cover-mapping",
   "language": "python",
   "name": "snow-cover-mapping"
  },
  "language_info": {
   "codemirror_mode": {
    "name": "ipython",
    "version": 3
   },
   "file_extension": ".py",
   "mimetype": "text/x-python",
   "name": "python",
   "nbconvert_exporter": "python",
   "pygments_lexer": "ipython3",
   "version": "3.11.5"
  }
 },
 "nbformat": 4,
 "nbformat_minor": 5
}
