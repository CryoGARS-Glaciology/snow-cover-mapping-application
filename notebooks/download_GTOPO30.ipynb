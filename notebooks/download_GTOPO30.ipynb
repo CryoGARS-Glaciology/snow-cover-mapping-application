{
 "cells": [
  {
   "cell_type": "markdown",
   "id": "640b0d7e-d52d-4cea-9a55-e429b04f92f5",
   "metadata": {},
   "source": [
    "# Download GTOPO30 for basemap"
   ]
  },
  {
   "cell_type": "code",
   "execution_count": null,
   "id": "bd40087d-112c-4f27-99c6-7440694bfe08",
   "metadata": {},
   "outputs": [],
   "source": [
    "import ee\n",
    "import os\n",
    "import glob\n",
    "import geedim\n",
    "\n",
    "out_path = '/Users/raineyaberle/Research/PhD/GIS_data/'\n",
    "out_fn = 'GTOPO30_clip.tif'"
   ]
  },
  {
   "cell_type": "code",
   "execution_count": null,
   "id": "f01487f2-4e9b-4900-9136-e20332fdbf0f",
   "metadata": {},
   "outputs": [],
   "source": [
    "ee.Initialize()"
   ]
  },
  {
   "cell_type": "code",
   "execution_count": null,
   "id": "2a24499d-7bde-4e0b-9a2d-e52880c3b531",
   "metadata": {},
   "outputs": [],
   "source": [
    "region = {\n",
    "    'type': 'Polygon', 'coordinates': [[\n",
    "        (-173.09355390500812, 71.75488483959123),\n",
    "        (-173.09355390500812, 30.320321967075),\n",
    "        (-98.56230390500811, 30.320321967075),\n",
    "        (-98.56230390500811, 71.75488483959123)\n",
    "    ]]\n",
    "}\n",
    "\n",
    "dataset = geedim.MaskedImage.from_id('USGS/GTOPO30')\n",
    "\n",
    "dataset.download(os.path.join(out_path, out_fn), region=region, scale=5e3)\n"
   ]
  },
  {
   "cell_type": "code",
   "execution_count": null,
   "id": "ac8c66af-f303-4820-bd8c-69f052e1acef",
   "metadata": {},
   "outputs": [],
   "source": []
  }
 ],
 "metadata": {
  "kernelspec": {
   "display_name": "snow-cover-mapping",
   "language": "python",
   "name": "snow-cover-mapping"
  },
  "language_info": {
   "codemirror_mode": {
    "name": "ipython",
    "version": 3
   },
   "file_extension": ".py",
   "mimetype": "text/x-python",
   "name": "python",
   "nbconvert_exporter": "python",
   "pygments_lexer": "ipython3",
   "version": "3.11.5"
  }
 },
 "nbformat": 4,
 "nbformat_minor": 5
}
