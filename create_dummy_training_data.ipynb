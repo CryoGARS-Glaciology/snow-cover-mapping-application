{
 "cells": [
  {
   "cell_type": "markdown",
   "id": "7b387a17",
   "metadata": {
    "id": "c41bc3a3-a3eb-44ff-8f25-28e37c070660"
   },
   "source": [
    "# Select dummy data for Alexandra to start testing machine learning algorithms for identifying controls on snow cover"
   ]
  },
  {
   "cell_type": "code",
   "execution_count": null,
   "id": "16681ba3",
   "metadata": {
    "id": "28f09783-3a6c-436f-b50c-b6d1d0924866"
   },
   "outputs": [],
   "source": [
    "# Import packages\n",
    "import pandas as pd\n",
    "import geopandas as gpd\n",
    "import numpy as np\n",
    "import matplotlib.pyplot as plt\n",
    "import glob"
   ]
  },
  {
   "cell_type": "code",
   "execution_count": null,
   "id": "f89160d1",
   "metadata": {
    "colab": {
     "base_uri": "https://localhost:8080/"
    },
    "executionInfo": {
     "elapsed": 17540,
     "status": "ok",
     "timestamp": 1686062453581,
     "user": {
      "displayName": "Alexandra Friel",
      "userId": "09130180654457172534"
     },
     "user_tz": 360
    },
    "id": "_8uDH_WFJn-7",
    "outputId": "124e59c5-8a70-45fa-bbe0-d4aacf63eb68"
   },
   "outputs": [],
   "source": [
    "!apt install libspatialindex-dev\n",
    "!pip install geopandas"
   ]
  },
  {
   "cell_type": "code",
   "execution_count": null,
   "id": "a9674c5b",
   "metadata": {
    "id": "XplKcr9yKCsz"
   },
   "outputs": [],
   "source": []
  },
  {
   "cell_type": "code",
   "execution_count": null,
   "id": "5ac56bf6",
   "metadata": {
    "id": "e3bcb20b-5e60-42d4-a57c-455c4db95e40"
   },
   "outputs": [],
   "source": [
    "# path to snow-cover-mapping/\n",
    "base_path = '/Users/raineyaberle/Research/PhD/snow_cover_mapping/snow-cover-mapping/'\n",
    "\n",
    "# path to study-sites/\n",
    "study_sites_path = '/Users/raineyaberle/Google Drive/My Drive/Research/PhD/snow_cover_mapping/study-sites/'\n",
    "\n",
    "# site names to include\n",
    "#site_names = ['Wolverine', 'Gulkana', 'LemonCreek', 'SouthCascade', 'Sperry']\n"
   ]
  },
  {
   "cell_type": "code",
   "execution_count": null,
   "id": "f85ee06e",
   "metadata": {
    "colab": {
     "base_uri": "https://localhost:8080/",
     "height": 1000
    },
    "executionInfo": {
     "elapsed": 2287,
     "status": "error",
     "timestamp": 1686066613620,
     "user": {
      "displayName": "Alexandra Friel",
      "userId": "09130180654457172534"
     },
     "user_tz": 360
    },
    "id": "570388b4-fa7f-4d26-b3a3-274fbc02815d",
    "outputId": "e93cd6a2-6b48-47c3-f8ae-ae2d5ab26afa",
    "scrolled": true,
    "tags": []
   },
   "outputs": [],
   "source": [
    "# set up figure\n",
    "fig, ax = plt.subplots(len(site_names), 1, figsize=(10,24))\n",
    "plt.rcParams.update({'font.size':14, 'font.sans-serif':'Arial'})\n",
    "\n",
    "# initialize dataframes\n",
    "df = pd.DataFrame()\n",
    "df_select = pd.DataFrame()\n",
    "\n",
    "# loop through sites\n",
    "for i, site_name in enumerate(site_names[0:5]):\n",
    "\n",
    "    # load RGI outline\n",
    "    RGI_path = study_sites_path + site_name + '/AOIs/' + site_name + '_RGI_outline.shp'\n",
    "    RGI = gpd.read_file(RGI_path)\n",
    "    \n",
    "    # load snowlines\n",
    "    sl_est_path = study_sites_path + site_name +'/imagery/snowlines/' \n",
    "    sl_fns = glob.glob(sl_est_path + '*.csv')\n",
    "    for sl_fn in sl_fns:\n",
    "        sl_est = pd.read_csv(sl_fn)\n",
    "        sl_est['datetime'] = sl_est['datetime'].astype('datetime64[ns]')\n",
    "        # concatenate to full dataframe\n",
    "        df = pd.concat([df, sl_est])\n",
    "    \n",
    "    # plot snowlines just for site\n",
    "    sl_est_site = df.loc[df['study_site']==site_name]\n",
    "    sl_est_site = sl_est_site.sort_values(by='datetime').reset_index(drop=True)\n",
    "    ax[i].plot(sl_est_site['datetime'], sl_est_site['snowlines_elevs_median_m'], '.k')\n",
    "    ax[i].set_title(site_name)\n",
    "    ax[i].grid()\n",
    "    \n",
    "    # select points for training data\n",
    "    if i==0:\n",
    "        Iselect = [15, 30, 40, 68, 119, 350, 560, 800, 1006]\n",
    "    elif i==1:\n",
    "        Iselect = [42, 92, 249, 363, 458, 563]\n",
    "    elif i==2:\n",
    "        Iselect = [10, 31, 45, 85, 160, 235, 310, 387]\n",
    "    elif i==3:\n",
    "        Iselect = [6, 48, 102, 195, 245, 395, 535, 755]\n",
    "    elif i==4:\n",
    "        Iselect = [10, 30, 108, 260, 490, 775, 1050]\n",
    "    sl_est_site_select = sl_est_site.iloc[Iselect, :]\n",
    "    \n",
    "    # add RGI info to dataframe\n",
    "    RGI_columns = ['O1Region', 'O2Region', 'Area', 'Zmin', 'Zmax', 'Zmed', 'Slope', 'Aspect']\n",
    "    for RGI_column in RGI_columns:\n",
    "        sl_est_site_select[RGI_column] = RGI[RGI_column].values[0]\n",
    "    \n",
    "    # concatenate to full selected points dataframe\n",
    "    df_select = pd.concat([df_select, sl_est_site_select])\n",
    "        \n",
    "    # plot selected points\n",
    "    ax[i].plot(sl_est_site_select['datetime'], sl_est_site_select['snowlines_elevs_median_m'], \n",
    "               'xm', linewidth=2, markersize=8)\n",
    "plt.show()\n",
    "\n",
    "# adjust dataframe\n",
    "df_select.reset_index(drop=True, inplace=True)\n",
    "df_select_adj = df_select[['study_site', 'datetime', 'snowlines_elevs_median_m', 'SCA_m2', 'AAR', \n",
    "                           'O1Region', 'O2Region', 'Area', 'Zmin', 'Zmax', 'Zmed', 'Slope', 'Aspect']]\n",
    "\n",
    "# save dataframe to file\n",
    "df_select_adj.to_csv('training_data.csv')\n",
    "print('data frame saved to file')\n",
    "\n",
    "# save figure to file\n",
    "fig.tight_layout()\n",
    "fig.savefig('training_data_selected_points.png', facecolor='w', dpi=200)\n",
    "print('figure saved to file')"
   ]
  },
  {
   "cell_type": "code",
   "execution_count": null,
   "id": "2cd32c81",
   "metadata": {
    "id": "fb7169f6-9303-4cb8-9fab-3d91eb726579",
    "outputId": "c7c2e43b-d497-4d3c-8086-53f586aa6024"
   },
   "outputs": [],
   "source": []
  },
  {
   "cell_type": "code",
   "execution_count": null,
   "id": "2ae4a5f3",
   "metadata": {
    "id": "11793c45-eabb-4809-b75d-f2a0369fc1b5"
   },
   "outputs": [],
   "source": []
  }
 ],
 "metadata": {
  "colab": {
   "provenance": []
  },
  "kernelspec": {
   "display_name": "snow-cover-mapping",
   "language": "python",
   "name": "snow-cover-mapping"
  },
  "language_info": {
   "codemirror_mode": {
    "name": "ipython",
    "version": 3
   },
   "file_extension": ".py",
   "mimetype": "text/x-python",
   "name": "python",
   "nbconvert_exporter": "python",
   "pygments_lexer": "ipython3",
   "version": "3.11.3"
  }
 },
 "nbformat": 4,
 "nbformat_minor": 5
}
