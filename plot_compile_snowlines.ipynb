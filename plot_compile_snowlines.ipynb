{
 "cells": [
  {
   "cell_type": "markdown",
   "metadata": {},
   "source": [
    "# Load and compile all snowlines and AOIs, plot results"
   ]
  },
  {
   "cell_type": "code",
   "execution_count": null,
   "metadata": {
    "colab": {
     "base_uri": "https://localhost:8080/"
    },
    "executionInfo": {
     "elapsed": 16327,
     "status": "ok",
     "timestamp": 1694273150450,
     "user": {
      "displayName": "Rainey Aberle",
      "userId": "06245029574837198852"
     },
     "user_tz": 360
    },
    "id": "CheU9GJ7MIvN",
    "outputId": "db2a5b4a-2752-460e-f29f-3ff255d24088"
   },
   "outputs": [],
   "source": [
    "# !pip install contextily"
   ]
  },
  {
   "cell_type": "code",
   "execution_count": null,
   "metadata": {
    "executionInfo": {
     "elapsed": 429,
     "status": "ok",
     "timestamp": 1694273150876,
     "user": {
      "displayName": "Rainey Aberle",
      "userId": "06245029574837198852"
     },
     "user_tz": 360
    },
    "id": "J_T3m6x8mDcS"
   },
   "outputs": [],
   "source": [
    "import os\n",
    "import glob\n",
    "import numpy as np\n",
    "import matplotlib.pyplot as plt\n",
    "import pandas as pd\n",
    "import geopandas as gpd\n",
    "from shapely import wkt\n",
    "import seaborn as sns\n",
    "import contextily as ctx\n",
    "from tqdm.auto import tqdm\n",
    "from ast import literal_eval"
   ]
  },
  {
   "cell_type": "code",
   "execution_count": null,
   "metadata": {
    "colab": {
     "base_uri": "https://localhost:8080/"
    },
    "executionInfo": {
     "elapsed": 18917,
     "status": "ok",
     "timestamp": 1694273174265,
     "user": {
      "displayName": "Rainey Aberle",
      "userId": "06245029574837198852"
     },
     "user_tz": 360
    },
    "id": "OKs_wsbXeUuD",
    "outputId": "7a63f286-3996-4d54-f492-b8ce814e1ef1"
   },
   "outputs": [],
   "source": [
    "# If using Google Colab, mount Google Drive so you can access the files in this folder\n",
    "# from google.colab import drive\n",
    "# drive.mount('/content/drive')"
   ]
  },
  {
   "cell_type": "markdown",
   "metadata": {},
   "source": [
    "## Determine settings and grab site names from file"
   ]
  },
  {
   "cell_type": "code",
   "execution_count": null,
   "metadata": {
    "colab": {
     "base_uri": "https://localhost:8080/",
     "height": 263
    },
    "executionInfo": {
     "elapsed": 172,
     "status": "error",
     "timestamp": 1694273517548,
     "user": {
      "displayName": "Rainey Aberle",
      "userId": "06245029574837198852"
     },
     "user_tz": 360
    },
    "id": "YI3SzF5VmM1t",
    "outputId": "43d8784d-2252-492c-8f66-a57ad2cce820",
    "scrolled": true,
    "tags": []
   },
   "outputs": [],
   "source": [
    "# path to study-sites/\n",
    "study_sites_path = '/Users/raineyaberle/Google Drive/My Drive/Research/CryoGARS-Glaciology/Advising/student-research/Alexandra-Friel/snow_cover_mapping_application/study-sites/'\n",
    "\n",
    "# determine whether to save figures to file\n",
    "save_figures = True\n",
    "\n",
    "# path to save output figures\n",
    "figures_out_path = study_sites_path + '../figures/'\n",
    "\n",
    "# Grab list of all study site names in folder\n",
    "os.chdir(study_sites_path)\n",
    "site_names = sorted([x[0:-1] for x in glob.glob('*/', recursive = True)])\n",
    "\n",
    "# Filter sites for those with snowline files\n",
    "site_names = sorted([x for x in site_names if len(glob.glob(study_sites_path + x + '/imagery/snowlines/*.csv')) > 0])\n",
    "print('Number of sites = ' + str(len(site_names)))\n",
    "site_names"
   ]
  },
  {
   "cell_type": "markdown",
   "metadata": {},
   "source": [
    "## Load pre-saved AOIs and snowlines, check for new sites"
   ]
  },
  {
   "cell_type": "code",
   "execution_count": null,
   "metadata": {
    "id": "eX4XlKD-eQ10"
   },
   "outputs": [],
   "source": [
    "all_aois = pd.read_csv('all_aois.csv')\n",
    "all_aois[['O1Region', 'O2Region']] = all_aois[['O1Region', 'O2Region']].astype(str).astype(float)\n",
    "all_aois['geometry'] = all_aois['geometry'].apply(wkt.loads)\n",
    "all_snowlines = pd.read_csv('all_snowlines.csv')\n",
    "all_snowlines['datetime'] = all_snowlines['datetime'].astype('datetime64[ns]')\n",
    "# determine which study sites do not have snowlines saved to file\n",
    "bgotus_site_names = ['Wolverine', 'Gulkana', 'LemonCreek', 'SouthCascade', 'Sperry'] # BGOTUS site names were changed in file\n",
    "new_site_names = [x for x in site_names if (x not in set(all_snowlines['site_name'].values)) and (x not in bgotus_site_names)]\n",
    "new_site_names"
   ]
  },
  {
   "cell_type": "markdown",
   "metadata": {},
   "source": [
    "## Load and save snowlines and AOIs for new sites"
   ]
  },
  {
   "cell_type": "code",
   "execution_count": null,
   "metadata": {
    "executionInfo": {
     "elapsed": 185,
     "status": "ok",
     "timestamp": 1691513537115,
     "user": {
      "displayName": "Rainey Aberle",
      "userId": "06245029574837198852"
     },
     "user_tz": 420
    },
    "id": "r0IR0Fb0nbTt",
    "outputId": "1d9f5fdb-b417-4da9-83ed-53b25f0ff3de",
    "scrolled": true
   },
   "outputs": [],
   "source": [
    "# If new sites were found, continue\n",
    "if len(new_site_names) > 0:\n",
    "    \n",
    "    # iterate over new site names\n",
    "    for site_name in new_site_names:\n",
    "\n",
    "        print(site_name)\n",
    "\n",
    "        # load AOI\n",
    "        if (site_name=='Wolverine') or (site_name=='Gulkana') or (site_name=='LemonCreek') or (site_name=='SouthCascade') or (site_name=='LemonCreek'):\n",
    "            aoi_fn = glob.glob(site_name + '/AOIs/*USGS*.shp')[0]\n",
    "        else:\n",
    "            aoi_fn = glob.glob(site_name + '/AOIs/*_outline.shp')[0]\n",
    "        aoi = gpd.read_file(aoi_fn)\n",
    "        aoi = aoi.to_crs('EPSG:4326') # reproject to WGS84 for compatibility\n",
    "        # concatenate to all_aois df\n",
    "        all_aois = pd.concat([all_aois, aoi])\n",
    "\n",
    "        # load snowlines\n",
    "        snowline_fns = glob.glob(site_name + '/imagery/snowlines/*_snowline.csv')\n",
    "        snowlines_site = gpd.GeoDataFrame()\n",
    "        for snowline_fn in snowline_fns:\n",
    "            snowline_df = pd.read_csv(snowline_fn)\n",
    "            if snowline_df['geometry'][0]!='[]':\n",
    "                snowline_df['geometry'] = snowline_df['geometry'].apply(wkt.loads)\n",
    "                snowline_gdf = gpd.GeoDataFrame(snowline_df, geometry='geometry').set_crs(snowline_df['CRS'][0])\n",
    "                # reproject to WGS84 for compatibility\n",
    "                snowline_gdf = snowline_gdf.to_crs('EPSG:4326')\n",
    "                snowline = snowline_gdf\n",
    "            else:\n",
    "                snowline = snowline_df\n",
    "            snowlines_site = pd.concat([snowlines_site, snowline])\n",
    "        # concatenate to full snowlines df\n",
    "        all_snowlines = pd.concat([all_snowlines, snowlines_site])\n",
    "\n",
    "    # reset df indices\n",
    "    all_aois.reset_index(drop=True, inplace=True)\n",
    "    all_snowlines.reset_index(drop=True, inplace=True)\n",
    "    # read datetimes in datetime64[ns] format\n",
    "    all_snowlines['datetime'] = pd.to_datetime(all_snowlines['datetime'], format='mixed')\n",
    "    # set O1 and O2 regions datatype to float\n",
    "    all_aois[['O1Region', 'O2Region']] = all_aois[['O1Region', 'O2Region']].astype(float)\n",
    "    # rename Benchmark Glacier site_name column as RGIId\n",
    "    all_snowlines.loc[all_snowlines['site_name']=='Wolverine', 'site_name'] = 'RGI60-01.09162'\n",
    "    all_snowlines.loc[all_snowlines['site_name']=='Gulkana', 'site_name'] = 'RGI60-01.00570'\n",
    "    all_snowlines.loc[all_snowlines['site_name']=='LemonCreek', 'site_name'] = 'RGI60-01.01104'\n",
    "    all_snowlines.loc[all_snowlines['site_name']=='SouthCascade', 'site_name'] = 'RGI60-02.18778'\n",
    "    all_snowlines.loc[all_snowlines['site_name']=='Sperry', 'site_name'] = 'RGI60-02.17023'\n",
    "\n",
    "    # save to file\n",
    "    all_snowlines.to_csv('all_snowlines.csv', index=False)\n",
    "    all_aois.to_csv('all_aois.csv', index=False)\n",
    "    print('all_snowlines and all_aois saved to file as CSVs')"
   ]
  },
  {
   "cell_type": "code",
   "execution_count": null,
   "metadata": {
    "colab": {
     "base_uri": "https://localhost:8080/",
     "height": 349
    },
    "executionInfo": {
     "elapsed": 463,
     "status": "ok",
     "timestamp": 1691513542423,
     "user": {
      "displayName": "Rainey Aberle",
      "userId": "06245029574837198852"
     },
     "user_tz": 420
    },
    "id": "pmJMsQNsxk11",
    "outputId": "21349cb2-2ba1-476a-c396-2849cde8f7ce"
   },
   "outputs": [],
   "source": [
    "# -----Display unique subregions and number in each\n",
    "all_aois = all_aois.sort_values(by=['O1Region', 'O2Region']).reset_index(drop=True)\n",
    "unique_subregion_counts = all_aois[['O1Region', 'O2Region']].value_counts().reset_index(name='count')\n",
    "unique_subregion_counts = unique_subregion_counts.sort_values(by=['O1Region', 'O2Region']).reset_index(drop=True)\n",
    "print('Total number of sites with snowlines = ' + str(np.sum(unique_subregion_counts['count'].values)))\n",
    "# grab unique subregions\n",
    "unique_subregions = unique_subregion_counts[['O1Region', 'O2Region']].values\n",
    "unique_subregion_counts"
   ]
  },
  {
   "cell_type": "markdown",
   "metadata": {},
   "source": [
    "## Plot some figures"
   ]
  },
  {
   "cell_type": "code",
   "execution_count": null,
   "metadata": {},
   "outputs": [],
   "source": [
    "# -----Define function for determining name and color for each subregion\n",
    "def determine_subregion_name_color(o1, o2):\n",
    "\n",
    "    if (o1==1.0) and (o2==1.0):\n",
    "        subregion_name, color = 'Brooks Range', 'c'\n",
    "    elif (o1==1.0) and (o2==2.0):\n",
    "        subregion_name, color = 'Alaska Range', '#1f78b4'\n",
    "    elif (o1==1.0) and (o2==3.0):\n",
    "        subregion_name, color = 'Aleutians', '#b2df8a'\n",
    "    elif (o1==1.0) and (o2==4.0):\n",
    "        subregion_name, color = 'W. Chugach Mtns.', '#33a02c'\n",
    "    elif (o1==1.0) and (o2==5.0):\n",
    "        subregion_name, color = 'St. Elias Mtns.', '#fb9a99'\n",
    "    elif (o1==1.0) and (o2==6.0):\n",
    "        subregion_name, color = 'N. Coast Ranges', '#e31a1c'\n",
    "    elif (o1==2.0) and (o2==1.0):\n",
    "        subregion_name, color = 'N. Rockies', '#cab2d6'\n",
    "    elif (o1==2.0) and (o2==2.0):\n",
    "        subregion_name, color = 'N. Cascades', '#fdbf6f'\n",
    "    elif (o1==2.0) and (o2==3.0):\n",
    "        subregion_name, color = 'C. Rockies', '#9657d9'\n",
    "    elif (o1==2.0) and (o2==4.0):\n",
    "        subregion_name, color = 'S. Cascades', '#ff7f00'\n",
    "    elif (o1==2.0) and (o2==5.0):\n",
    "        subregion_name, color = 'S. Rockies', '#6a3d9a'\n",
    "    else:\n",
    "        subregion_name = 'O1:' + o1region + ' O2:' + o2region\n",
    "        color= 'k'\n",
    "        \n",
    "    return subregion_name, color"
   ]
  },
  {
   "cell_type": "markdown",
   "metadata": {},
   "source": [
    "### Plot geographic distribution of all sites"
   ]
  },
  {
   "cell_type": "code",
   "execution_count": null,
   "metadata": {
    "colab": {
     "base_uri": "https://localhost:8080/",
     "height": 961
    },
    "executionInfo": {
     "elapsed": 34646,
     "status": "ok",
     "timestamp": 1690826456229,
     "user": {
      "displayName": "Rainey Aberle",
      "userId": "06245029574837198852"
     },
     "user_tz": 420
    },
    "id": "e39ltxK8AMcK",
    "outputId": "4e027efb-1883-4053-ed02-841d3b16b0a6"
   },
   "outputs": [],
   "source": [
    "fig = plt.figure(figsize=(12,12))\n",
    "ax = plt.subplot(1, 1, 1)\n",
    "crs = 'EPSG:9822' # Albers Equal Conic projection\n",
    "# iterate over unique subregions\n",
    "i=0\n",
    "for o1region, o2region in unique_subregions:\n",
    "        \n",
    "    # grab all_aois in subregion\n",
    "    all_aois_subregion = all_aois.loc[(all_aois['O1Region']==o1region) & (all_aois['O2Region']==o2region)].reset_index(drop=True)\n",
    "    # convert to geopandas GeoDataFrame and reproject\n",
    "    all_aois_subregion_gdf = gpd.GeoDataFrame(all_aois_subregion, geometry='geometry', crs='EPSG:4326')\n",
    "    all_aois_subregion_gdf = all_aois_subregion_gdf.to_crs(crs)\n",
    "    # grab RGI IDs in subregion\n",
    "    ids_subregion = all_aois_subregion['RGIId']\n",
    "    # grab snowlines with matching names\n",
    "    snowlines_subregion = all_snowlines[all_snowlines['site_name'].isin(ids_subregion)]\n",
    "    # determine subregion name and color for plotting\n",
    "    subregion_name, color = determine_subregion_name_color(o1region, o2region)\n",
    "    # iterate over AOIs in subregion\n",
    "    for j in range(0, len(all_aois_subregion)):\n",
    "        # grab polygon\n",
    "        polygon = all_aois_subregion_gdf.iloc[j]['geometry']\n",
    "        # add label on first polygon in region\n",
    "        if j==0:\n",
    "            label = subregion_name + ' (N=' + str(len(all_aois_subregion_gdf)) + ')'\n",
    "        else:\n",
    "            label='_nolegend_'\n",
    "        # plot\n",
    "        ax.plot(*polygon.exterior.xy, color=color, label=label)\n",
    "\n",
    "    i+=1\n",
    "\n",
    "# add basemap\n",
    "ctx.add_basemap(ax=ax, source=ctx.providers.Esri.WorldGrayCanvas, crs=crs, attribution=False)\n",
    "ax.set_xticks([])\n",
    "ax.set_yticks([])\n",
    "ax.legend(loc='upper right', bbox_to_anchor=[1.3, 0.5, 0.2, 0.2])\n",
    "plt.show()\n",
    "\n",
    "# save figure\n",
    "if save_figures:\n",
    "    fig.savefig(figures_out_path + 'study_sites.png', dpi=300, bbox_inches='tight')\n",
    "    print('figure saved to file: ' + figures_out_path + 'study_sites.png')"
   ]
  },
  {
   "cell_type": "markdown",
   "metadata": {},
   "source": [
    "### Plot distributions for site characteristics"
   ]
  },
  {
   "cell_type": "code",
   "execution_count": null,
   "metadata": {},
   "outputs": [],
   "source": [
    "# -----Define parameters to plot\n",
    "params = ['Area', 'Zmed', 'Slope', 'Aspect', 'TermType', 'Surging']\n",
    "units = ['[km$^2$]', '[m.a.s.l.]', '[deg]', '[deg]', '', '']\n",
    "plt.rcParams.update({'font.size':12, 'font.sans-serif':'Arial'})\n",
    "# Iterate over params\n",
    "for i, param in enumerate(params):\n",
    "    \n",
    "    # param specific settings\n",
    "    nbins=10\n",
    "    if param=='TermType':\n",
    "        xticks = [0, 1, 2, 3, 4, 5, 9]\n",
    "        xtick_labels = ['Land-terminating', 'Marine-terminating', 'Lake-terminating', 'Dry calving', \n",
    "                        'Regenerated', 'Shelf-terminating', 'Not assigned']\n",
    "    elif param=='Surging':\n",
    "        xticks = [0, 1, 2, 3, 9]\n",
    "        xtick_labels = ['No evidence', 'Possible', 'Probable', 'Observed', 'Not assigned']\n",
    "    else:\n",
    "        xticks = np.linspace(np.round(np.nanmin(all_aois[param])), np.round(np.nanmax(all_aois[param])), num=nbins-1)\n",
    "    \n",
    "    # plot\n",
    "    fig = plt.figure(figsize=(8,4))\n",
    "    counts, edges, bars = plt.hist(all_aois[param], bins=nbins, edgecolor='white', linewidth=1)\n",
    "    plt.bar_label(bars)\n",
    "    if (param=='TermType') or (param=='Surging'):\n",
    "        plt.xticks(xticks, xtick_labels, rotation=45, ha='right')\n",
    "#     plt.grid()\n",
    "    plt.title(param)\n",
    "    plt.xlabel(units[i])\n",
    "    plt.show()\n"
   ]
  },
  {
   "cell_type": "markdown",
   "metadata": {},
   "source": [
    "### Plot all snowlines, with colors distinguishing by subregion"
   ]
  },
  {
   "cell_type": "code",
   "execution_count": null,
   "metadata": {
    "colab": {
     "base_uri": "https://localhost:8080/",
     "height": 581
    },
    "executionInfo": {
     "elapsed": 1388,
     "status": "ok",
     "timestamp": 1691514137784,
     "user": {
      "displayName": "Rainey Aberle",
      "userId": "06245029574837198852"
     },
     "user_tz": 420
    },
    "id": "oNk6ESVQqkor",
    "outputId": "9b44b5ba-b620-49f3-e808-d6da3026ac3c"
   },
   "outputs": [],
   "source": [
    "plt.rcParams.update({'font.size':16})\n",
    "fig, ax = plt.subplots(1,1,figsize=(16,8))\n",
    "# iterate over unique subregions\n",
    "i=0\n",
    "for o1region, o2region in unique_subregions:\n",
    "    # grab all_aois in subregion\n",
    "    all_aois_subregion = all_aois.loc[(all_aois['O1Region']==o1region) & (all_aois['O2Region']==o2region)].reset_index(drop=True)\n",
    "    # grab RGI IDs in subregion\n",
    "    ids_subregion = all_aois_subregion['RGIId']\n",
    "    # grab snowlines with matching names\n",
    "    snowlines_subregion = all_snowlines[all_snowlines['site_name'].isin(ids_subregion)]\n",
    "    # determine subregion name and color for plotting\n",
    "    subregion_name, color = determine_subregion_name_color(o1region, o2region)\n",
    "    # iterate over AOIs in subregion\n",
    "    for j in range(0, len(all_aois_subregion)):\n",
    "        # plot dummy point for legend\n",
    "        if j==0:\n",
    "            label = subregion_name + ' (N=' + str(len(all_aois_subregion)) + ')'\n",
    "            ax.plot(np.datetime64('2000-01-01'),\n",
    "                    snowlines_subregion['snowline_elevs_median_m'].values[0], 'o',\n",
    "                    markeredgewidth=3, markeredgecolor=color, markerfacecolor='None',\n",
    "                    markersize=10, label=label)\n",
    "        # plot time series\n",
    "        ax.plot(snowlines_subregion['datetime'],\n",
    "                snowlines_subregion['snowline_elevs_median_m'], 'o',\n",
    "                markeredgecolor=color, markerfacecolor='None', markersize=2)\n",
    "\n",
    "    i+=1\n",
    "\n",
    "# adjust axes\n",
    "ax.grid()\n",
    "ax.set_xlim(np.datetime64('2013-04-01'), np.datetime64('2023-11-01'))\n",
    "ax.set_ylabel('Median snowline elevation [m]')\n",
    "ax.legend(loc='center left', bbox_to_anchor=[1.0, 0.4, 0.2, 0.2])\n",
    "plt.show()\n",
    "\n",
    "# save figure\n",
    "if save_figures:\n",
    "    fig.savefig(figures_out_path + 'snowline_timeseries.png', dpi=300, bbox_inches='tight')\n",
    "    print('figure saved to file: ' + figures_out_path + 'snowline_timeseries.png')"
   ]
  },
  {
   "cell_type": "code",
   "execution_count": null,
   "metadata": {
    "colab": {
     "base_uri": "https://localhost:8080/",
     "height": 1000
    },
    "executionInfo": {
     "elapsed": 13869,
     "status": "ok",
     "timestamp": 1690827158037,
     "user": {
      "displayName": "Rainey Aberle",
      "userId": "06245029574837198852"
     },
     "user_tz": 420
    },
    "id": "s_HJW6fEe29x",
    "outputId": "c8369743-c2ce-486e-d32d-1158289f3171"
   },
   "outputs": [],
   "source": [
    "# -----Plot snowline timeseries for each subregion separately\n",
    "# grab unique subregions\n",
    "unique_subregions = unique_subregion_counts[['O1Region', 'O2Region']].values\n",
    "# iterate over unique subregions\n",
    "i=0\n",
    "for o1region, o2region in unique_subregions:\n",
    "    # grab all_aois in subregion\n",
    "    all_aois_subregion = all_aois.loc[(all_aois['O1Region']==o1region) & (all_aois['O2Region']==o2region)].reset_index(drop=True)\n",
    "    # grab RGI IDs in subregion\n",
    "    ids_subregion = all_aois_subregion['RGIId']\n",
    "    # grab snowlines with matching names\n",
    "    snowlines_subregion = all_snowlines[all_snowlines['site_name'].isin(ids_subregion)]\n",
    "    # determine subregion name and color for plotting\n",
    "    subregion_name, color = determine_subregion_name_color(o1region, o2region)\n",
    "    # iterate over AOIs in subregion\n",
    "    fig, ax = plt.subplots(1,1,figsize=(12,8))\n",
    "    # determine title\n",
    "    title = subregion_name + ' (N=' + str(len(all_aois_subregion)) + ')'\n",
    "    # plot\n",
    "    grouped = snowlines_subregion.groupby('site_name')\n",
    "    cmap = plt.cm.viridis\n",
    "    j=0\n",
    "    for key, group in grouped:\n",
    "        group.plot(ax=ax, kind='scatter', x='datetime', y='snowline_elevs_median_m', label=key, color=cmap(j/len(ids_subregion)))\n",
    "        j+=1\n",
    "    ax.grid()\n",
    "    ax.set_ylabel('Median snowline elevation [m]')\n",
    "    ax.set_title(title)\n",
    "    ax.legend(loc='center left', bbox_to_anchor=[1.0, 0.4, 0.2, 0.2])\n",
    "    plt.show()\n",
    "\n",
    "    # save figure\n",
    "    if save_figures:\n",
    "        fig.savefig(figures_out_path + 'snowline_time_series_' + subregion_name + '.png', dpi=300, bbox_inches='tight')\n",
    "\n",
    "    i+=1\n",
    "\n"
   ]
  },
  {
   "cell_type": "markdown",
   "metadata": {},
   "source": [
    "### Plot snowline timeseries with colors distinguishing terrain parameters"
   ]
  },
  {
   "cell_type": "code",
   "execution_count": null,
   "metadata": {
    "colab": {
     "base_uri": "https://localhost:8080/",
     "height": 1000
    },
    "executionInfo": {
     "elapsed": 3471,
     "status": "ok",
     "timestamp": 1690141703679,
     "user": {
      "displayName": "Rainey Aberle",
      "userId": "06245029574837198852"
     },
     "user_tz": 360
    },
    "id": "X9fveAvk4VZu",
    "outputId": "f98e22c6-5519-42e7-a7aa-b0adb9755c7d"
   },
   "outputs": [],
   "source": [
    "# aspect\n",
    "aspect_bins = [[0, 90], [90, 180], [180, 270], [270, 360]]\n",
    "aspect_names = ['N/NW', 'S/SW', 'S/SE', 'N/NE']\n",
    "plt.rcParams.update({'font.size':12})\n",
    "fig, ax = plt.subplots(len(aspect_bins), 1, figsize=(10, 6*len(aspect_bins)))\n",
    "for i, aspect_bin in enumerate(aspect_bins):\n",
    "    # select site names in aspect bin\n",
    "    ids_bin = all_aois.loc[(all_aois['Aspect'] > aspect_bin[0]) & (all_aois['Aspect'] <= aspect_bin[1])]['RGIId']\n",
    "    # grab snowlines with matching names\n",
    "    snowlines_bin = all_snowlines[all_snowlines['site_name'].isin(ids_bin)]\n",
    "    # plot\n",
    "    snowlines_bin.groupby(by='site_name', group_keys=True).plot(ax=ax[i], x='datetime', \n",
    "                                                                y='snowline_elevs_median_m', \n",
    "                                                                kind='scatter', legend=False)\n",
    "    ax[i].grid()\n",
    "    ax[i].set_title(aspect_names[i] + ' aspect')\n",
    "    # turn off xlabel\n",
    "    ax[i].axes.get_xaxis().get_label().set_visible(False)\n",
    "\n",
    "plt.show()"
   ]
  },
  {
   "cell_type": "code",
   "execution_count": null,
   "metadata": {
    "colab": {
     "base_uri": "https://localhost:8080/",
     "height": 1000
    },
    "executionInfo": {
     "elapsed": 4641,
     "status": "ok",
     "timestamp": 1690150673794,
     "user": {
      "displayName": "Rainey Aberle",
      "userId": "06245029574837198852"
     },
     "user_tz": 360
    },
    "id": "Y8wH7aMbBC2w",
    "outputId": "e66a2923-93f5-45e8-e057-707d98393ef1"
   },
   "outputs": [],
   "source": [
    "# plot each subregion with colors differentiating aspect\n",
    "import matplotlib\n",
    "# define colormap for aspect\n",
    "cmap = plt.cm.twilight_shifted\n",
    "\n",
    "# iterate over unique subregions\n",
    "for o1region, o2region in unique_subregions:\n",
    "    # grab all_aois in subregion\n",
    "    all_aois_subregion = all_aois.loc[(all_aois['O1Region']==o1region) & (all_aois['O2Region']==o2region)]\n",
    "    \n",
    "    # grab RGI IDs in subregion\n",
    "    ids_subregion = all_aois_subregion['RGIId']\n",
    "    # set up figure\n",
    "    fig, ax = plt.subplots(1, 1, figsize=(12,6))\n",
    "    # iterate over ids\n",
    "    for ID in ids_subregion.values:\n",
    "        site_aspect = all_aois.loc[all_aois['RGIId']==ID]['Aspect'].values[0]\n",
    "        site_snowlines = all_snowlines.loc[all_snowlines['site_name']==ID]\n",
    "        # plot\n",
    "        ax.plot(site_snowlines['datetime'], site_snowlines['AAR'],\n",
    "                'o', markerfacecolor=cmap(site_aspect/360), markeredgecolor='k', markersize=5)\n",
    "        ax.set_ylabel('Accumulation area ratio')\n",
    "        ax.set_title(subregion_name)\n",
    "        ax.grid(True)\n",
    "        ax.set_xlim(np.datetime64('2013-05-01'), np.datetime64('2022-12-01'))\n",
    "    # add colorbar\n",
    "    fig.colorbar(matplotlib.cm.ScalarMappable(norm=matplotlib.colors.Normalize(vmin=0, vmax=360), cmap=cmap),\n",
    "                 ax=ax, label='Aspect [degrees]', shrink=0.75)\n",
    "    plt.show()"
   ]
  },
  {
   "cell_type": "code",
   "execution_count": null,
   "metadata": {
    "id": "Hmvl6KuxcKBU"
   },
   "outputs": [],
   "source": []
  }
 ],
 "metadata": {
  "colab": {
   "provenance": []
  },
  "kernelspec": {
   "display_name": "snow-cover-mapping",
   "language": "python",
   "name": "snow-cover-mapping"
  },
  "language_info": {
   "codemirror_mode": {
    "name": "ipython",
    "version": 3
   },
   "file_extension": ".py",
   "mimetype": "text/x-python",
   "name": "python",
   "nbconvert_exporter": "python",
   "pygments_lexer": "ipython3",
   "version": "3.11.3"
  }
 },
 "nbformat": 4,
 "nbformat_minor": 4
}
